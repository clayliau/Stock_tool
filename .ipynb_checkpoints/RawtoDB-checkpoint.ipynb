{
 "cells": [
  {
   "cell_type": "markdown",
   "metadata": {},
   "source": [
    "# Database Data Create Tool\n",
    "## 1. Import Module"
   ]
  },
  {
   "cell_type": "code",
   "execution_count": 1,
   "metadata": {
    "collapsed": false
   },
   "outputs": [],
   "source": [
    "from sqlalchemy import create_engine\n",
    "from sqlalchemy.orm import sessionmaker\n",
    "from DB_Setup import Base, FullMarketDailyTrade, SingleStockDaily\n",
    "import datetime"
   ]
  },
  {
   "cell_type": "code",
   "execution_count": 2,
   "metadata": {
    "collapsed": true
   },
   "outputs": [],
   "source": [
    "engine = create_engine('sqlite:///taiwanstock.db')\n",
    "# Bind the engine to the metadata of the Base class so that the\n",
    "# declaratives can be accessed through a DBSession instance\n",
    "Base.metadata.bind = engine\n",
    "DBSession = sessionmaker(bind=engine)\n",
    "# A DBSession() instance establishes all conversations with the database\n",
    "# and represents a \"staging zone\" for all the objects loaded into the\n",
    "# database session object. Any change made against the objects in the\n",
    "# session won't be persisted into the database until you call\n",
    "# session.commit(). If you're not happy about the changes, you can\n",
    "# revert all of them back to the last commit by calling\n",
    "# session.rollback()\n",
    "session = DBSession()"
   ]
  },
  {
   "cell_type": "code",
   "execution_count": 3,
   "metadata": {
    "collapsed": true
   },
   "outputs": [],
   "source": [
    "def createFullMarket(data):\n",
    "    stockDay = FullMarketDailyTrade(tradeDate=data[0], tradeVolume=data[1],\\\n",
    "                                    tradeValue=data[2], transaction=data[3],\\\n",
    "                                    TAIEX=data[4], change=data[5])\n",
    "    try:\n",
    "        session.add(stockDay)\n",
    "        session.commit()\n",
    "    except:\n",
    "        print('This date of data is already existed.')\n",
    "        print(data)\n",
    "        return"
   ]
  },
  {
   "cell_type": "code",
   "execution_count": null,
   "metadata": {
    "collapsed": true
   },
   "outputs": [],
   "source": [
    "def createSingleStock(data):\n",
    "    stockDay = SingleStockDaily(tradeDate=data[0], tradeVolume=data[1], tradeValue=data[2],\\\n",
    "                                openingprice=data[3], highestprice=data[4],\\\n",
    "                                lowestprice=data[5], closingtprice=data[6],\\\n",
    "                                change=data[7], transaction=data[8], stockid=data[9])\n",
    "    try:\n",
    "        session.add(stockDay)\n",
    "        session.commit()\n",
    "    except:\n",
    "        print('This date of data is already existed.')\n",
    "        print(data)\n",
    "        return"
   ]
  },
  {
   "cell_type": "code",
   "execution_count": 4,
   "metadata": {
    "collapsed": false
   },
   "outputs": [],
   "source": [
    "data = [datetime.date(2016, 12, 1), 4136060659, 75155573040, 833131, 9263.53, 22.82]\n",
    "#stockDay = FullMarketDailyTrade(tradeDate=data[0], tradeVolume=data[1], tradeValue=data[2], transaction=data[3], TAIEX=data[4], change=data[5])\n",
    "#session.add(stockDay)\n",
    "#session.commit()\n",
    "createFullMarket(data)"
   ]
  },
  {
   "cell_type": "code",
   "execution_count": null,
   "metadata": {
    "collapsed": true
   },
   "outputs": [],
   "source": []
  }
 ],
 "metadata": {
  "anaconda-cloud": {},
  "kernelspec": {
   "display_name": "Python [conda root]",
   "language": "python",
   "name": "conda-root-py"
  },
  "language_info": {
   "codemirror_mode": {
    "name": "ipython",
    "version": 3
   },
   "file_extension": ".py",
   "mimetype": "text/x-python",
   "name": "python",
   "nbconvert_exporter": "python",
   "pygments_lexer": "ipython3",
   "version": "3.5.2"
  }
 },
 "nbformat": 4,
 "nbformat_minor": 1
}

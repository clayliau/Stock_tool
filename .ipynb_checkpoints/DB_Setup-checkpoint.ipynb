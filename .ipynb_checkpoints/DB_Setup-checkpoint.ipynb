{
 "cells": [
  {
   "cell_type": "markdown",
   "metadata": {},
   "source": [
    "# Database Setup\n",
    "## 1. Import Module"
   ]
  },
  {
   "cell_type": "code",
   "execution_count": 2,
   "metadata": {
    "collapsed": true
   },
   "outputs": [],
   "source": [
    "from sqlalchemy import Column, ForeignKey, Integer, String\n",
    "from sqlalchemy.ext.declarative import declarative_base\n",
    "from sqlalchemy.orm import relationship\n",
    "from sqlalchemy import create_engine\n",
    "from sqlalchemy.types import Boolean, Date, Float\n",
    "\n",
    "Base = declarative_base()"
   ]
  },
  {
   "cell_type": "markdown",
   "metadata": {},
   "source": [
    "## 2. Full Market Daily Trade"
   ]
  },
  {
   "cell_type": "code",
   "execution_count": 3,
   "metadata": {
    "collapsed": true
   },
   "outputs": [],
   "source": [
    "class FullMarketDailyTrade(Base):\n",
    "    __tablename__ = 'fullmarketdailytrade'\n",
    "\n",
    "    id = Column(Integer, primary_key = True)\n",
    "    tradeDate = Column(Date())\n",
    "    tradeVolume = Column(Integer)\n",
    "    tradeValue = Column(Integer)\n",
    "    transaction = Column(Integer)\n",
    "    TAIEX = Column(Float())\n",
    "    change = Column(Float())"
   ]
  },
  {
   "cell_type": "code",
   "execution_count": 5,
   "metadata": {
    "collapsed": false
   },
   "outputs": [
    {
     "name": "stderr",
     "output_type": "stream",
     "text": [
      "C:\\Users\\clayliau\\Anaconda3\\lib\\site-packages\\sqlalchemy\\ext\\declarative\\clsregistry.py:120: SAWarning: This declarative base already contains a class with the same class name and module name as __main__.SingleStockDaily, and will be replaced in the string-lookup table.\n",
      "  item.__name__\n"
     ]
    }
   ],
   "source": [
    "class SingleStockDaily(Base):\n",
    "    __tablename__ = 'singlestockdaily'\n",
    "    \n",
    "    id = Column(Integer, primary_key = True)\n",
    "    tradeDate = Column(Date())\n",
    "    tradeVolume = Column(Integer)\n",
    "    tradeValue = Column(Integer)\n",
    "    openingprice = Column(Float())\n",
    "    highestprice = Column(Float())\n",
    "    lowestprice = Column(Float())\n",
    "    closingtprice = Column(Float())\n",
    "    change = Column(Float())\n",
    "    transaction = Column(Integer)"
   ]
  },
  {
   "cell_type": "code",
   "execution_count": null,
   "metadata": {
    "collapsed": true
   },
   "outputs": [],
   "source": [
    "engine = create_engine('sqlite:///taiwanstock.db')\n",
    "Base.metadata.create_all(engine)"
   ]
  }
 ],
 "metadata": {
  "kernelspec": {
   "display_name": "Python [conda root]",
   "language": "python",
   "name": "conda-root-py"
  },
  "language_info": {
   "codemirror_mode": {
    "name": "ipython",
    "version": 3
   },
   "file_extension": ".py",
   "mimetype": "text/x-python",
   "name": "python",
   "nbconvert_exporter": "python",
   "pygments_lexer": "ipython3",
   "version": "3.5.2"
  }
 },
 "nbformat": 4,
 "nbformat_minor": 1
}

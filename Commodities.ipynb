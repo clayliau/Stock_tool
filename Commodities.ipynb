{
 "cells": [
  {
   "cell_type": "code",
   "execution_count": 1,
   "metadata": {
    "collapsed": true
   },
   "outputs": [],
   "source": [
    "import pandas as pd\n",
    "from sqlalchemy import create_engine\n",
    "import numpy as np\n",
    "import urllib.request\n",
    "import datetime\n",
    "engine = create_engine('sqlite:///taiwanstock.db')"
   ]
  },
  {
   "cell_type": "markdown",
   "metadata": {},
   "source": [
    "## Download monthly world commodities excel from World Bank"
   ]
  },
  {
   "cell_type": "code",
   "execution_count": 2,
   "metadata": {
    "collapsed": false
   },
   "outputs": [
    {
     "data": {
      "text/plain": [
       "('misc/commodities_monthly_raw.xlsx',\n",
       " <http.client.HTTPMessage at 0x206d13b5f28>)"
      ]
     },
     "execution_count": 2,
     "metadata": {},
     "output_type": "execute_result"
    }
   ],
   "source": [
    "commodities_url = 'http://pubdocs.worldbank.org/en/561011486076393416/CMO-Historical-Data-Monthly.xlsx'\n",
    "misc_dir = 'misc/'\n",
    "saveFile = 'commodities_monthly_raw.xlsx'\n",
    "save_dir = misc_dir + saveFile\n",
    "urllib.request.urlretrieve(commodities_url, save_dir)"
   ]
  },
  {
   "cell_type": "markdown",
   "metadata": {},
   "source": [
    "## Read data from excel to Pandas dataframe\n",
    "* Change the index to number\n",
    "* modify the original date format to python datetime formate"
   ]
  },
  {
   "cell_type": "code",
   "execution_count": 3,
   "metadata": {
    "collapsed": false
   },
   "outputs": [],
   "source": [
    "commodities = pd.read_excel('misc/commodities_monthly_raw.xlsx'\\\n",
    "                            , sheetname='Monthly Prices'\\\n",
    "                           , header=6, index_col=None)\n",
    "commodities=commodities.replace(to_replace='..', value=np.nan)\n",
    "commodities['date']=commodities.index\n",
    "commodities.index = range(len(commodities))\n",
    "for i, data in enumerate(commodities['date']):\n",
    "    date = data.replace('M','')\n",
    "    date = datetime.datetime.strptime(date, \"%Y%m\").date()\n",
    "    commodities.loc[i, 'date'] = date"
   ]
  },
  {
   "cell_type": "markdown",
   "metadata": {},
   "source": [
    "## Arrange the table to new dataframe for storing into database"
   ]
  },
  {
   "cell_type": "code",
   "execution_count": 4,
   "metadata": {
    "collapsed": false
   },
   "outputs": [],
   "source": [
    "#df = pd.DataFrame(columns=['date', 'commodity', 'price'])\n",
    "columns = ['date', 'commodity', 'price']\n",
    "dataList = list()\n",
    "cols = commodities.columns.tolist()\n",
    "for commodity in cols:\n",
    "    if commodity == 'date':\n",
    "        break\n",
    "    else:\n",
    "        for i, date in enumerate(commodities['date']):\n",
    "            price = commodities.loc[i, commodity]\n",
    "            tempList = [date, commodity, price]\n",
    "            dataList.append(tempList)\n",
    "npData = np.asarray(dataList)\n",
    "df = pd.DataFrame(columns=['date', 'commodity', 'price'], data=npData)"
   ]
  },
  {
   "cell_type": "markdown",
   "metadata": {},
   "source": [
    "## Store data into database"
   ]
  },
  {
   "cell_type": "code",
   "execution_count": 5,
   "metadata": {
    "collapsed": false
   },
   "outputs": [],
   "source": [
    "df.to_sql('worldcommodities',con=engine,if_exists='replace')"
   ]
  }
 ],
 "metadata": {
  "anaconda-cloud": {},
  "kernelspec": {
   "display_name": "Python [conda env:python35]",
   "language": "python",
   "name": "conda-env-python35-py"
  },
  "language_info": {
   "codemirror_mode": {
    "name": "ipython",
    "version": 3
   },
   "file_extension": ".py",
   "mimetype": "text/x-python",
   "name": "python",
   "nbconvert_exporter": "python",
   "pygments_lexer": "ipython3",
   "version": "3.5.2"
  }
 },
 "nbformat": 4,
 "nbformat_minor": 1
}

{
 "cells": [
  {
   "cell_type": "markdown",
   "metadata": {},
   "source": [
    "# Raw Data Collector\n",
    "## 1. Import Modules"
   ]
  },
  {
   "cell_type": "code",
   "execution_count": 1,
   "metadata": {
    "collapsed": false
   },
   "outputs": [],
   "source": [
    "from http.client import HTTPConnection, HTTPSConnection\n",
    "import urllib.parse\n",
    "import re\n",
    "import datetime"
   ]
  },
  {
   "cell_type": "markdown",
   "metadata": {},
   "source": [
    "## 2. Functions \n",
    "### a. Internet Data Query\n",
    "* Using HTML POST method"
   ]
  },
  {
   "cell_type": "code",
   "execution_count": 2,
   "metadata": {
    "collapsed": false
   },
   "outputs": [],
   "source": [
    "def QueryDataPost(urlDomain, urlReq, bodyParams, headers={}, httpType='http'):\n",
    "    if httpType is 'http':\n",
    "        conn = HTTPConnection(urlDomain)\n",
    "    elif httpType is 'https':\n",
    "        conn = HTTPSConnection(urlDomain)\n",
    "    #params = urllib.parse.urlencode(bodyParams)\n",
    "    params = bodyParams\n",
    "    conn.request('POST', urlReq, params, headers)\n",
    "    connResp = conn.getresponse()\n",
    "    connReadData = connResp.read().decode('utf-8', 'ignore')\n",
    "    return connReadData"
   ]
  },
  {
   "cell_type": "markdown",
   "metadata": {},
   "source": [
    "### b. Easy List Printer"
   ]
  },
  {
   "cell_type": "code",
   "execution_count": 3,
   "metadata": {
    "collapsed": true
   },
   "outputs": [],
   "source": [
    "def printList(dataList):\n",
    "    for items in dataList:\n",
    "        print(items)"
   ]
  },
  {
   "cell_type": "markdown",
   "metadata": {},
   "source": [
    "### c. Daily Stock Data Extractor"
   ]
  },
  {
   "cell_type": "code",
   "execution_count": 4,
   "metadata": {
    "collapsed": false
   },
   "outputs": [],
   "source": [
    "def stockDayDataExtract(stockDataList):\n",
    "    dataRe = r'^\"\\s*\\d+/*\\d+/*\\d+\"'\n",
    "    floatRe = r'[+-]*\\d+\\.\\d+'\n",
    "    dateRe = r'\\d+/\\d+/\\d+'\n",
    "    dataList = list()\n",
    "    for item in stockDataList:\n",
    "        if re.match(dataRe,item):\n",
    "            dataList.append(item.split('\",\"'))\n",
    "    for i, items in enumerate(dataList):\n",
    "        for j, data in enumerate(items):\n",
    "            data = data.replace('\"','')\n",
    "            data = data.replace(',','')\n",
    "            data = data.replace(' ','')\n",
    "            if data.isdigit():\n",
    "                data = int(data)\n",
    "            elif re.match(floatRe, data):\n",
    "                data = float(data)\n",
    "            elif re.match(dateRe, data):\n",
    "                y = int(data.split('/')[0])\n",
    "                m = int(data.split('/')[1])\n",
    "                d = int(data.split('/')[2])\n",
    "                data = datetime.date(y, m, d)\n",
    "            #print(data)\n",
    "            dataList[i][j] = data\n",
    "    return dataList"
   ]
  },
  {
   "cell_type": "code",
   "execution_count": 5,
   "metadata": {
    "collapsed": true
   },
   "outputs": [],
   "source": [
    "def addStockID(data, ID):\n",
    "    newDataList = list()\n",
    "    for listdata in data:\n",
    "        listdata.append(ID)\n",
    "        newDataList.append(listdata)\n",
    "    return newDataList"
   ]
  },
  {
   "cell_type": "code",
   "execution_count": 10,
   "metadata": {
    "collapsed": true
   },
   "outputs": [],
   "source": [
    "def singleStockDayParams(year, month, stockNo):\n",
    "    return 'download=csv&query_year=%d&query_month=%d&CO_ID=%d' % (year, month, stockNo)"
   ]
  },
  {
   "cell_type": "code",
   "execution_count": null,
   "metadata": {
    "collapsed": true
   },
   "outputs": [],
   "source": [
    "def fulMarketTradeParams(year, month):\n",
    "    return 'download=csv&query_year=%d&query_month=%d' % (year, month)\n",
    "    "
   ]
  },
  {
   "cell_type": "markdown",
   "metadata": {},
   "source": [
    "## 3. Variables"
   ]
  },
  {
   "cell_type": "code",
   "execution_count": 7,
   "metadata": {
    "collapsed": false
   },
   "outputs": [],
   "source": [
    "#####Changeable Variables#####\n",
    "year = 2016\n",
    "month = 12\n",
    "stockNo = 2454\n",
    "\n",
    "#####Main Variables#####\n",
    "downloadType = 'csv'\n",
    "tesDomain = 'www.tse.com.tw'\n",
    "headers = {\"Content-type\": \"application/x-www-form-urlencoded\",\"Accept\": \"text/plain\"}\n",
    "fulMarketTradeTitle = [\"Date\",\"Trade Volume\",\"Trade Value\",\"Transaction\",\"TAIEX\",\"Change\"]\n",
    "singleStockDayTitle = [\"Date\",\"Trade Volume\",\"Trade Value\",\"Opening Price\",\"Highest Price\",\\\n",
    "                       \"Lowest Price\",\"Closing Price\",\"Change\",\"Transaction\"]\n",
    "\n",
    "fulMarketTradeAPI = '/en/trading/exchange/FMTQIK/FMTQIK.php'\n",
    "singleStocDaykAPI = '/en/trading/exchange/STOCK_DAY/STOCK_DAYMAIN.php'\n",
    "#fulMarketTradeParams = 'download=csv&query_year=%d&query_month=%d' % (year, month)\n",
    "#singleStockDayParams = 'download=csv&query_year=%d&query_month=%d&CO_ID=%d' % (year, month, stockNo)\n"
   ]
  },
  {
   "cell_type": "markdown",
   "metadata": {},
   "source": [
    "# %%%Code Tester%%%"
   ]
  },
  {
   "cell_type": "code",
   "execution_count": 11,
   "metadata": {
    "collapsed": false
   },
   "outputs": [
    {
     "name": "stdout",
     "output_type": "stream",
     "text": [
      "[datetime.date(2016, 1, 4), 5433622, 1343002807, 251.0, 252.0, 245.0, 245.0, -5.0, 3637, 2454]\n",
      "[datetime.date(2016, 1, 5), 4992995, 1219940780, 245.0, 247.0, 242.0, 242.5, -2.5, 3444, 2454]\n",
      "[datetime.date(2016, 1, 6), 18471361, 4200025030, 242.0, 242.5, 220.0, 227.0, -15.5, 11874, 2454]\n",
      "[datetime.date(2016, 1, 7), 21538233, 4610941067, 225.5, 226.0, 205.0, 206.0, -21.0, 14136, 2454]\n",
      "[datetime.date(2016, 1, 8), 15267260, 3225534400, 202.0, 217.0, 202.0, 213.5, 7.5, 10104, 2454]\n",
      "[datetime.date(2016, 1, 11), 10917308, 2252142680, 209.0, 210.5, 203.5, 209.0, -4.5, 7129, 2454]\n",
      "[datetime.date(2016, 1, 12), 9110929, 1891153232, 210.0, 211.5, 203.0, 206.5, -2.5, 6354, 2454]\n",
      "[datetime.date(2016, 1, 13), 10219356, 2115555904, 210.0, 210.5, 204.0, 206.5, 0.0, 6579, 2454]\n",
      "[datetime.date(2016, 1, 14), 14232965, 2856865650, 201.5, 208.0, 195.5, 208.0, 1.5, 8463, 2454]\n",
      "[datetime.date(2016, 1, 15), 10866894, 2232307164, 210.0, 212.0, 200.5, 205.0, -3.0, 6615, 2454]\n",
      "[datetime.date(2016, 1, 18), 7493293, 1550621823, 201.0, 211.5, 200.0, 210.0, 5.0, 5468, 2454]\n",
      "[datetime.date(2016, 1, 19), 10318781, 2248842064, 210.0, 221.5, 209.0, 216.5, 6.5, 6871, 2454]\n",
      "[datetime.date(2016, 1, 20), 7062199, 1493019989, 215.5, 215.5, 210.0, 210.0, -6.5, 4869, 2454]\n",
      "[datetime.date(2016, 1, 21), 5104788, 1077702768, 213.0, 214.0, 209.5, 210.0, 0.0, 3183, 2454]\n",
      "[datetime.date(2016, 1, 22), 4309834, 919306642, 213.5, 215.5, 211.5, 212.0, 2.0, 3016, 2454]\n",
      "[datetime.date(2016, 1, 25), 3730305, 803536575, 216.0, 217.0, 214.0, 214.5, 2.5, 2766, 2454]\n",
      "[datetime.date(2016, 1, 26), 5491206, 1150832760, 211.0, 212.0, 207.5, 209.0, -5.5, 3823, 2454]\n",
      "[datetime.date(2016, 1, 27), 2178569, 459538059, 211.0, 212.5, 210.0, 211.0, 2.0, 1666, 2454]\n",
      "[datetime.date(2016, 1, 28), 7238729, 1511655861, 208.0, 211.5, 207.5, 208.0, -3.0, 4444, 2454]\n",
      "[datetime.date(2016, 1, 29), 13311760, 2787648640, 206.5, 215.0, 201.5, 214.0, 6.0, 7732, 2454]\n",
      "[datetime.date(2016, 1, 30), 6247911, 1359253598, 213.0, 221.0, 212.0, 217.5, 3.5, 4520, 2454]\n",
      "[datetime.date(2016, 2, 1), 9398873, 1998462330, 216.5, 216.5, 209.5, 210.0, -7.5, 6287, 2454]\n",
      "[datetime.date(2016, 2, 2), 19720518, 4000330316, 194.0, 214.0, 193.5, 212.0, 2.0, 12211, 2454]\n",
      "[datetime.date(2016, 2, 3), 15642773, 3167807019, 206.5, 208.5, 200.0, 200.0, -12.0, 10257, 2454]\n",
      "[datetime.date(2016, 2, 15), 9836852, 2024077420, 203.0, 208.0, 202.5, 205.5, 5.5, 5952, 2454]\n",
      "[datetime.date(2016, 2, 16), 10086684, 2124159008, 208.5, 213.0, 207.0, 211.5, 6.0, 5764, 2454]\n",
      "[datetime.date(2016, 2, 17), 8867628, 1882142618, 213.5, 215.0, 210.0, 210.0, -1.5, 4572, 2454]\n",
      "[datetime.date(2016, 2, 18), 10877720, 2368592400, 214.0, 220.0, 213.0, 220.0, 10.0, 7436, 2454]\n",
      "[datetime.date(2016, 2, 19), 5659031, 1247684851, 222.0, 223.0, 218.0, 220.5, 0.5, 4137, 2454]\n",
      "[datetime.date(2016, 2, 22), 10820387, 2466371123, 222.5, 230.5, 221.5, 229.0, 8.5, 7241, 2454]\n",
      "[datetime.date(2016, 2, 23), 8327237, 1916562747, 231.5, 232.0, 228.0, 231.0, 2.0, 5000, 2454]\n",
      "[datetime.date(2016, 2, 24), 5333929, 1212513883, 230.0, 230.0, 226.0, 227.0, -4.0, 3567, 2454]\n",
      "[datetime.date(2016, 2, 25), 7733392, 1801341228, 230.0, 235.0, 229.0, 234.5, 7.5, 5452, 2454]\n",
      "[datetime.date(2016, 2, 26), 6121398, 1435824030, 234.0, 237.5, 232.5, 236.0, 1.5, 3855, 2454]\n"
     ]
    }
   ],
   "source": [
    "#stockData = QueryDataPost(tesDomain, fulMarketTradeAPI, fulMarketTradeParams, headers)\n",
    "#stockDataList = stockData.split('\\n')\n",
    "for month in range(1,3):\n",
    "    MediatekStock = QueryDataPost(tesDomain, singleStocDaykAPI, singleStockDayParams(year, month, stockNo), headers)\n",
    "    MediatekStockList = MediatekStock.split('\\n')\n",
    "#printList(stockDataList)\n",
    "    fullstock = stockDayDataExtract(MediatekStockList)\n",
    "    newData = addStockID(fullstock, stockNo)\n",
    "    printList(newData)"
   ]
  },
  {
   "cell_type": "markdown",
   "metadata": {},
   "source": [
    "# Appendix"
   ]
  },
  {
   "cell_type": "markdown",
   "metadata": {},
   "source": [
    "## Test Code"
   ]
  },
  {
   "cell_type": "code",
   "execution_count": 47,
   "metadata": {
    "collapsed": false
   },
   "outputs": [
    {
     "name": "stdout",
     "output_type": "stream",
     "text": [
      "106~02 T (A)\n",
      "\"\",\"Ѽ\",\"B\",\"浧\",\"oq[vѻ\",\"^I\"\n",
      "\" 106/02/02\",\"5,119,534,614\",\"147,930,853,630\",\"1,131,546\",\"9,428.97\",\"-18.98\",\n",
      "\" 106/02/03\",\"5,068,371,711\",\"102,335,722,986\",\"1,056,855\",\"9,455.56\",\"26.59\",\n",
      "\" 106/02/06\",\"5,510,906,552\",\"102,352,501,152\",\"1,076,125\",\"9,538.01\",\"82.45\",\n",
      "\" 106/02/07\",\"4,932,873,379\",\"95,709,593,373\",\"988,506\",\"9,554.56\",\"16.55\",\n",
      "\" 106/02/08\",\"5,300,856,389\",\"110,729,308,207\",\"1,082,850\",\"9,543.25\",\"-11.31\",\n",
      "\" 106/02/09\",\"5,264,593,609\",\"106,237,084,984\",\"1,038,404\",\"9,590.18\",\"46.93\",\n",
      "\" 106/02/10\",\"6,240,806,015\",\"136,811,826,048\",\"1,209,286\",\"9,665.59\",\"75.41\",\n",
      "\" 106/02/13\",\"5,255,562,269\",\"101,177,702,355\",\"1,023,598\",\"9,710.32\",\"44.73\",\n",
      "\" 106/02/14\",\"5,531,133,656\",\"113,724,121,218\",\"1,072,534\",\"9,718.78\",\"8.46\",\n",
      "\" 106/02/15\",\"5,748,794,719\",\"117,918,064,389\",\"1,165,369\",\"9,799.76\",\"80.98\",\n",
      "\" 106/02/16\",\"5,167,818,860\",\"108,303,272,962\",\"1,033,581\",\"9,771.25\",\"-28.51\",\n",
      "\" 106/02/17\",\"4,358,105,024\",\"95,178,870,089\",\"916,682\",\"9,759.76\",\"-11.49\",\n",
      "\" 106/02/18\",\"3,411,356,161\",\"61,980,819,056\",\"664,672\",\"9,779.92\",\"20.16\",\n",
      "\" 106/02/20\",\"4,750,607,829\",\"97,817,579,999\",\"996,037\",\"9,753.20\",\"-26.72\",\n",
      "\" 106/02/21\",\"4,604,650,193\",\"90,064,360,265\",\"935,626\",\"9,763.93\",\"10.73\",\n",
      "\" 106/02/22\",\"4,853,832,134\",\"101,274,785,349\",\"975,734\",\"9,778.78\",\"14.85\",\n",
      "\" 106/02/23\",\"4,655,622,523\",\"101,065,671,309\",\"966,823\",\"9,769.31\",\"-9.47\",\n",
      "\" 106/02/24\",\"4,221,089,121\",\"92,653,105,234\",\"887,717\",\"9,750.47\",\"-18.84\",\n",
      "\"G\"\n",
      "\"1. έpTtjLBsѡBLwιdBAtBʡC\n",
      "\"2. ~]tH^ȫYHqU330iHIsOײv[JBC\n",
      "\n"
     ]
    }
   ],
   "source": [
    "url_req = '/ch/trading/exchange/FMTQIK/FMTQIK.php'\n",
    "params = urllib.parse.urlencode({'download':'csv', 'query_year':2017, 'query_month':2})\n",
    "headers = {\"Content-type\": \"application/x-www-form-urlencoded\",\"Accept\": \"text/plain\"}\n",
    "conn = HTTPConnection('www.tse.com.tw')\n",
    "web = conn.request('POST', url_req, params, headers)\n",
    "abc = conn.getresponse()\n",
    "d = abc.read().decode('utf-8', 'ignore')\n",
    "print(d)"
   ]
  },
  {
   "cell_type": "code",
   "execution_count": 3,
   "metadata": {
    "collapsed": true
   },
   "outputs": [],
   "source": [
    "import urllib.request"
   ]
  },
  {
   "cell_type": "code",
   "execution_count": 8,
   "metadata": {
    "collapsed": false
   },
   "outputs": [
    {
     "name": "stdout",
     "output_type": "stream",
     "text": [
      "http://www.tse.com.tw/ch/trading/exchange/FMTQIK/FMTQIK.php?download=csv&query_year=2017&query_month=1\n",
      "http://www.tse.com.tw/ch/trading/exchange/FMTQIK/FMTQIK.php?download=csv&query_year=2017&query_month=2\n"
     ]
    }
   ],
   "source": [
    "fullmarket_api = 'http://www.tse.com.tw/ch/trading/exchange/FMTQIK/FMTQIK.php'\n",
    "for month in range(1,3):\n",
    "    for year in range(2017,2018):\n",
    "        fullmarket_query = 'download=csv&query_year=%d&query_month=%d' % (year, month)\n",
    "        fullmarket_url = fullmarket_api + '?' + fullmarket_query\n",
    "        print(fullmarket_url)\n",
    "        saveFile = str(year) + str(month) + '.csv'\n",
    "        #urllib.request.urlretrieve(fullmarket_url, saveFile)"
   ]
  },
  {
   "cell_type": "code",
   "execution_count": null,
   "metadata": {
    "collapsed": true
   },
   "outputs": [],
   "source": [
    "from http.client import HTTPConnection\n",
    "import urllib.parse"
   ]
  },
  {
   "cell_type": "code",
   "execution_count": 62,
   "metadata": {
    "collapsed": false
   },
   "outputs": [
    {
     "name": "stdout",
     "output_type": "stream",
     "text": [
      "[datetime.date(2016, 1, 4), 3828317506, 77036676791, 823702, 8114.26, -223.8]\n",
      "[datetime.date(2016, 1, 5), 4174711678, 80349248930, 835646, 8075.11, -39.15]\n",
      "[datetime.date(2016, 1, 6), 4862380750, 99143623931, 944604, 7990.39, -84.72]\n",
      "[datetime.date(2016, 1, 7), 5920713736, 117577039714, 1151598, 7852.06, -138.33]\n",
      "[datetime.date(2016, 1, 8), 4534181205, 92853774729, 859799, 7893.97, 41.91]\n",
      "[datetime.date(2016, 1, 11), 4324346686, 85321943005, 864273, 7788.42, -105.55]\n",
      "[datetime.date(2016, 1, 12), 4774778088, 86552474918, 878969, 7768.45, -19.97]\n",
      "[datetime.date(2016, 1, 13), 4191855350, 76588652185, 785161, 7824.61, 56.16]\n",
      "[datetime.date(2016, 1, 14), 4276900082, 81779081768, 843642, 7742.88, -81.73]\n",
      "[datetime.date(2016, 1, 15), 4228452132, 90430983043, 834866, 7762.01, 19.13]\n",
      "[datetime.date(2016, 1, 18), 4556531786, 81693572616, 899532, 7811.18, 49.17]\n",
      "[datetime.date(2016, 1, 19), 4401843015, 74328444326, 777581, 7854.88, 43.7]\n",
      "[datetime.date(2016, 1, 20), 4995793415, 89909264962, 934145, 7699.12, -155.76]\n",
      "[datetime.date(2016, 1, 21), 4228018052, 73757813283, 766878, 7664.01, -35.11]\n",
      "[datetime.date(2016, 1, 22), 3770515717, 69411719214, 735234, 7756.18, 92.17]\n",
      "[datetime.date(2016, 1, 25), 3916387295, 69661237574, 721242, 7894.15, 137.97]\n",
      "[datetime.date(2016, 1, 26), 3725690246, 62349440613, 663929, 7828.67, -65.48]\n",
      "[datetime.date(2016, 1, 27), 3921538073, 70341506723, 704137, 7849.83, 21.16]\n",
      "[datetime.date(2016, 1, 28), 4225736859, 79651114076, 757225, 7905.1, 55.27]\n",
      "[datetime.date(2016, 1, 29), 5887199015, 113463518980, 991000, 8080.6, 175.5]\n",
      "[datetime.date(2016, 1, 30), 4060926553, 62496769696, 667653, 8145.21, 64.61]\n"
     ]
    }
   ],
   "source": [
    "import re\n",
    "dataRe = r'^\"\\s*\\d+/\\d+/\\d+\"'\n",
    "floatRe = r'[+-]*\\d+\\.\\d+'\n",
    "dateRe = r'\\d+/\\d+/\\d+'\n",
    "dataList = list()\n",
    "for item in stockDataList:\n",
    "    if re.match(dataRe,item):\n",
    "        #print(item)\n",
    "        dataList.append(item.split('\",\"'))\n",
    "for i, items in enumerate(dataList):\n",
    "    for j, data in enumerate(items):\n",
    "        data = data.replace('\"','')\n",
    "        data = data.replace(',','')\n",
    "        data = data.replace(' ','')\n",
    "        if data.isdigit():\n",
    "            data = int(data)\n",
    "        elif re.match(floatRe, data):\n",
    "            data = float(data)\n",
    "        elif re.match(dateRe, data):\n",
    "            y = int(data.split('/')[0])+1911\n",
    "            m = int(data.split('/')[1])\n",
    "            d = int(data.split('/')[2])\n",
    "            data = datetime.date(y, m, d)\n",
    "        #print(data)\n",
    "        dataList[i][j] = data\n",
    "for items in dataList:\n",
    "    print(items)"
   ]
  },
  {
   "cell_type": "code",
   "execution_count": 30,
   "metadata": {
    "collapsed": false
   },
   "outputs": [
    {
     "name": "stdout",
     "output_type": "stream",
     "text": [
      "aaaaaaaaa\n"
     ]
    }
   ],
   "source": [
    "b = 'aaaaaaaaa'\n",
    "b.replace('a','b')\n",
    "print(b)"
   ]
  },
  {
   "cell_type": "code",
   "execution_count": 61,
   "metadata": {
    "collapsed": false
   },
   "outputs": [
    {
     "name": "stdout",
     "output_type": "stream",
     "text": [
      "2016-01-04\n"
     ]
    }
   ],
   "source": [
    "import datetime\n",
    "a = '105/01/04'\n",
    "dateRe = r'\\d+/\\d+/\\d+'\n",
    "re.match(dateRe,a)\n",
    "y = int(a.split('/')[0])+1911\n",
    "m = int(a.split('/')[1])\n",
    "d = int(a.split('/')[2])\n",
    "dateformat = datetime.date(y, m, d)\n",
    "\n",
    "print(dateformat)\n"
   ]
  },
  {
   "cell_type": "code",
   "execution_count": 58,
   "metadata": {
    "collapsed": false
   },
   "outputs": [
    {
     "name": "stdout",
     "output_type": "stream",
     "text": [
      "2011-01-20\n"
     ]
    }
   ],
   "source": []
  },
  {
   "cell_type": "code",
   "execution_count": null,
   "metadata": {
    "collapsed": true
   },
   "outputs": [],
   "source": []
  }
 ],
 "metadata": {
  "anaconda-cloud": {},
  "kernelspec": {
   "display_name": "Python [conda root]",
   "language": "python",
   "name": "conda-root-py"
  },
  "language_info": {
   "codemirror_mode": {
    "name": "ipython",
    "version": 3
   },
   "file_extension": ".py",
   "mimetype": "text/x-python",
   "name": "python",
   "nbconvert_exporter": "python",
   "pygments_lexer": "ipython3",
   "version": "3.5.2"
  }
 },
 "nbformat": 4,
 "nbformat_minor": 1
}

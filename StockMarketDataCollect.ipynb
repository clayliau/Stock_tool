{
 "cells": [
  {
   "cell_type": "markdown",
   "metadata": {},
   "source": [
    "# Raw Data Collector\n",
    "## 1. Import Modules"
   ]
  },
  {
   "cell_type": "code",
   "execution_count": 1,
   "metadata": {
    "collapsed": false
   },
   "outputs": [],
   "source": [
    "from http.client import HTTPConnection, HTTPSConnection\n",
    "import urllib.parse\n",
    "import re\n",
    "import datetime\n",
    "from sqlalchemy import create_engine\n",
    "from sqlalchemy.orm import sessionmaker\n",
    "from DB_Setup import Base, FullMarketDailyTrade, SingleStockDaily, StockNameID\n",
    "import datetime"
   ]
  },
  {
   "cell_type": "markdown",
   "metadata": {},
   "source": [
    "## 2. Connection with Database"
   ]
  },
  {
   "cell_type": "code",
   "execution_count": 2,
   "metadata": {
    "collapsed": false
   },
   "outputs": [],
   "source": [
    "engine = create_engine('sqlite:///taiwanstock.db')\n",
    "# Bind the engine to the metadata of the Base class so that the\n",
    "# declaratives can be accessed through a DBSession instance\n",
    "Base.metadata.bind = engine\n",
    "DBSession = sessionmaker(bind=engine)\n",
    "# A DBSession() instance establishes all conversations with the database\n",
    "# and represents a \"staging zone\" for all the objects loaded into the\n",
    "# database session object. Any change made against the objects in the\n",
    "# session won't be persisted into the database until you call\n",
    "# session.commit(). If you're not happy about the changes, you can\n",
    "# revert all of them back to the last commit by calling\n",
    "# session.rollback()\n",
    "session = DBSession()"
   ]
  },
  {
   "cell_type": "markdown",
   "metadata": {},
   "source": [
    "## 3. Functions \n",
    "### a. Internet Data Query\n",
    "* Using HTML POST method to scrape data on internet"
   ]
  },
  {
   "cell_type": "code",
   "execution_count": 3,
   "metadata": {
    "collapsed": false
   },
   "outputs": [],
   "source": [
    "def QueryDataPost(urlDomain, urlReq, bodyParams, headers={}, httpType='http'):\n",
    "    if httpType is 'http':\n",
    "        conn = HTTPConnection(urlDomain)\n",
    "    elif httpType is 'https':\n",
    "        conn = HTTPSConnection(urlDomain)\n",
    "    #params = urllib.parse.urlencode(bodyParams)\n",
    "    params = bodyParams\n",
    "    conn.request('POST', urlReq, params, headers)\n",
    "    connResp = conn.getresponse()\n",
    "    connReadData = connResp.read().decode('utf-8', 'ignore')\n",
    "    return connReadData"
   ]
  },
  {
   "cell_type": "markdown",
   "metadata": {},
   "source": [
    "### b. Easy List Printer"
   ]
  },
  {
   "cell_type": "code",
   "execution_count": 4,
   "metadata": {
    "collapsed": true
   },
   "outputs": [],
   "source": [
    "def printList(dataList):\n",
    "    for items in dataList:\n",
    "        print(items)"
   ]
  },
  {
   "cell_type": "markdown",
   "metadata": {},
   "source": [
    "### c. Daily Stock Data Extractor"
   ]
  },
  {
   "cell_type": "code",
   "execution_count": 5,
   "metadata": {
    "collapsed": false
   },
   "outputs": [],
   "source": [
    "def stockDayDataExtract(stockDataList):\n",
    "    dataRe = r'^\"\\s*\\d+/*\\d+/*\\d+\"'\n",
    "    floatRe = r'[+-]*\\d+\\.\\d+'\n",
    "    dateRe = r'\\d+/\\d+/\\d+'\n",
    "    specialData = 'X0.00'\n",
    "    dataList = list()\n",
    "    for item in stockDataList:\n",
    "        if re.match(dataRe,item):\n",
    "            dataList.append(item.split('\",\"'))\n",
    "    for i, items in enumerate(dataList):\n",
    "        for j, data in enumerate(items):\n",
    "            data = data.replace('\"','')\n",
    "            data = data.replace(',','')\n",
    "            data = data.replace(' ','')\n",
    "            if data.isdigit():\n",
    "                data = int(data)\n",
    "            elif re.match(floatRe, data):\n",
    "                data = float(data)\n",
    "            elif re.match(dateRe, data):\n",
    "                y = int(data.split('/')[0])\n",
    "                m = int(data.split('/')[1])\n",
    "                d = int(data.split('/')[2])\n",
    "                data = datetime.date(y, m, d)\n",
    "            elif data == specialData:\n",
    "                data = 0\n",
    "            #print(data)\n",
    "            dataList[i][j] = data\n",
    "    return dataList"
   ]
  },
  {
   "cell_type": "markdown",
   "metadata": {},
   "source": [
    "### d. Add StockID for SingleStock"
   ]
  },
  {
   "cell_type": "code",
   "execution_count": 6,
   "metadata": {
    "collapsed": true
   },
   "outputs": [],
   "source": [
    "def addStockID(data, ID):\n",
    "    newDataList = list()\n",
    "    for listdata in data:\n",
    "        listdata.append(ID)\n",
    "        newDataList.append(listdata)\n",
    "    return newDataList"
   ]
  },
  {
   "cell_type": "markdown",
   "metadata": {},
   "source": [
    "### e. HTML Parameters of SingleStock"
   ]
  },
  {
   "cell_type": "code",
   "execution_count": 7,
   "metadata": {
    "collapsed": true
   },
   "outputs": [],
   "source": [
    "def singleStockDayParams(year, month, stockNo):\n",
    "    return 'download=csv&query_year=%d&query_month=%d&CO_ID=%s' % (year, month, stockNo)"
   ]
  },
  {
   "cell_type": "markdown",
   "metadata": {},
   "source": [
    "### f. HTML Parameters of FullMarket"
   ]
  },
  {
   "cell_type": "code",
   "execution_count": 8,
   "metadata": {
    "collapsed": true
   },
   "outputs": [],
   "source": [
    "def fulMarketTradeParams(year, month):\n",
    "    return 'download=csv&query_year=%d&query_month=%d' % (year, month)\n",
    "    "
   ]
  },
  {
   "cell_type": "markdown",
   "metadata": {},
   "source": [
    "### g. Raw Data to Database of FullMarket\n",
    "* tradeVolume is stored as thousand base\n",
    "* tradeValue is stored in thousan base\n",
    "* Bypass the empty data"
   ]
  },
  {
   "cell_type": "code",
   "execution_count": 9,
   "metadata": {
    "collapsed": true
   },
   "outputs": [],
   "source": [
    "def createFullMarket(data):\n",
    "    if 0 in data[1:5]:\n",
    "        pass\n",
    "    else:\n",
    "        ratio = 1000\n",
    "        stockDay = FullMarketDailyTrade(tradeDate=data[0], tradeVolume=data[1]/ratio,\\\n",
    "                                    tradeValue=data[2]/ratio, transaction=data[3],\\\n",
    "                                    TAIEX=data[4], change=data[5])\n",
    "        try:\n",
    "            session.add(stockDay)\n",
    "            session.commit()\n",
    "        except:\n",
    "            print('Error occurs in this item:')\n",
    "            print(data)\n",
    "            return"
   ]
  },
  {
   "cell_type": "markdown",
   "metadata": {},
   "source": [
    "### h. Raw Data to Database of SingleStock\n",
    "* tradeVolume is stored as thousand base\n",
    "* tradeValue is stored in thousan base\n",
    "* Bypass the empty data"
   ]
  },
  {
   "cell_type": "code",
   "execution_count": 10,
   "metadata": {
    "collapsed": false
   },
   "outputs": [],
   "source": [
    "def createSingleStock(data):\n",
    "    if 0 in data[1:7]:\n",
    "        pass\n",
    "    else:\n",
    "        ratio = 1000\n",
    "        stockDay = SingleStockDaily(tradeDate=data[0], tradeVolume=data[1]/ratio, tradeValue=data[2]/ratio,\\\n",
    "                                openingprice=data[3], highestprice=data[4],\\\n",
    "                                lowestprice=data[5], closingtprice=data[6],\\\n",
    "                                change=data[7], transaction=data[8], stockid=data[9])\n",
    "        try:\n",
    "            session.add(stockDay)\n",
    "            session.commit()\n",
    "        except:\n",
    "            print('Error occurs in this item:')\n",
    "            print(data)\n",
    "            return"
   ]
  },
  {
   "cell_type": "markdown",
   "metadata": {},
   "source": [
    "## 3. Variables"
   ]
  },
  {
   "cell_type": "code",
   "execution_count": 11,
   "metadata": {
    "collapsed": false
   },
   "outputs": [],
   "source": [
    "#####Changeable Variables#####\n",
    "year = 2016\n",
    "month = 12\n",
    "stockNo = '2454'\n",
    "\n",
    "#####Main Variables#####\n",
    "downloadType = 'csv'\n",
    "tesDomain = 'www.tse.com.tw'\n",
    "headers = {\"Content-type\": \"application/x-www-form-urlencoded\",\"Accept\": \"text/plain\"}\n",
    "fulMarketTradeTitle = [\"Date\",\"Trade Volume\",\"Trade Value\",\"Transaction\",\"TAIEX\",\"Change\"]\n",
    "singleStockDayTitle = [\"Date\",\"Trade Volume\",\"Trade Value\",\"Opening Price\",\"Highest Price\",\\\n",
    "                       \"Lowest Price\",\"Closing Price\",\"Change\",\"Transaction\"]\n",
    "\n",
    "fulMarketTradeAPI = '/en/trading/exchange/FMTQIK/FMTQIK.php'\n",
    "singleStocDaykAPI = '/en/trading/exchange/STOCK_DAY/STOCK_DAYMAIN.php'\n",
    "#fulMarketTradeParams = 'download=csv&query_year=%d&query_month=%d' % (year, month)\n",
    "#singleStockDayParams = 'download=csv&query_year=%d&query_month=%d&CO_ID=%d' % (year, month, stockNo)\n"
   ]
  },
  {
   "cell_type": "markdown",
   "metadata": {},
   "source": [
    "# %%%Code Tester%%%"
   ]
  },
  {
   "cell_type": "markdown",
   "metadata": {},
   "source": [
    "* need to check uniqueness before save it into database"
   ]
  },
  {
   "cell_type": "markdown",
   "metadata": {},
   "source": [
    "* Next time start from stock item 821"
   ]
  },
  {
   "cell_type": "code",
   "execution_count": 12,
   "metadata": {
    "collapsed": false
   },
   "outputs": [
    {
     "name": "stdout",
     "output_type": "stream",
     "text": [
      "3308's data from 2016 to 2018 is stored in database\n",
      "3311's data from 2016 to 2018 is stored in database\n",
      "3312's data from 2016 to 2018 is stored in database\n",
      "3315's data from 2016 to 2018 is stored in database\n",
      "3321's data from 2016 to 2018 is stored in database\n",
      "3338's data from 2016 to 2018 is stored in database\n",
      "3346's data from 2016 to 2018 is stored in database\n",
      "3356's data from 2016 to 2018 is stored in database\n",
      "3376's data from 2016 to 2018 is stored in database\n",
      "3380's data from 2016 to 2018 is stored in database\n",
      "3383's data from 2016 to 2018 is stored in database\n",
      "3406's data from 2016 to 2018 is stored in database\n",
      "3413's data from 2016 to 2018 is stored in database\n",
      "3416's data from 2016 to 2018 is stored in database\n",
      "3419's data from 2016 to 2018 is stored in database\n",
      "3432's data from 2016 to 2018 is stored in database\n",
      "3437's data from 2016 to 2018 is stored in database\n",
      "3443's data from 2016 to 2018 is stored in database\n",
      "3450's data from 2016 to 2018 is stored in database\n",
      "3454's data from 2016 to 2018 is stored in database\n",
      "3481's data from 2016 to 2018 is stored in database\n",
      "3494's data from 2016 to 2018 is stored in database\n",
      "3501's data from 2016 to 2018 is stored in database\n",
      "3504's data from 2016 to 2018 is stored in database\n",
      "3514's data from 2016 to 2018 is stored in database\n",
      "3515's data from 2016 to 2018 is stored in database\n",
      "3518's data from 2016 to 2018 is stored in database\n",
      "3519's data from 2016 to 2018 is stored in database\n",
      "3528's data from 2016 to 2018 is stored in database\n",
      "3532's data from 2016 to 2018 is stored in database\n",
      "3533's data from 2016 to 2018 is stored in database\n",
      "3535's data from 2016 to 2018 is stored in database\n",
      "3536's data from 2016 to 2018 is stored in database\n",
      "3545's data from 2016 to 2018 is stored in database\n",
      "3550's data from 2016 to 2018 is stored in database\n",
      "3557's data from 2016 to 2018 is stored in database\n",
      "3559's data from 2016 to 2018 is stored in database\n",
      "3561's data from 2016 to 2018 is stored in database\n",
      "3576's data from 2016 to 2018 is stored in database\n",
      "3579's data from 2016 to 2018 is stored in database\n",
      "3583's data from 2016 to 2018 is stored in database\n",
      "3588's data from 2016 to 2018 is stored in database\n",
      "3591's data from 2016 to 2018 is stored in database\n",
      "3593's data from 2016 to 2018 is stored in database\n",
      "3596's data from 2016 to 2018 is stored in database\n",
      "3605's data from 2016 to 2018 is stored in database\n",
      "3607's data from 2016 to 2018 is stored in database\n",
      "3617's data from 2016 to 2018 is stored in database\n",
      "3622's data from 2016 to 2018 is stored in database\n",
      "3645's data from 2016 to 2018 is stored in database\n",
      "3653's data from 2016 to 2018 is stored in database\n",
      "3661's data from 2016 to 2018 is stored in database\n",
      "3665's data from 2016 to 2018 is stored in database\n",
      "3669's data from 2016 to 2018 is stored in database\n",
      "3673's data from 2016 to 2018 is stored in database\n",
      "3679's data from 2016 to 2018 is stored in database\n",
      "3682's data from 2016 to 2018 is stored in database\n",
      "3686's data from 2016 to 2018 is stored in database\n",
      "3694's data from 2016 to 2018 is stored in database\n",
      "3698's data from 2016 to 2018 is stored in database\n",
      "3701's data from 2016 to 2018 is stored in database\n",
      "3702's data from 2016 to 2018 is stored in database\n",
      "3703's data from 2016 to 2018 is stored in database\n",
      "3704's data from 2016 to 2018 is stored in database\n",
      "3705's data from 2016 to 2018 is stored in database\n",
      "3706's data from 2016 to 2018 is stored in database\n",
      "3708's data from 2016 to 2018 is stored in database\n",
      "4104's data from 2016 to 2018 is stored in database\n",
      "4106's data from 2016 to 2018 is stored in database\n",
      "4108's data from 2016 to 2018 is stored in database\n",
      "4119's data from 2016 to 2018 is stored in database\n",
      "4133's data from 2016 to 2018 is stored in database\n",
      "4137's data from 2016 to 2018 is stored in database\n",
      "4141's data from 2016 to 2018 is stored in database\n",
      "4142's data from 2016 to 2018 is stored in database\n",
      "4144's data from 2016 to 2018 is stored in database\n",
      "4164's data from 2016 to 2018 is stored in database\n",
      "4190's data from 2016 to 2018 is stored in database\n",
      "4306's data from 2016 to 2018 is stored in database\n",
      "4414's data from 2016 to 2018 is stored in database\n",
      "4426's data from 2016 to 2018 is stored in database\n",
      "4438's data from 2016 to 2018 is stored in database\n",
      "4526's data from 2016 to 2018 is stored in database\n",
      "4532's data from 2016 to 2018 is stored in database\n",
      "4536's data from 2016 to 2018 is stored in database\n",
      "4545's data from 2016 to 2018 is stored in database\n",
      "4551's data from 2016 to 2018 is stored in database\n",
      "4552's data from 2016 to 2018 is stored in database\n",
      "4555's data from 2016 to 2018 is stored in database\n",
      "4557's data from 2016 to 2018 is stored in database\n",
      "4720's data from 2016 to 2018 is stored in database\n",
      "4722's data from 2016 to 2018 is stored in database\n",
      "4725's data from 2016 to 2018 is stored in database\n",
      "4737's data from 2016 to 2018 is stored in database\n",
      "4746's data from 2016 to 2018 is stored in database\n",
      "4755's data from 2016 to 2018 is stored in database\n",
      "4763's data from 2016 to 2018 is stored in database\n",
      "4904's data from 2016 to 2018 is stored in database\n",
      "4906's data from 2016 to 2018 is stored in database\n",
      "4912's data from 2016 to 2018 is stored in database\n",
      "4915's data from 2016 to 2018 is stored in database\n",
      "4916's data from 2016 to 2018 is stored in database\n",
      "4919's data from 2016 to 2018 is stored in database\n",
      "4927's data from 2016 to 2018 is stored in database\n",
      "4930's data from 2016 to 2018 is stored in database\n",
      "4934's data from 2016 to 2018 is stored in database\n",
      "4935's data from 2016 to 2018 is stored in database\n",
      "4938's data from 2016 to 2018 is stored in database\n",
      "4942's data from 2016 to 2018 is stored in database\n",
      "4943's data from 2016 to 2018 is stored in database\n",
      "4952's data from 2016 to 2018 is stored in database\n",
      "4956's data from 2016 to 2018 is stored in database\n",
      "4958's data from 2016 to 2018 is stored in database\n",
      "4960's data from 2016 to 2018 is stored in database\n",
      "4968's data from 2016 to 2018 is stored in database\n",
      "4976's data from 2016 to 2018 is stored in database\n",
      "4977's data from 2016 to 2018 is stored in database\n",
      "4984's data from 2016 to 2018 is stored in database\n",
      "4994's data from 2016 to 2018 is stored in database\n",
      "4999's data from 2016 to 2018 is stored in database\n",
      "5007's data from 2016 to 2018 is stored in database\n",
      "5203's data from 2016 to 2018 is stored in database\n",
      "5215's data from 2016 to 2018 is stored in database\n",
      "5225's data from 2016 to 2018 is stored in database\n",
      "5234's data from 2016 to 2018 is stored in database\n",
      "5243's data from 2016 to 2018 is stored in database\n",
      "5258's data from 2016 to 2018 is stored in database\n",
      "5259's data from 2016 to 2018 is stored in database\n",
      "5264's data from 2016 to 2018 is stored in database\n",
      "5269's data from 2016 to 2018 is stored in database\n",
      "5284's data from 2016 to 2018 is stored in database\n",
      "5285's data from 2016 to 2018 is stored in database\n",
      "5288's data from 2016 to 2018 is stored in database\n",
      "5305's data from 2016 to 2018 is stored in database\n",
      "5388's data from 2016 to 2018 is stored in database\n",
      "5434's data from 2016 to 2018 is stored in database\n",
      "5469's data from 2016 to 2018 is stored in database\n",
      "5471's data from 2016 to 2018 is stored in database\n",
      "5484's data from 2016 to 2018 is stored in database\n",
      "5515's data from 2016 to 2018 is stored in database\n",
      "5519's data from 2016 to 2018 is stored in database\n",
      "5521's data from 2016 to 2018 is stored in database\n",
      "5522's data from 2016 to 2018 is stored in database\n",
      "5525's data from 2016 to 2018 is stored in database\n",
      "5531's data from 2016 to 2018 is stored in database\n",
      "5533's data from 2016 to 2018 is stored in database\n",
      "5534's data from 2016 to 2018 is stored in database\n",
      "5538's data from 2016 to 2018 is stored in database\n",
      "5607's data from 2016 to 2018 is stored in database\n",
      "5608's data from 2016 to 2018 is stored in database\n",
      "5706's data from 2016 to 2018 is stored in database\n",
      "5871's data from 2016 to 2018 is stored in database\n",
      "5880's data from 2016 to 2018 is stored in database\n",
      "5906's data from 2016 to 2018 is stored in database\n",
      "5907's data from 2016 to 2018 is stored in database\n",
      "6005's data from 2016 to 2018 is stored in database\n",
      "6108's data from 2016 to 2018 is stored in database\n",
      "6112's data from 2016 to 2018 is stored in database\n",
      "6115's data from 2016 to 2018 is stored in database\n",
      "6116's data from 2016 to 2018 is stored in database\n",
      "6117's data from 2016 to 2018 is stored in database\n",
      "6120's data from 2016 to 2018 is stored in database\n",
      "6128's data from 2016 to 2018 is stored in database\n",
      "6131's data from 2016 to 2018 is stored in database\n",
      "6133's data from 2016 to 2018 is stored in database\n"
     ]
    },
    {
     "ename": "KeyboardInterrupt",
     "evalue": "",
     "output_type": "error",
     "traceback": [
      "\u001b[0;31m---------------------------------------------------------------------------\u001b[0m",
      "\u001b[0;31mKeyboardInterrupt\u001b[0m                         Traceback (most recent call last)",
      "\u001b[0;32m<ipython-input-12-fca44e5263bf>\u001b[0m in \u001b[0;36m<module>\u001b[0;34m()\u001b[0m\n\u001b[1;32m     14\u001b[0m             \u001b[1;31m#print(theStockData)\u001b[0m\u001b[1;33m\u001b[0m\u001b[1;33m\u001b[0m\u001b[0m\n\u001b[1;32m     15\u001b[0m             \u001b[1;32mfor\u001b[0m \u001b[0mdata\u001b[0m \u001b[1;32min\u001b[0m \u001b[0mnewData\u001b[0m\u001b[1;33m:\u001b[0m\u001b[1;33m\u001b[0m\u001b[0m\n\u001b[0;32m---> 16\u001b[0;31m                 \u001b[1;32mif\u001b[0m \u001b[0mtargetStock\u001b[0m\u001b[1;33m.\u001b[0m\u001b[0mcheckUnique\u001b[0m\u001b[1;33m(\u001b[0m\u001b[0msession\u001b[0m\u001b[1;33m,\u001b[0m \u001b[1;33m[\u001b[0m\u001b[0mdata\u001b[0m\u001b[1;33m[\u001b[0m\u001b[1;36m0\u001b[0m\u001b[1;33m]\u001b[0m\u001b[1;33m,\u001b[0m\u001b[0mdata\u001b[0m\u001b[1;33m[\u001b[0m\u001b[1;36m9\u001b[0m\u001b[1;33m]\u001b[0m\u001b[1;33m]\u001b[0m\u001b[1;33m)\u001b[0m\u001b[1;33m:\u001b[0m\u001b[1;33m\u001b[0m\u001b[0m\n\u001b[0m\u001b[1;32m     17\u001b[0m                     \u001b[0mprint\u001b[0m\u001b[1;33m(\u001b[0m\u001b[1;34m'Data Existed'\u001b[0m\u001b[1;33m)\u001b[0m\u001b[1;33m\u001b[0m\u001b[0m\n\u001b[1;32m     18\u001b[0m                 \u001b[1;32melse\u001b[0m\u001b[1;33m:\u001b[0m\u001b[1;33m\u001b[0m\u001b[0m\n",
      "\u001b[0;32mC:\\Users\\clayliau\\Documents\\Stock_tool\\DB_Setup.py\u001b[0m in \u001b[0;36mcheckUnique\u001b[0;34m(self, session, checkList)\u001b[0m\n\u001b[1;32m     51\u001b[0m \u001b[1;33m\u001b[0m\u001b[0m\n\u001b[1;32m     52\u001b[0m     \u001b[1;32mdef\u001b[0m \u001b[0mcheckUnique\u001b[0m\u001b[1;33m(\u001b[0m\u001b[0mself\u001b[0m\u001b[1;33m,\u001b[0m \u001b[0msession\u001b[0m\u001b[1;33m,\u001b[0m \u001b[0mcheckList\u001b[0m\u001b[1;33m)\u001b[0m\u001b[1;33m:\u001b[0m\u001b[1;33m\u001b[0m\u001b[0m\n\u001b[0;32m---> 53\u001b[0;31m         \u001b[1;32mreturn\u001b[0m \u001b[0msession\u001b[0m\u001b[1;33m.\u001b[0m\u001b[0mquery\u001b[0m\u001b[1;33m(\u001b[0m\u001b[0mSingleStockDaily\u001b[0m\u001b[1;33m)\u001b[0m\u001b[1;33m.\u001b[0m\u001b[0mfilter\u001b[0m\u001b[1;33m(\u001b[0m\u001b[0mSingleStockDaily\u001b[0m\u001b[1;33m.\u001b[0m\u001b[0mtradeDate\u001b[0m\u001b[1;33m==\u001b[0m\u001b[0mcheckList\u001b[0m\u001b[1;33m[\u001b[0m\u001b[1;36m0\u001b[0m\u001b[1;33m]\u001b[0m\u001b[1;33m,\u001b[0m\u001b[0mSingleStockDaily\u001b[0m\u001b[1;33m.\u001b[0m\u001b[0mstockid\u001b[0m\u001b[1;33m==\u001b[0m\u001b[0mcheckList\u001b[0m\u001b[1;33m[\u001b[0m\u001b[1;36m1\u001b[0m\u001b[1;33m]\u001b[0m\u001b[1;33m)\u001b[0m\u001b[1;33m.\u001b[0m\u001b[0mfirst\u001b[0m\u001b[1;33m(\u001b[0m\u001b[1;33m)\u001b[0m\u001b[1;33m\u001b[0m\u001b[0m\n\u001b[0m\u001b[1;32m     54\u001b[0m \u001b[1;33m\u001b[0m\u001b[0m\n\u001b[1;32m     55\u001b[0m \u001b[0mengine\u001b[0m \u001b[1;33m=\u001b[0m \u001b[0mcreate_engine\u001b[0m\u001b[1;33m(\u001b[0m\u001b[1;34m'sqlite:///taiwanstock.db'\u001b[0m\u001b[1;33m)\u001b[0m\u001b[1;33m\u001b[0m\u001b[0m\n",
      "\u001b[0;32mC:\\Users\\clayliau\\Anaconda3\\lib\\site-packages\\sqlalchemy\\orm\\query.py\u001b[0m in \u001b[0;36mfirst\u001b[0;34m(self)\u001b[0m\n\u001b[1;32m   2657\u001b[0m             \u001b[0mret\u001b[0m \u001b[1;33m=\u001b[0m \u001b[0mlist\u001b[0m\u001b[1;33m(\u001b[0m\u001b[0mself\u001b[0m\u001b[1;33m)\u001b[0m\u001b[1;33m[\u001b[0m\u001b[1;36m0\u001b[0m\u001b[1;33m:\u001b[0m\u001b[1;36m1\u001b[0m\u001b[1;33m]\u001b[0m\u001b[1;33m\u001b[0m\u001b[0m\n\u001b[1;32m   2658\u001b[0m         \u001b[1;32melse\u001b[0m\u001b[1;33m:\u001b[0m\u001b[1;33m\u001b[0m\u001b[0m\n\u001b[0;32m-> 2659\u001b[0;31m             \u001b[0mret\u001b[0m \u001b[1;33m=\u001b[0m \u001b[0mlist\u001b[0m\u001b[1;33m(\u001b[0m\u001b[0mself\u001b[0m\u001b[1;33m[\u001b[0m\u001b[1;36m0\u001b[0m\u001b[1;33m:\u001b[0m\u001b[1;36m1\u001b[0m\u001b[1;33m]\u001b[0m\u001b[1;33m)\u001b[0m\u001b[1;33m\u001b[0m\u001b[0m\n\u001b[0m\u001b[1;32m   2660\u001b[0m         \u001b[1;32mif\u001b[0m \u001b[0mlen\u001b[0m\u001b[1;33m(\u001b[0m\u001b[0mret\u001b[0m\u001b[1;33m)\u001b[0m \u001b[1;33m>\u001b[0m \u001b[1;36m0\u001b[0m\u001b[1;33m:\u001b[0m\u001b[1;33m\u001b[0m\u001b[0m\n\u001b[1;32m   2661\u001b[0m             \u001b[1;32mreturn\u001b[0m \u001b[0mret\u001b[0m\u001b[1;33m[\u001b[0m\u001b[1;36m0\u001b[0m\u001b[1;33m]\u001b[0m\u001b[1;33m\u001b[0m\u001b[0m\n",
      "\u001b[0;32mC:\\Users\\clayliau\\Anaconda3\\lib\\site-packages\\sqlalchemy\\orm\\query.py\u001b[0m in \u001b[0;36m__getitem__\u001b[0;34m(self, item)\u001b[0m\n\u001b[1;32m   2455\u001b[0m                 \u001b[1;32mreturn\u001b[0m \u001b[0mlist\u001b[0m\u001b[1;33m(\u001b[0m\u001b[0mres\u001b[0m\u001b[1;33m)\u001b[0m\u001b[1;33m[\u001b[0m\u001b[1;32mNone\u001b[0m\u001b[1;33m:\u001b[0m\u001b[1;32mNone\u001b[0m\u001b[1;33m:\u001b[0m\u001b[0mitem\u001b[0m\u001b[1;33m.\u001b[0m\u001b[0mstep\u001b[0m\u001b[1;33m]\u001b[0m\u001b[1;33m\u001b[0m\u001b[0m\n\u001b[1;32m   2456\u001b[0m             \u001b[1;32melse\u001b[0m\u001b[1;33m:\u001b[0m\u001b[1;33m\u001b[0m\u001b[0m\n\u001b[0;32m-> 2457\u001b[0;31m                 \u001b[1;32mreturn\u001b[0m \u001b[0mlist\u001b[0m\u001b[1;33m(\u001b[0m\u001b[0mres\u001b[0m\u001b[1;33m)\u001b[0m\u001b[1;33m\u001b[0m\u001b[0m\n\u001b[0m\u001b[1;32m   2458\u001b[0m         \u001b[1;32melse\u001b[0m\u001b[1;33m:\u001b[0m\u001b[1;33m\u001b[0m\u001b[0m\n\u001b[1;32m   2459\u001b[0m             \u001b[1;32mif\u001b[0m \u001b[0mitem\u001b[0m \u001b[1;33m==\u001b[0m \u001b[1;33m-\u001b[0m\u001b[1;36m1\u001b[0m\u001b[1;33m:\u001b[0m\u001b[1;33m\u001b[0m\u001b[0m\n",
      "\u001b[0;32mC:\\Users\\clayliau\\Anaconda3\\lib\\site-packages\\sqlalchemy\\orm\\query.py\u001b[0m in \u001b[0;36m__iter__\u001b[0;34m(self)\u001b[0m\n\u001b[1;32m   2759\u001b[0m         \u001b[1;32mif\u001b[0m \u001b[0mself\u001b[0m\u001b[1;33m.\u001b[0m\u001b[0m_autoflush\u001b[0m \u001b[1;32mand\u001b[0m \u001b[1;32mnot\u001b[0m \u001b[0mself\u001b[0m\u001b[1;33m.\u001b[0m\u001b[0m_populate_existing\u001b[0m\u001b[1;33m:\u001b[0m\u001b[1;33m\u001b[0m\u001b[0m\n\u001b[1;32m   2760\u001b[0m             \u001b[0mself\u001b[0m\u001b[1;33m.\u001b[0m\u001b[0msession\u001b[0m\u001b[1;33m.\u001b[0m\u001b[0m_autoflush\u001b[0m\u001b[1;33m(\u001b[0m\u001b[1;33m)\u001b[0m\u001b[1;33m\u001b[0m\u001b[0m\n\u001b[0;32m-> 2761\u001b[0;31m         \u001b[1;32mreturn\u001b[0m \u001b[0mself\u001b[0m\u001b[1;33m.\u001b[0m\u001b[0m_execute_and_instances\u001b[0m\u001b[1;33m(\u001b[0m\u001b[0mcontext\u001b[0m\u001b[1;33m)\u001b[0m\u001b[1;33m\u001b[0m\u001b[0m\n\u001b[0m\u001b[1;32m   2762\u001b[0m \u001b[1;33m\u001b[0m\u001b[0m\n\u001b[1;32m   2763\u001b[0m     \u001b[1;32mdef\u001b[0m \u001b[0m_connection_from_session\u001b[0m\u001b[1;33m(\u001b[0m\u001b[0mself\u001b[0m\u001b[1;33m,\u001b[0m \u001b[1;33m**\u001b[0m\u001b[0mkw\u001b[0m\u001b[1;33m)\u001b[0m\u001b[1;33m:\u001b[0m\u001b[1;33m\u001b[0m\u001b[0m\n",
      "\u001b[0;32mC:\\Users\\clayliau\\Anaconda3\\lib\\site-packages\\sqlalchemy\\orm\\query.py\u001b[0m in \u001b[0;36m_execute_and_instances\u001b[0;34m(self, querycontext)\u001b[0m\n\u001b[1;32m   2774\u001b[0m             close_with_result=True)\n\u001b[1;32m   2775\u001b[0m \u001b[1;33m\u001b[0m\u001b[0m\n\u001b[0;32m-> 2776\u001b[0;31m         \u001b[0mresult\u001b[0m \u001b[1;33m=\u001b[0m \u001b[0mconn\u001b[0m\u001b[1;33m.\u001b[0m\u001b[0mexecute\u001b[0m\u001b[1;33m(\u001b[0m\u001b[0mquerycontext\u001b[0m\u001b[1;33m.\u001b[0m\u001b[0mstatement\u001b[0m\u001b[1;33m,\u001b[0m \u001b[0mself\u001b[0m\u001b[1;33m.\u001b[0m\u001b[0m_params\u001b[0m\u001b[1;33m)\u001b[0m\u001b[1;33m\u001b[0m\u001b[0m\n\u001b[0m\u001b[1;32m   2777\u001b[0m         \u001b[1;32mreturn\u001b[0m \u001b[0mloading\u001b[0m\u001b[1;33m.\u001b[0m\u001b[0minstances\u001b[0m\u001b[1;33m(\u001b[0m\u001b[0mquerycontext\u001b[0m\u001b[1;33m.\u001b[0m\u001b[0mquery\u001b[0m\u001b[1;33m,\u001b[0m \u001b[0mresult\u001b[0m\u001b[1;33m,\u001b[0m \u001b[0mquerycontext\u001b[0m\u001b[1;33m)\u001b[0m\u001b[1;33m\u001b[0m\u001b[0m\n\u001b[1;32m   2778\u001b[0m \u001b[1;33m\u001b[0m\u001b[0m\n",
      "\u001b[0;32mC:\\Users\\clayliau\\Anaconda3\\lib\\site-packages\\sqlalchemy\\engine\\base.py\u001b[0m in \u001b[0;36mexecute\u001b[0;34m(self, object, *multiparams, **params)\u001b[0m\n\u001b[1;32m    912\u001b[0m                 type(object))\n\u001b[1;32m    913\u001b[0m         \u001b[1;32melse\u001b[0m\u001b[1;33m:\u001b[0m\u001b[1;33m\u001b[0m\u001b[0m\n\u001b[0;32m--> 914\u001b[0;31m             \u001b[1;32mreturn\u001b[0m \u001b[0mmeth\u001b[0m\u001b[1;33m(\u001b[0m\u001b[0mself\u001b[0m\u001b[1;33m,\u001b[0m \u001b[0mmultiparams\u001b[0m\u001b[1;33m,\u001b[0m \u001b[0mparams\u001b[0m\u001b[1;33m)\u001b[0m\u001b[1;33m\u001b[0m\u001b[0m\n\u001b[0m\u001b[1;32m    915\u001b[0m \u001b[1;33m\u001b[0m\u001b[0m\n\u001b[1;32m    916\u001b[0m     \u001b[1;32mdef\u001b[0m \u001b[0m_execute_function\u001b[0m\u001b[1;33m(\u001b[0m\u001b[0mself\u001b[0m\u001b[1;33m,\u001b[0m \u001b[0mfunc\u001b[0m\u001b[1;33m,\u001b[0m \u001b[0mmultiparams\u001b[0m\u001b[1;33m,\u001b[0m \u001b[0mparams\u001b[0m\u001b[1;33m)\u001b[0m\u001b[1;33m:\u001b[0m\u001b[1;33m\u001b[0m\u001b[0m\n",
      "\u001b[0;32mC:\\Users\\clayliau\\Anaconda3\\lib\\site-packages\\sqlalchemy\\sql\\elements.py\u001b[0m in \u001b[0;36m_execute_on_connection\u001b[0;34m(self, connection, multiparams, params)\u001b[0m\n\u001b[1;32m    321\u001b[0m \u001b[1;33m\u001b[0m\u001b[0m\n\u001b[1;32m    322\u001b[0m     \u001b[1;32mdef\u001b[0m \u001b[0m_execute_on_connection\u001b[0m\u001b[1;33m(\u001b[0m\u001b[0mself\u001b[0m\u001b[1;33m,\u001b[0m \u001b[0mconnection\u001b[0m\u001b[1;33m,\u001b[0m \u001b[0mmultiparams\u001b[0m\u001b[1;33m,\u001b[0m \u001b[0mparams\u001b[0m\u001b[1;33m)\u001b[0m\u001b[1;33m:\u001b[0m\u001b[1;33m\u001b[0m\u001b[0m\n\u001b[0;32m--> 323\u001b[0;31m         \u001b[1;32mreturn\u001b[0m \u001b[0mconnection\u001b[0m\u001b[1;33m.\u001b[0m\u001b[0m_execute_clauseelement\u001b[0m\u001b[1;33m(\u001b[0m\u001b[0mself\u001b[0m\u001b[1;33m,\u001b[0m \u001b[0mmultiparams\u001b[0m\u001b[1;33m,\u001b[0m \u001b[0mparams\u001b[0m\u001b[1;33m)\u001b[0m\u001b[1;33m\u001b[0m\u001b[0m\n\u001b[0m\u001b[1;32m    324\u001b[0m \u001b[1;33m\u001b[0m\u001b[0m\n\u001b[1;32m    325\u001b[0m     \u001b[1;32mdef\u001b[0m \u001b[0munique_params\u001b[0m\u001b[1;33m(\u001b[0m\u001b[0mself\u001b[0m\u001b[1;33m,\u001b[0m \u001b[1;33m*\u001b[0m\u001b[0moptionaldict\u001b[0m\u001b[1;33m,\u001b[0m \u001b[1;33m**\u001b[0m\u001b[0mkwargs\u001b[0m\u001b[1;33m)\u001b[0m\u001b[1;33m:\u001b[0m\u001b[1;33m\u001b[0m\u001b[0m\n",
      "\u001b[0;32mC:\\Users\\clayliau\\Anaconda3\\lib\\site-packages\\sqlalchemy\\engine\\base.py\u001b[0m in \u001b[0;36m_execute_clauseelement\u001b[0;34m(self, elem, multiparams, params)\u001b[0m\n\u001b[1;32m   1008\u001b[0m             \u001b[0mcompiled_sql\u001b[0m\u001b[1;33m,\u001b[0m\u001b[1;33m\u001b[0m\u001b[0m\n\u001b[1;32m   1009\u001b[0m             \u001b[0mdistilled_params\u001b[0m\u001b[1;33m,\u001b[0m\u001b[1;33m\u001b[0m\u001b[0m\n\u001b[0;32m-> 1010\u001b[0;31m             \u001b[0mcompiled_sql\u001b[0m\u001b[1;33m,\u001b[0m \u001b[0mdistilled_params\u001b[0m\u001b[1;33m\u001b[0m\u001b[0m\n\u001b[0m\u001b[1;32m   1011\u001b[0m         )\n\u001b[1;32m   1012\u001b[0m         \u001b[1;32mif\u001b[0m \u001b[0mself\u001b[0m\u001b[1;33m.\u001b[0m\u001b[0m_has_events\u001b[0m \u001b[1;32mor\u001b[0m \u001b[0mself\u001b[0m\u001b[1;33m.\u001b[0m\u001b[0mengine\u001b[0m\u001b[1;33m.\u001b[0m\u001b[0m_has_events\u001b[0m\u001b[1;33m:\u001b[0m\u001b[1;33m\u001b[0m\u001b[0m\n",
      "\u001b[0;32mC:\\Users\\clayliau\\Anaconda3\\lib\\site-packages\\sqlalchemy\\engine\\base.py\u001b[0m in \u001b[0;36m_execute_context\u001b[0;34m(self, dialect, constructor, statement, parameters, *args)\u001b[0m\n\u001b[1;32m   1137\u001b[0m                         \u001b[0mstatement\u001b[0m\u001b[1;33m,\u001b[0m\u001b[1;33m\u001b[0m\u001b[0m\n\u001b[1;32m   1138\u001b[0m                         \u001b[0mparameters\u001b[0m\u001b[1;33m,\u001b[0m\u001b[1;33m\u001b[0m\u001b[0m\n\u001b[0;32m-> 1139\u001b[0;31m                         context)\n\u001b[0m\u001b[1;32m   1140\u001b[0m         \u001b[1;32mexcept\u001b[0m \u001b[0mException\u001b[0m \u001b[1;32mas\u001b[0m \u001b[0me\u001b[0m\u001b[1;33m:\u001b[0m\u001b[1;33m\u001b[0m\u001b[0m\n\u001b[1;32m   1141\u001b[0m             self._handle_dbapi_exception(\n",
      "\u001b[0;32mC:\\Users\\clayliau\\Anaconda3\\lib\\site-packages\\sqlalchemy\\engine\\default.py\u001b[0m in \u001b[0;36mdo_execute\u001b[0;34m(self, cursor, statement, parameters, context)\u001b[0m\n\u001b[1;32m    448\u001b[0m \u001b[1;33m\u001b[0m\u001b[0m\n\u001b[1;32m    449\u001b[0m     \u001b[1;32mdef\u001b[0m \u001b[0mdo_execute\u001b[0m\u001b[1;33m(\u001b[0m\u001b[0mself\u001b[0m\u001b[1;33m,\u001b[0m \u001b[0mcursor\u001b[0m\u001b[1;33m,\u001b[0m \u001b[0mstatement\u001b[0m\u001b[1;33m,\u001b[0m \u001b[0mparameters\u001b[0m\u001b[1;33m,\u001b[0m \u001b[0mcontext\u001b[0m\u001b[1;33m=\u001b[0m\u001b[1;32mNone\u001b[0m\u001b[1;33m)\u001b[0m\u001b[1;33m:\u001b[0m\u001b[1;33m\u001b[0m\u001b[0m\n\u001b[0;32m--> 450\u001b[0;31m         \u001b[0mcursor\u001b[0m\u001b[1;33m.\u001b[0m\u001b[0mexecute\u001b[0m\u001b[1;33m(\u001b[0m\u001b[0mstatement\u001b[0m\u001b[1;33m,\u001b[0m \u001b[0mparameters\u001b[0m\u001b[1;33m)\u001b[0m\u001b[1;33m\u001b[0m\u001b[0m\n\u001b[0m\u001b[1;32m    451\u001b[0m \u001b[1;33m\u001b[0m\u001b[0m\n\u001b[1;32m    452\u001b[0m     \u001b[1;32mdef\u001b[0m \u001b[0mdo_execute_no_params\u001b[0m\u001b[1;33m(\u001b[0m\u001b[0mself\u001b[0m\u001b[1;33m,\u001b[0m \u001b[0mcursor\u001b[0m\u001b[1;33m,\u001b[0m \u001b[0mstatement\u001b[0m\u001b[1;33m,\u001b[0m \u001b[0mcontext\u001b[0m\u001b[1;33m=\u001b[0m\u001b[1;32mNone\u001b[0m\u001b[1;33m)\u001b[0m\u001b[1;33m:\u001b[0m\u001b[1;33m\u001b[0m\u001b[0m\n",
      "\u001b[0;31mKeyboardInterrupt\u001b[0m: "
     ]
    }
   ],
   "source": [
    "targetStock = SingleStockDaily()\n",
    "stocknamdidTable = session.query(StockNameID)[655:]\n",
    "startYear = 2016\n",
    "stopYear = 2018\n",
    "for stock in stocknamdidTable:\n",
    "    stockNo = stock.stockid\n",
    "    #yearlySingleStock = list()\n",
    "    for year in range(startYear,stopYear):\n",
    "        for month in range(1,13):\n",
    "            theStock = QueryDataPost(tesDomain, singleStocDaykAPI, singleStockDayParams(year, month, stockNo), headers)\n",
    "            theStockList = theStock.split('\\n')\n",
    "            theStockData = stockDayDataExtract(theStockList)\n",
    "            newData = addStockID(theStockData, stockNo)\n",
    "            #print(theStockData)\n",
    "            for data in newData:\n",
    "                if targetStock.checkUnique(session, [data[0],data[9]]):\n",
    "                    print('Data Existed')\n",
    "                else:\n",
    "                    #print('Create New')\n",
    "                    createSingleStock(data)\n",
    "                \n",
    "    print('%s\\'s data from %d to %d is stored in database' % (stockNo, startYear, stopYear))"
   ]
  },
  {
   "cell_type": "code",
   "execution_count": 12,
   "metadata": {
    "collapsed": false
   },
   "outputs": [],
   "source": [
    "yearlyFullStock = list()\n",
    "for year in range(2008,2018):\n",
    "    for month in range(1,13):\n",
    "        fullMarket = QueryDataPost(tesDomain, fulMarketTradeAPI, fulMarketTradeParams(year, month), headers)\n",
    "        fullMarketList = fullMarket.split('\\n')\n",
    "        fullstock = stockDayDataExtract(fullMarketList)\n",
    "        yearlyFullStock = yearlyFullStock + fullstock"
   ]
  },
  {
   "cell_type": "code",
   "execution_count": 13,
   "metadata": {
    "collapsed": false
   },
   "outputs": [],
   "source": [
    "for data in yearlyFullStock:\n",
    "    createFullMarket(data)"
   ]
  },
  {
   "cell_type": "markdown",
   "metadata": {},
   "source": [
    "# Appendix"
   ]
  },
  {
   "cell_type": "markdown",
   "metadata": {},
   "source": [
    "## Test Code"
   ]
  },
  {
   "cell_type": "code",
   "execution_count": 3,
   "metadata": {
    "collapsed": false
   },
   "outputs": [
    {
     "name": "stdout",
     "output_type": "stream",
     "text": [
      "<DB_Setup.SingleStockDaily object at 0x000002018CCE0048>\n"
     ]
    }
   ],
   "source": [
    "taiwan50 = SingleStockDaily()\n",
    "data = ['2016-01-04', '0050']\n",
    "print(taiwan50.checkUnique(session, data))"
   ]
  },
  {
   "cell_type": "code",
   "execution_count": 13,
   "metadata": {
    "collapsed": false
   },
   "outputs": [],
   "source": [
    "#stockData = QueryDataPost(tesDomain, fulMarketTradeAPI, fulMarketTradeParams, headers)\n",
    "#stockDataList = stockData.split('\\n')\n",
    "yearlySingleStock = list()\n",
    "for year in range(2015,2018):\n",
    "    for month in range(1,13):\n",
    "        MediatekStock = QueryDataPost(tesDomain, singleStocDaykAPI, singleStockDayParams(year, month, stockNo), headers)\n",
    "        MediatekStockList = MediatekStock.split('\\n')\n",
    "        fullstock = stockDayDataExtract(MediatekStockList)\n",
    "        newData = addStockID(fullstock, stockNo)\n",
    "        yearlySingleStock = yearlySingleStock + newData\n",
    "    #printList(newData)\n",
    "#printList(yearlySingleStock)\n",
    "\n",
    "    "
   ]
  },
  {
   "cell_type": "code",
   "execution_count": 14,
   "metadata": {
    "collapsed": false,
    "scrolled": true
   },
   "outputs": [],
   "source": [
    "for data in yearlySingleStock:\n",
    "    createSingleStock(data)"
   ]
  },
  {
   "cell_type": "code",
   "execution_count": 47,
   "metadata": {
    "collapsed": false
   },
   "outputs": [
    {
     "name": "stdout",
     "output_type": "stream",
     "text": [
      "106~02 T (A)\n",
      "\"\",\"Ѽ\",\"B\",\"浧\",\"oq[vѻ\",\"^I\"\n",
      "\" 106/02/02\",\"5,119,534,614\",\"147,930,853,630\",\"1,131,546\",\"9,428.97\",\"-18.98\",\n",
      "\" 106/02/03\",\"5,068,371,711\",\"102,335,722,986\",\"1,056,855\",\"9,455.56\",\"26.59\",\n",
      "\" 106/02/06\",\"5,510,906,552\",\"102,352,501,152\",\"1,076,125\",\"9,538.01\",\"82.45\",\n",
      "\" 106/02/07\",\"4,932,873,379\",\"95,709,593,373\",\"988,506\",\"9,554.56\",\"16.55\",\n",
      "\" 106/02/08\",\"5,300,856,389\",\"110,729,308,207\",\"1,082,850\",\"9,543.25\",\"-11.31\",\n",
      "\" 106/02/09\",\"5,264,593,609\",\"106,237,084,984\",\"1,038,404\",\"9,590.18\",\"46.93\",\n",
      "\" 106/02/10\",\"6,240,806,015\",\"136,811,826,048\",\"1,209,286\",\"9,665.59\",\"75.41\",\n",
      "\" 106/02/13\",\"5,255,562,269\",\"101,177,702,355\",\"1,023,598\",\"9,710.32\",\"44.73\",\n",
      "\" 106/02/14\",\"5,531,133,656\",\"113,724,121,218\",\"1,072,534\",\"9,718.78\",\"8.46\",\n",
      "\" 106/02/15\",\"5,748,794,719\",\"117,918,064,389\",\"1,165,369\",\"9,799.76\",\"80.98\",\n",
      "\" 106/02/16\",\"5,167,818,860\",\"108,303,272,962\",\"1,033,581\",\"9,771.25\",\"-28.51\",\n",
      "\" 106/02/17\",\"4,358,105,024\",\"95,178,870,089\",\"916,682\",\"9,759.76\",\"-11.49\",\n",
      "\" 106/02/18\",\"3,411,356,161\",\"61,980,819,056\",\"664,672\",\"9,779.92\",\"20.16\",\n",
      "\" 106/02/20\",\"4,750,607,829\",\"97,817,579,999\",\"996,037\",\"9,753.20\",\"-26.72\",\n",
      "\" 106/02/21\",\"4,604,650,193\",\"90,064,360,265\",\"935,626\",\"9,763.93\",\"10.73\",\n",
      "\" 106/02/22\",\"4,853,832,134\",\"101,274,785,349\",\"975,734\",\"9,778.78\",\"14.85\",\n",
      "\" 106/02/23\",\"4,655,622,523\",\"101,065,671,309\",\"966,823\",\"9,769.31\",\"-9.47\",\n",
      "\" 106/02/24\",\"4,221,089,121\",\"92,653,105,234\",\"887,717\",\"9,750.47\",\"-18.84\",\n",
      "\"G\"\n",
      "\"1. έpTtjLBsѡBLwιdBAtBʡC\n",
      "\"2. ~]tH^ȫYHqU330iHIsOײv[JBC\n",
      "\n"
     ]
    }
   ],
   "source": [
    "url_req = '/ch/trading/exchange/FMTQIK/FMTQIK.php'\n",
    "params = urllib.parse.urlencode({'download':'csv', 'query_year':2017, 'query_month':2})\n",
    "headers = {\"Content-type\": \"application/x-www-form-urlencoded\",\"Accept\": \"text/plain\"}\n",
    "conn = HTTPConnection('www.tse.com.tw')\n",
    "web = conn.request('POST', url_req, params, headers)\n",
    "abc = conn.getresponse()\n",
    "d = abc.read().decode('utf-8', 'ignore')\n",
    "print(d)"
   ]
  },
  {
   "cell_type": "code",
   "execution_count": 3,
   "metadata": {
    "collapsed": true
   },
   "outputs": [],
   "source": [
    "import urllib.request"
   ]
  },
  {
   "cell_type": "code",
   "execution_count": 8,
   "metadata": {
    "collapsed": false
   },
   "outputs": [
    {
     "name": "stdout",
     "output_type": "stream",
     "text": [
      "http://www.tse.com.tw/ch/trading/exchange/FMTQIK/FMTQIK.php?download=csv&query_year=2017&query_month=1\n",
      "http://www.tse.com.tw/ch/trading/exchange/FMTQIK/FMTQIK.php?download=csv&query_year=2017&query_month=2\n"
     ]
    }
   ],
   "source": [
    "fullmarket_api = 'http://www.tse.com.tw/ch/trading/exchange/FMTQIK/FMTQIK.php'\n",
    "for month in range(1,3):\n",
    "    for year in range(2017,2018):\n",
    "        fullmarket_query = 'download=csv&query_year=%d&query_month=%d' % (year, month)\n",
    "        fullmarket_url = fullmarket_api + '?' + fullmarket_query\n",
    "        print(fullmarket_url)\n",
    "        saveFile = str(year) + str(month) + '.csv'\n",
    "        #urllib.request.urlretrieve(fullmarket_url, saveFile)"
   ]
  },
  {
   "cell_type": "code",
   "execution_count": null,
   "metadata": {
    "collapsed": true
   },
   "outputs": [],
   "source": [
    "from http.client import HTTPConnection\n",
    "import urllib.parse"
   ]
  },
  {
   "cell_type": "code",
   "execution_count": 62,
   "metadata": {
    "collapsed": false
   },
   "outputs": [
    {
     "name": "stdout",
     "output_type": "stream",
     "text": [
      "[datetime.date(2016, 1, 4), 3828317506, 77036676791, 823702, 8114.26, -223.8]\n",
      "[datetime.date(2016, 1, 5), 4174711678, 80349248930, 835646, 8075.11, -39.15]\n",
      "[datetime.date(2016, 1, 6), 4862380750, 99143623931, 944604, 7990.39, -84.72]\n",
      "[datetime.date(2016, 1, 7), 5920713736, 117577039714, 1151598, 7852.06, -138.33]\n",
      "[datetime.date(2016, 1, 8), 4534181205, 92853774729, 859799, 7893.97, 41.91]\n",
      "[datetime.date(2016, 1, 11), 4324346686, 85321943005, 864273, 7788.42, -105.55]\n",
      "[datetime.date(2016, 1, 12), 4774778088, 86552474918, 878969, 7768.45, -19.97]\n",
      "[datetime.date(2016, 1, 13), 4191855350, 76588652185, 785161, 7824.61, 56.16]\n",
      "[datetime.date(2016, 1, 14), 4276900082, 81779081768, 843642, 7742.88, -81.73]\n",
      "[datetime.date(2016, 1, 15), 4228452132, 90430983043, 834866, 7762.01, 19.13]\n",
      "[datetime.date(2016, 1, 18), 4556531786, 81693572616, 899532, 7811.18, 49.17]\n",
      "[datetime.date(2016, 1, 19), 4401843015, 74328444326, 777581, 7854.88, 43.7]\n",
      "[datetime.date(2016, 1, 20), 4995793415, 89909264962, 934145, 7699.12, -155.76]\n",
      "[datetime.date(2016, 1, 21), 4228018052, 73757813283, 766878, 7664.01, -35.11]\n",
      "[datetime.date(2016, 1, 22), 3770515717, 69411719214, 735234, 7756.18, 92.17]\n",
      "[datetime.date(2016, 1, 25), 3916387295, 69661237574, 721242, 7894.15, 137.97]\n",
      "[datetime.date(2016, 1, 26), 3725690246, 62349440613, 663929, 7828.67, -65.48]\n",
      "[datetime.date(2016, 1, 27), 3921538073, 70341506723, 704137, 7849.83, 21.16]\n",
      "[datetime.date(2016, 1, 28), 4225736859, 79651114076, 757225, 7905.1, 55.27]\n",
      "[datetime.date(2016, 1, 29), 5887199015, 113463518980, 991000, 8080.6, 175.5]\n",
      "[datetime.date(2016, 1, 30), 4060926553, 62496769696, 667653, 8145.21, 64.61]\n"
     ]
    }
   ],
   "source": [
    "import re\n",
    "dataRe = r'^\"\\s*\\d+/\\d+/\\d+\"'\n",
    "floatRe = r'[+-]*\\d+\\.\\d+'\n",
    "dateRe = r'\\d+/\\d+/\\d+'\n",
    "dataList = list()\n",
    "for item in stockDataList:\n",
    "    if re.match(dataRe,item):\n",
    "        #print(item)\n",
    "        dataList.append(item.split('\",\"'))\n",
    "for i, items in enumerate(dataList):\n",
    "    for j, data in enumerate(items):\n",
    "        data = data.replace('\"','')\n",
    "        data = data.replace(',','')\n",
    "        data = data.replace(' ','')\n",
    "        if data.isdigit():\n",
    "            data = int(data)\n",
    "        elif re.match(floatRe, data):\n",
    "            data = float(data)\n",
    "        elif re.match(dateRe, data):\n",
    "            y = int(data.split('/')[0])+1911\n",
    "            m = int(data.split('/')[1])\n",
    "            d = int(data.split('/')[2])\n",
    "            data = datetime.date(y, m, d)\n",
    "        #print(data)\n",
    "        dataList[i][j] = data\n",
    "for items in dataList:\n",
    "    print(items)"
   ]
  },
  {
   "cell_type": "code",
   "execution_count": 30,
   "metadata": {
    "collapsed": false
   },
   "outputs": [
    {
     "name": "stdout",
     "output_type": "stream",
     "text": [
      "aaaaaaaaa\n"
     ]
    }
   ],
   "source": [
    "b = 'aaaaaaaaa'\n",
    "b.replace('a','b')\n",
    "print(b)"
   ]
  },
  {
   "cell_type": "code",
   "execution_count": 61,
   "metadata": {
    "collapsed": false
   },
   "outputs": [
    {
     "name": "stdout",
     "output_type": "stream",
     "text": [
      "2016-01-04\n"
     ]
    }
   ],
   "source": [
    "import datetime\n",
    "a = '105/01/04'\n",
    "dateRe = r'\\d+/\\d+/\\d+'\n",
    "re.match(dateRe,a)\n",
    "y = int(a.split('/')[0])+1911\n",
    "m = int(a.split('/')[1])\n",
    "d = int(a.split('/')[2])\n",
    "dateformat = datetime.date(y, m, d)\n",
    "\n",
    "print(dateformat)\n"
   ]
  },
  {
   "cell_type": "code",
   "execution_count": 58,
   "metadata": {
    "collapsed": false
   },
   "outputs": [
    {
     "name": "stdout",
     "output_type": "stream",
     "text": [
      "2011-01-20\n"
     ]
    }
   ],
   "source": []
  },
  {
   "cell_type": "code",
   "execution_count": null,
   "metadata": {
    "collapsed": true
   },
   "outputs": [],
   "source": []
  }
 ],
 "metadata": {
  "anaconda-cloud": {},
  "kernelspec": {
   "display_name": "Python [conda root]",
   "language": "python",
   "name": "conda-root-py"
  },
  "language_info": {
   "codemirror_mode": {
    "name": "ipython",
    "version": 3
   },
   "file_extension": ".py",
   "mimetype": "text/x-python",
   "name": "python",
   "nbconvert_exporter": "python",
   "pygments_lexer": "ipython3",
   "version": "3.5.2"
  }
 },
 "nbformat": 4,
 "nbformat_minor": 1
}

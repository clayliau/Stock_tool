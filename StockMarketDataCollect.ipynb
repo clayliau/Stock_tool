{
 "cells": [
  {
   "cell_type": "markdown",
   "metadata": {},
   "source": [
    "# Raw Data Collector\n",
    "## 1. Import Modules"
   ]
  },
  {
   "cell_type": "code",
   "execution_count": 4,
   "metadata": {
    "collapsed": false
   },
   "outputs": [],
   "source": [
    "from http.client import HTTPConnection, HTTPSConnection\n",
    "import urllib.parse\n",
    "import re\n",
    "import datetime\n",
    "from sqlalchemy import create_engine\n",
    "from sqlalchemy.orm import sessionmaker\n",
    "from DB_Setup import Base, FullMarketDailyTrade, SingleStockDaily, StockNameID\n",
    "import datetime"
   ]
  },
  {
   "cell_type": "markdown",
   "metadata": {},
   "source": [
    "## 2. Connection with Database"
   ]
  },
  {
   "cell_type": "code",
   "execution_count": 5,
   "metadata": {
    "collapsed": false
   },
   "outputs": [],
   "source": [
    "engine = create_engine('sqlite:///taiwanstock.db')\n",
    "# Bind the engine to the metadata of the Base class so that the\n",
    "# declaratives can be accessed through a DBSession instance\n",
    "Base.metadata.bind = engine\n",
    "DBSession = sessionmaker(bind=engine)\n",
    "# A DBSession() instance establishes all conversations with the database\n",
    "# and represents a \"staging zone\" for all the objects loaded into the\n",
    "# database session object. Any change made against the objects in the\n",
    "# session won't be persisted into the database until you call\n",
    "# session.commit(). If you're not happy about the changes, you can\n",
    "# revert all of them back to the last commit by calling\n",
    "# session.rollback()\n",
    "session = DBSession()"
   ]
  },
  {
   "cell_type": "markdown",
   "metadata": {},
   "source": [
    "## 3. Functions \n",
    "### a. Internet Data Query\n",
    "* Using HTML POST method to scrape data on internet"
   ]
  },
  {
   "cell_type": "code",
   "execution_count": 6,
   "metadata": {
    "collapsed": false
   },
   "outputs": [],
   "source": [
    "def QueryDataPost(urlDomain, urlReq, bodyParams, headers={}, httpType='http'):\n",
    "    if httpType is 'http':\n",
    "        conn = HTTPConnection(urlDomain)\n",
    "    elif httpType is 'https':\n",
    "        conn = HTTPSConnection(urlDomain)\n",
    "    #params = urllib.parse.urlencode(bodyParams)\n",
    "    params = bodyParams\n",
    "    conn.request('POST', urlReq, params, headers)\n",
    "    connResp = conn.getresponse()\n",
    "    connReadData = connResp.read().decode('utf-8', 'ignore')\n",
    "    return connReadData"
   ]
  },
  {
   "cell_type": "markdown",
   "metadata": {},
   "source": [
    "### b. Easy List Printer"
   ]
  },
  {
   "cell_type": "code",
   "execution_count": 7,
   "metadata": {
    "collapsed": true
   },
   "outputs": [],
   "source": [
    "def printList(dataList):\n",
    "    for items in dataList:\n",
    "        print(items)"
   ]
  },
  {
   "cell_type": "markdown",
   "metadata": {},
   "source": [
    "### c. Daily Stock Data Extractor"
   ]
  },
  {
   "cell_type": "code",
   "execution_count": 8,
   "metadata": {
    "collapsed": false
   },
   "outputs": [],
   "source": [
    "def stockDayDataExtract(stockDataList):\n",
    "    dataRe = r'^\"\\s*\\d+/*\\d+/*\\d+\"'\n",
    "    floatRe = r'[+-]*\\d+\\.\\d+'\n",
    "    dateRe = r'\\d+/\\d+/\\d+'\n",
    "    specialData = 'X0.00'\n",
    "    dataList = list()\n",
    "    for item in stockDataList:\n",
    "        if re.match(dataRe,item):\n",
    "            dataList.append(item.split('\",\"'))\n",
    "    for i, items in enumerate(dataList):\n",
    "        for j, data in enumerate(items):\n",
    "            data = data.replace('\"','')\n",
    "            data = data.replace(',','')\n",
    "            data = data.replace(' ','')\n",
    "            if data.isdigit():\n",
    "                data = int(data)\n",
    "            elif re.match(floatRe, data):\n",
    "                data = float(data)\n",
    "            elif re.match(dateRe, data):\n",
    "                y = int(data.split('/')[0])\n",
    "                m = int(data.split('/')[1])\n",
    "                d = int(data.split('/')[2])\n",
    "                data = datetime.date(y, m, d)\n",
    "            elif data == specialData:\n",
    "                data = 0\n",
    "            #print(data)\n",
    "            dataList[i][j] = data\n",
    "    return dataList"
   ]
  },
  {
   "cell_type": "markdown",
   "metadata": {},
   "source": [
    "### d. Add StockID for SingleStock"
   ]
  },
  {
   "cell_type": "code",
   "execution_count": 9,
   "metadata": {
    "collapsed": true
   },
   "outputs": [],
   "source": [
    "def addStockID(data, ID):\n",
    "    newDataList = list()\n",
    "    for listdata in data:\n",
    "        listdata.append(ID)\n",
    "        newDataList.append(listdata)\n",
    "    return newDataList"
   ]
  },
  {
   "cell_type": "markdown",
   "metadata": {},
   "source": [
    "### e. HTML Parameters of SingleStock"
   ]
  },
  {
   "cell_type": "code",
   "execution_count": 10,
   "metadata": {
    "collapsed": true
   },
   "outputs": [],
   "source": [
    "def singleStockDayParams(year, month, stockNo):\n",
    "    return 'download=csv&query_year=%d&query_month=%d&CO_ID=%s' % (year, month, stockNo)"
   ]
  },
  {
   "cell_type": "markdown",
   "metadata": {},
   "source": [
    "### f. HTML Parameters of FullMarket"
   ]
  },
  {
   "cell_type": "code",
   "execution_count": 11,
   "metadata": {
    "collapsed": true
   },
   "outputs": [],
   "source": [
    "def fulMarketTradeParams(year, month):\n",
    "    return 'download=csv&query_year=%d&query_month=%d' % (year, month)\n",
    "    "
   ]
  },
  {
   "cell_type": "markdown",
   "metadata": {},
   "source": [
    "### g. Raw Data to Database of FullMarket\n",
    "* tradeVolume is stored as thousand base\n",
    "* tradeValue is stored in thousan base\n",
    "* Bypass the empty data"
   ]
  },
  {
   "cell_type": "code",
   "execution_count": 12,
   "metadata": {
    "collapsed": true
   },
   "outputs": [],
   "source": [
    "def createFullMarket(data):\n",
    "    if 0 in data[1:5]:\n",
    "        pass\n",
    "    else:\n",
    "        ratio = 1000\n",
    "        stockDay = FullMarketDailyTrade(tradeDate=data[0], tradeVolume=data[1]/ratio,\\\n",
    "                                    tradeValue=data[2]/ratio, transaction=data[3],\\\n",
    "                                    TAIEX=data[4], change=data[5])\n",
    "        try:\n",
    "            session.add(stockDay)\n",
    "            session.commit()\n",
    "        except:\n",
    "            print('Error occurs in this item:')\n",
    "            print(data)\n",
    "            return"
   ]
  },
  {
   "cell_type": "markdown",
   "metadata": {},
   "source": [
    "### h. Raw Data to Database of SingleStock\n",
    "* tradeVolume is stored as thousand base\n",
    "* tradeValue is stored in thousan base\n",
    "* Bypass the empty data"
   ]
  },
  {
   "cell_type": "code",
   "execution_count": 13,
   "metadata": {
    "collapsed": false
   },
   "outputs": [],
   "source": [
    "def createSingleStock(data):\n",
    "    if 0 in data[1:7]:\n",
    "        pass\n",
    "    else:\n",
    "        ratio = 1000\n",
    "        stockDay = SingleStockDaily(tradeDate=data[0], tradeVolume=data[1]/ratio, tradeValue=data[2]/ratio,\\\n",
    "                                openingprice=data[3], highestprice=data[4],\\\n",
    "                                lowestprice=data[5], closingtprice=data[6],\\\n",
    "                                change=data[7], transaction=data[8], stockid=data[9])\n",
    "        try:\n",
    "            session.add(stockDay)\n",
    "            session.commit()\n",
    "        except:\n",
    "            print('Error occurs in this item:')\n",
    "            print(data)\n",
    "            return"
   ]
  },
  {
   "cell_type": "markdown",
   "metadata": {},
   "source": [
    "## 3. Variables"
   ]
  },
  {
   "cell_type": "code",
   "execution_count": 14,
   "metadata": {
    "collapsed": false
   },
   "outputs": [],
   "source": [
    "#####Changeable Variables#####\n",
    "year = 2016\n",
    "month = 12\n",
    "stockNo = '2454'\n",
    "\n",
    "#####Main Variables#####\n",
    "downloadType = 'csv'\n",
    "tesDomain = 'www.tse.com.tw'\n",
    "headers = {\"Content-type\": \"application/x-www-form-urlencoded\",\"Accept\": \"text/plain\"}\n",
    "fulMarketTradeTitle = [\"Date\",\"Trade Volume\",\"Trade Value\",\"Transaction\",\"TAIEX\",\"Change\"]\n",
    "singleStockDayTitle = [\"Date\",\"Trade Volume\",\"Trade Value\",\"Opening Price\",\"Highest Price\",\\\n",
    "                       \"Lowest Price\",\"Closing Price\",\"Change\",\"Transaction\"]\n",
    "\n",
    "fulMarketTradeAPI = '/en/trading/exchange/FMTQIK/FMTQIK.php'\n",
    "singleStocDaykAPI = '/en/trading/exchange/STOCK_DAY/STOCK_DAYMAIN.php'\n",
    "#fulMarketTradeParams = 'download=csv&query_year=%d&query_month=%d' % (year, month)\n",
    "#singleStockDayParams = 'download=csv&query_year=%d&query_month=%d&CO_ID=%d' % (year, month, stockNo)\n"
   ]
  },
  {
   "cell_type": "markdown",
   "metadata": {},
   "source": [
    "# %%%Code Tester%%%"
   ]
  },
  {
   "cell_type": "markdown",
   "metadata": {},
   "source": [
    "* need to check uniqueness before save it into database"
   ]
  },
  {
   "cell_type": "code",
   "execution_count": 3,
   "metadata": {
    "collapsed": false
   },
   "outputs": [
    {
     "name": "stdout",
     "output_type": "stream",
     "text": [
      "<DB_Setup.SingleStockDaily object at 0x000002018CCE0048>\n"
     ]
    }
   ],
   "source": [
    "taiwan50 = SingleStockDaily()\n",
    "data = ['2016-01-04', '0050']\n",
    "print(taiwan50.checkUnique(session, data))"
   ]
  },
  {
   "cell_type": "markdown",
   "metadata": {},
   "source": [
    "* Next time start from stock item 654"
   ]
  },
  {
   "cell_type": "code",
   "execution_count": 19,
   "metadata": {
    "collapsed": false
   },
   "outputs": [
    {
     "name": "stdout",
     "output_type": "stream",
     "text": [
      "0061's data from 2016 to 2018 is stored in database\n",
      "006203's data from 2016 to 2018 is stored in database\n",
      "006204's data from 2016 to 2018 is stored in database\n",
      "006205's data from 2016 to 2018 is stored in database\n",
      "006206's data from 2016 to 2018 is stored in database\n",
      "006207's data from 2016 to 2018 is stored in database\n",
      "006208's data from 2016 to 2018 is stored in database\n",
      "00625K's data from 2016 to 2018 is stored in database\n",
      "00631L's data from 2016 to 2018 is stored in database\n",
      "00632R's data from 2016 to 2018 is stored in database\n",
      "00633L's data from 2016 to 2018 is stored in database\n",
      "00634R's data from 2016 to 2018 is stored in database\n",
      "00635U's data from 2016 to 2018 is stored in database\n",
      "00636's data from 2016 to 2018 is stored in database\n",
      "00637L's data from 2016 to 2018 is stored in database\n",
      "00638R's data from 2016 to 2018 is stored in database\n",
      "00639's data from 2016 to 2018 is stored in database\n",
      "00640L's data from 2016 to 2018 is stored in database\n",
      "00641R's data from 2016 to 2018 is stored in database\n",
      "00642U's data from 2016 to 2018 is stored in database\n",
      "00643's data from 2016 to 2018 is stored in database\n",
      "00643K's data from 2016 to 2018 is stored in database\n",
      "00645's data from 2016 to 2018 is stored in database\n",
      "00646's data from 2016 to 2018 is stored in database\n",
      "00647L's data from 2016 to 2018 is stored in database\n",
      "00648R's data from 2016 to 2018 is stored in database\n",
      "00649's data from 2016 to 2018 is stored in database\n",
      "00650L's data from 2016 to 2018 is stored in database\n",
      "00651R's data from 2016 to 2018 is stored in database\n",
      "00652's data from 2016 to 2018 is stored in database\n",
      "00653L's data from 2016 to 2018 is stored in database\n",
      "00654R's data from 2016 to 2018 is stored in database\n",
      "00655L's data from 2016 to 2018 is stored in database\n",
      "00656R's data from 2016 to 2018 is stored in database\n",
      "00657's data from 2016 to 2018 is stored in database\n",
      "00658L's data from 2016 to 2018 is stored in database\n",
      "00659R's data from 2016 to 2018 is stored in database\n",
      "00660's data from 2016 to 2018 is stored in database\n",
      "00661's data from 2016 to 2018 is stored in database\n",
      "00662's data from 2016 to 2018 is stored in database\n",
      "00663L's data from 2016 to 2018 is stored in database\n",
      "00664R's data from 2016 to 2018 is stored in database\n",
      "00665L's data from 2016 to 2018 is stored in database\n",
      "00666R's data from 2016 to 2018 is stored in database\n",
      "00667's data from 2016 to 2018 is stored in database\n",
      "00668's data from 2016 to 2018 is stored in database\n",
      "00669R's data from 2016 to 2018 is stored in database\n",
      "00670L's data from 2016 to 2018 is stored in database\n",
      "00671R's data from 2016 to 2018 is stored in database\n",
      "00672L's data from 2016 to 2018 is stored in database\n",
      "00673R's data from 2016 to 2018 is stored in database\n",
      "00674R's data from 2016 to 2018 is stored in database\n",
      "00675L's data from 2016 to 2018 is stored in database\n",
      "00676R's data from 2016 to 2018 is stored in database\n",
      "00677U's data from 2016 to 2018 is stored in database\n",
      "00678's data from 2016 to 2018 is stored in database\n",
      "00680L's data from 2016 to 2018 is stored in database\n",
      "00681R's data from 2016 to 2018 is stored in database\n",
      "00682U's data from 2016 to 2018 is stored in database\n",
      "00683L's data from 2016 to 2018 is stored in database\n",
      "00684R's data from 2016 to 2018 is stored in database\n",
      "008201's data from 2016 to 2018 is stored in database\n",
      "01001T's data from 2016 to 2018 is stored in database\n",
      "01002T's data from 2016 to 2018 is stored in database\n",
      "01003T's data from 2016 to 2018 is stored in database\n",
      "01004T's data from 2016 to 2018 is stored in database\n",
      "01007T's data from 2016 to 2018 is stored in database\n",
      "1101's data from 2016 to 2018 is stored in database\n",
      "1102's data from 2016 to 2018 is stored in database\n",
      "1103's data from 2016 to 2018 is stored in database\n",
      "1104's data from 2016 to 2018 is stored in database\n",
      "1108's data from 2016 to 2018 is stored in database\n",
      "1109's data from 2016 to 2018 is stored in database\n",
      "1110's data from 2016 to 2018 is stored in database\n",
      "1201's data from 2016 to 2018 is stored in database\n",
      "1203's data from 2016 to 2018 is stored in database\n",
      "1210's data from 2016 to 2018 is stored in database\n",
      "1213's data from 2016 to 2018 is stored in database\n",
      "1215's data from 2016 to 2018 is stored in database\n",
      "1216's data from 2016 to 2018 is stored in database\n",
      "1217's data from 2016 to 2018 is stored in database\n",
      "1218's data from 2016 to 2018 is stored in database\n",
      "1219's data from 2016 to 2018 is stored in database\n",
      "1220's data from 2016 to 2018 is stored in database\n",
      "1225's data from 2016 to 2018 is stored in database\n",
      "1227's data from 2016 to 2018 is stored in database\n",
      "1229's data from 2016 to 2018 is stored in database\n",
      "1231's data from 2016 to 2018 is stored in database\n",
      "1232's data from 2016 to 2018 is stored in database\n",
      "1233's data from 2016 to 2018 is stored in database\n",
      "1234's data from 2016 to 2018 is stored in database\n",
      "1235's data from 2016 to 2018 is stored in database\n",
      "1236's data from 2016 to 2018 is stored in database\n",
      "1256's data from 2016 to 2018 is stored in database\n",
      "1262's data from 2016 to 2018 is stored in database\n",
      "1301's data from 2016 to 2018 is stored in database\n",
      "1303's data from 2016 to 2018 is stored in database\n",
      "1304's data from 2016 to 2018 is stored in database\n",
      "1305's data from 2016 to 2018 is stored in database\n",
      "1307's data from 2016 to 2018 is stored in database\n",
      "1308's data from 2016 to 2018 is stored in database\n",
      "1309's data from 2016 to 2018 is stored in database\n",
      "1310's data from 2016 to 2018 is stored in database\n",
      "1312's data from 2016 to 2018 is stored in database\n",
      "1313's data from 2016 to 2018 is stored in database\n",
      "1314's data from 2016 to 2018 is stored in database\n",
      "1315's data from 2016 to 2018 is stored in database\n",
      "1316's data from 2016 to 2018 is stored in database\n",
      "1319's data from 2016 to 2018 is stored in database\n",
      "1321's data from 2016 to 2018 is stored in database\n",
      "1323's data from 2016 to 2018 is stored in database\n",
      "1324's data from 2016 to 2018 is stored in database\n",
      "1325's data from 2016 to 2018 is stored in database\n",
      "1326's data from 2016 to 2018 is stored in database\n",
      "1337's data from 2016 to 2018 is stored in database\n",
      "1338's data from 2016 to 2018 is stored in database\n",
      "1339's data from 2016 to 2018 is stored in database\n",
      "1340's data from 2016 to 2018 is stored in database\n",
      "1402's data from 2016 to 2018 is stored in database\n",
      "1409's data from 2016 to 2018 is stored in database\n",
      "1410's data from 2016 to 2018 is stored in database\n",
      "1413's data from 2016 to 2018 is stored in database\n",
      "1414's data from 2016 to 2018 is stored in database\n",
      "1416's data from 2016 to 2018 is stored in database\n",
      "1417's data from 2016 to 2018 is stored in database\n",
      "1418's data from 2016 to 2018 is stored in database\n",
      "1419's data from 2016 to 2018 is stored in database\n",
      "1423's data from 2016 to 2018 is stored in database\n",
      "1432's data from 2016 to 2018 is stored in database\n",
      "1434's data from 2016 to 2018 is stored in database\n",
      "1435's data from 2016 to 2018 is stored in database\n",
      "1436's data from 2016 to 2018 is stored in database\n",
      "1437's data from 2016 to 2018 is stored in database\n",
      "1438's data from 2016 to 2018 is stored in database\n",
      "1439's data from 2016 to 2018 is stored in database\n",
      "1440's data from 2016 to 2018 is stored in database\n",
      "1441's data from 2016 to 2018 is stored in database\n",
      "1442's data from 2016 to 2018 is stored in database\n",
      "1443's data from 2016 to 2018 is stored in database\n",
      "1444's data from 2016 to 2018 is stored in database\n",
      "1445's data from 2016 to 2018 is stored in database\n",
      "1446's data from 2016 to 2018 is stored in database\n",
      "1447's data from 2016 to 2018 is stored in database\n",
      "1449's data from 2016 to 2018 is stored in database\n",
      "1451's data from 2016 to 2018 is stored in database\n",
      "1452's data from 2016 to 2018 is stored in database\n",
      "1453's data from 2016 to 2018 is stored in database\n",
      "1454's data from 2016 to 2018 is stored in database\n",
      "1455's data from 2016 to 2018 is stored in database\n",
      "1456's data from 2016 to 2018 is stored in database\n",
      "1459's data from 2016 to 2018 is stored in database\n",
      "1460's data from 2016 to 2018 is stored in database\n",
      "1463's data from 2016 to 2018 is stored in database\n",
      "1464's data from 2016 to 2018 is stored in database\n",
      "1465's data from 2016 to 2018 is stored in database\n",
      "1466's data from 2016 to 2018 is stored in database\n",
      "1467's data from 2016 to 2018 is stored in database\n",
      "1468's data from 2016 to 2018 is stored in database\n",
      "1469's data from 2016 to 2018 is stored in database\n",
      "1470's data from 2016 to 2018 is stored in database\n",
      "1471's data from 2016 to 2018 is stored in database\n",
      "1472's data from 2016 to 2018 is stored in database\n",
      "1473's data from 2016 to 2018 is stored in database\n",
      "1474's data from 2016 to 2018 is stored in database\n",
      "1475's data from 2016 to 2018 is stored in database\n",
      "1476's data from 2016 to 2018 is stored in database\n",
      "1477's data from 2016 to 2018 is stored in database\n",
      "1503's data from 2016 to 2018 is stored in database\n",
      "1504's data from 2016 to 2018 is stored in database\n",
      "1506's data from 2016 to 2018 is stored in database\n",
      "1507's data from 2016 to 2018 is stored in database\n",
      "1512's data from 2016 to 2018 is stored in database\n",
      "1513's data from 2016 to 2018 is stored in database\n",
      "1514's data from 2016 to 2018 is stored in database\n",
      "1515's data from 2016 to 2018 is stored in database\n",
      "1516's data from 2016 to 2018 is stored in database\n",
      "1517's data from 2016 to 2018 is stored in database\n",
      "1519's data from 2016 to 2018 is stored in database\n",
      "1521's data from 2016 to 2018 is stored in database\n",
      "1522's data from 2016 to 2018 is stored in database\n",
      "1524's data from 2016 to 2018 is stored in database\n",
      "1525's data from 2016 to 2018 is stored in database\n",
      "1526's data from 2016 to 2018 is stored in database\n",
      "1527's data from 2016 to 2018 is stored in database\n",
      "1528's data from 2016 to 2018 is stored in database\n",
      "1529's data from 2016 to 2018 is stored in database\n",
      "1530's data from 2016 to 2018 is stored in database\n",
      "1531's data from 2016 to 2018 is stored in database\n",
      "1532's data from 2016 to 2018 is stored in database\n",
      "1533's data from 2016 to 2018 is stored in database\n",
      "1535's data from 2016 to 2018 is stored in database\n",
      "1536's data from 2016 to 2018 is stored in database\n",
      "1537's data from 2016 to 2018 is stored in database\n",
      "1538's data from 2016 to 2018 is stored in database\n",
      "1539's data from 2016 to 2018 is stored in database\n",
      "1540's data from 2016 to 2018 is stored in database\n",
      "1541's data from 2016 to 2018 is stored in database\n",
      "1558's data from 2016 to 2018 is stored in database\n",
      "1560's data from 2016 to 2018 is stored in database\n",
      "1568's data from 2016 to 2018 is stored in database\n",
      "1582's data from 2016 to 2018 is stored in database\n",
      "1583's data from 2016 to 2018 is stored in database\n",
      "1589's data from 2016 to 2018 is stored in database\n",
      "1590's data from 2016 to 2018 is stored in database\n",
      "1592's data from 2016 to 2018 is stored in database\n",
      "1598's data from 2016 to 2018 is stored in database\n",
      "1603's data from 2016 to 2018 is stored in database\n",
      "1604's data from 2016 to 2018 is stored in database\n",
      "1605's data from 2016 to 2018 is stored in database\n",
      "1608's data from 2016 to 2018 is stored in database\n",
      "1609's data from 2016 to 2018 is stored in database\n",
      "1611's data from 2016 to 2018 is stored in database\n",
      "1612's data from 2016 to 2018 is stored in database\n",
      "1613's data from 2016 to 2018 is stored in database\n",
      "1614's data from 2016 to 2018 is stored in database\n",
      "1615's data from 2016 to 2018 is stored in database\n",
      "1616's data from 2016 to 2018 is stored in database\n",
      "1617's data from 2016 to 2018 is stored in database\n",
      "1618's data from 2016 to 2018 is stored in database\n",
      "1626's data from 2016 to 2018 is stored in database\n",
      "1701's data from 2016 to 2018 is stored in database\n",
      "1702's data from 2016 to 2018 is stored in database\n",
      "1704's data from 2016 to 2018 is stored in database\n",
      "1707's data from 2016 to 2018 is stored in database\n",
      "1708's data from 2016 to 2018 is stored in database\n",
      "1709's data from 2016 to 2018 is stored in database\n",
      "1710's data from 2016 to 2018 is stored in database\n",
      "1711's data from 2016 to 2018 is stored in database\n",
      "1712's data from 2016 to 2018 is stored in database\n",
      "1713's data from 2016 to 2018 is stored in database\n",
      "1714's data from 2016 to 2018 is stored in database\n",
      "1715's data from 2016 to 2018 is stored in database\n",
      "1717's data from 2016 to 2018 is stored in database\n",
      "1718's data from 2016 to 2018 is stored in database\n",
      "1720's data from 2016 to 2018 is stored in database\n",
      "1721's data from 2016 to 2018 is stored in database\n",
      "1722's data from 2016 to 2018 is stored in database\n",
      "1723's data from 2016 to 2018 is stored in database\n",
      "1724's data from 2016 to 2018 is stored in database\n",
      "1725's data from 2016 to 2018 is stored in database\n",
      "1726's data from 2016 to 2018 is stored in database\n",
      "1727's data from 2016 to 2018 is stored in database\n",
      "1729's data from 2016 to 2018 is stored in database\n",
      "1730's data from 2016 to 2018 is stored in database\n",
      "1731's data from 2016 to 2018 is stored in database\n",
      "1732's data from 2016 to 2018 is stored in database\n",
      "1733's data from 2016 to 2018 is stored in database\n",
      "1734's data from 2016 to 2018 is stored in database\n",
      "1735's data from 2016 to 2018 is stored in database\n",
      "1736's data from 2016 to 2018 is stored in database\n",
      "1737's data from 2016 to 2018 is stored in database\n",
      "1762's data from 2016 to 2018 is stored in database\n",
      "1773's data from 2016 to 2018 is stored in database\n",
      "1776's data from 2016 to 2018 is stored in database\n",
      "1783's data from 2016 to 2018 is stored in database\n",
      "1786's data from 2016 to 2018 is stored in database\n",
      "1789's data from 2016 to 2018 is stored in database\n",
      "1802's data from 2016 to 2018 is stored in database\n",
      "1805's data from 2016 to 2018 is stored in database\n",
      "1806's data from 2016 to 2018 is stored in database\n",
      "1808's data from 2016 to 2018 is stored in database\n",
      "1809's data from 2016 to 2018 is stored in database\n",
      "1810's data from 2016 to 2018 is stored in database\n",
      "1817's data from 2016 to 2018 is stored in database\n",
      "1902's data from 2016 to 2018 is stored in database\n",
      "1903's data from 2016 to 2018 is stored in database\n",
      "1904's data from 2016 to 2018 is stored in database\n",
      "1905's data from 2016 to 2018 is stored in database\n",
      "1906's data from 2016 to 2018 is stored in database\n",
      "1907's data from 2016 to 2018 is stored in database\n",
      "1909's data from 2016 to 2018 is stored in database\n",
      "2002's data from 2016 to 2018 is stored in database\n",
      "2002A's data from 2016 to 2018 is stored in database\n",
      "2006's data from 2016 to 2018 is stored in database\n",
      "2007's data from 2016 to 2018 is stored in database\n",
      "2008's data from 2016 to 2018 is stored in database\n",
      "2009's data from 2016 to 2018 is stored in database\n",
      "2010's data from 2016 to 2018 is stored in database\n",
      "2012's data from 2016 to 2018 is stored in database\n",
      "2013's data from 2016 to 2018 is stored in database\n",
      "2014's data from 2016 to 2018 is stored in database\n",
      "2015's data from 2016 to 2018 is stored in database\n",
      "2017's data from 2016 to 2018 is stored in database\n",
      "2020's data from 2016 to 2018 is stored in database\n",
      "2022's data from 2016 to 2018 is stored in database\n",
      "2023's data from 2016 to 2018 is stored in database\n",
      "2024's data from 2016 to 2018 is stored in database\n",
      "2025's data from 2016 to 2018 is stored in database\n",
      "2027's data from 2016 to 2018 is stored in database\n",
      "2028's data from 2016 to 2018 is stored in database\n",
      "2029's data from 2016 to 2018 is stored in database\n",
      "2030's data from 2016 to 2018 is stored in database\n",
      "2031's data from 2016 to 2018 is stored in database\n",
      "2032's data from 2016 to 2018 is stored in database\n",
      "2033's data from 2016 to 2018 is stored in database\n",
      "2034's data from 2016 to 2018 is stored in database\n",
      "2038's data from 2016 to 2018 is stored in database\n",
      "2049's data from 2016 to 2018 is stored in database\n",
      "2059's data from 2016 to 2018 is stored in database\n",
      "2062's data from 2016 to 2018 is stored in database\n",
      "2069's data from 2016 to 2018 is stored in database\n",
      "2101's data from 2016 to 2018 is stored in database\n",
      "2102's data from 2016 to 2018 is stored in database\n",
      "2103's data from 2016 to 2018 is stored in database\n",
      "2104's data from 2016 to 2018 is stored in database\n",
      "2105's data from 2016 to 2018 is stored in database\n",
      "2106's data from 2016 to 2018 is stored in database\n",
      "2107's data from 2016 to 2018 is stored in database\n",
      "2108's data from 2016 to 2018 is stored in database\n",
      "2109's data from 2016 to 2018 is stored in database\n",
      "2114's data from 2016 to 2018 is stored in database\n",
      "2115's data from 2016 to 2018 is stored in database\n",
      "2201's data from 2016 to 2018 is stored in database\n",
      "2204's data from 2016 to 2018 is stored in database\n",
      "2206's data from 2016 to 2018 is stored in database\n",
      "2207's data from 2016 to 2018 is stored in database\n",
      "2208's data from 2016 to 2018 is stored in database\n",
      "2227's data from 2016 to 2018 is stored in database\n",
      "2228's data from 2016 to 2018 is stored in database\n",
      "2231's data from 2016 to 2018 is stored in database\n",
      "2236's data from 2016 to 2018 is stored in database\n",
      "2239's data from 2016 to 2018 is stored in database\n",
      "2301's data from 2016 to 2018 is stored in database\n",
      "2302's data from 2016 to 2018 is stored in database\n",
      "2303's data from 2016 to 2018 is stored in database\n",
      "2305's data from 2016 to 2018 is stored in database\n",
      "2308's data from 2016 to 2018 is stored in database\n",
      "2311's data from 2016 to 2018 is stored in database\n",
      "2312's data from 2016 to 2018 is stored in database\n",
      "2313's data from 2016 to 2018 is stored in database\n",
      "2314's data from 2016 to 2018 is stored in database\n",
      "2316's data from 2016 to 2018 is stored in database\n",
      "2317's data from 2016 to 2018 is stored in database\n",
      "2321's data from 2016 to 2018 is stored in database\n",
      "2323's data from 2016 to 2018 is stored in database\n",
      "2324's data from 2016 to 2018 is stored in database\n",
      "2325's data from 2016 to 2018 is stored in database\n",
      "2327's data from 2016 to 2018 is stored in database\n",
      "2328's data from 2016 to 2018 is stored in database\n",
      "2329's data from 2016 to 2018 is stored in database\n",
      "2330's data from 2016 to 2018 is stored in database\n",
      "2331's data from 2016 to 2018 is stored in database\n",
      "2332's data from 2016 to 2018 is stored in database\n",
      "2337's data from 2016 to 2018 is stored in database\n",
      "2338's data from 2016 to 2018 is stored in database\n",
      "2340's data from 2016 to 2018 is stored in database\n",
      "2342's data from 2016 to 2018 is stored in database\n",
      "2344's data from 2016 to 2018 is stored in database\n",
      "2345's data from 2016 to 2018 is stored in database\n",
      "2347's data from 2016 to 2018 is stored in database\n",
      "2348's data from 2016 to 2018 is stored in database\n",
      "2349's data from 2016 to 2018 is stored in database\n",
      "2351's data from 2016 to 2018 is stored in database\n",
      "2352's data from 2016 to 2018 is stored in database\n",
      "2353's data from 2016 to 2018 is stored in database\n",
      "2354's data from 2016 to 2018 is stored in database\n",
      "2355's data from 2016 to 2018 is stored in database\n",
      "2356's data from 2016 to 2018 is stored in database\n",
      "2357's data from 2016 to 2018 is stored in database\n",
      "2358's data from 2016 to 2018 is stored in database\n",
      "2359's data from 2016 to 2018 is stored in database\n",
      "2360's data from 2016 to 2018 is stored in database\n",
      "2362's data from 2016 to 2018 is stored in database\n",
      "2363's data from 2016 to 2018 is stored in database\n",
      "2364's data from 2016 to 2018 is stored in database\n",
      "2365's data from 2016 to 2018 is stored in database\n",
      "2367's data from 2016 to 2018 is stored in database\n",
      "2368's data from 2016 to 2018 is stored in database\n",
      "2369's data from 2016 to 2018 is stored in database\n",
      "2371's data from 2016 to 2018 is stored in database\n",
      "2373's data from 2016 to 2018 is stored in database\n",
      "2374's data from 2016 to 2018 is stored in database\n",
      "2375's data from 2016 to 2018 is stored in database\n",
      "2376's data from 2016 to 2018 is stored in database\n",
      "2377's data from 2016 to 2018 is stored in database\n",
      "2379's data from 2016 to 2018 is stored in database\n",
      "2380's data from 2016 to 2018 is stored in database\n",
      "2382's data from 2016 to 2018 is stored in database\n",
      "2383's data from 2016 to 2018 is stored in database\n",
      "2385's data from 2016 to 2018 is stored in database\n",
      "2387's data from 2016 to 2018 is stored in database\n",
      "2388's data from 2016 to 2018 is stored in database\n",
      "2390's data from 2016 to 2018 is stored in database\n",
      "2392's data from 2016 to 2018 is stored in database\n",
      "2393's data from 2016 to 2018 is stored in database\n",
      "2395's data from 2016 to 2018 is stored in database\n",
      "2397's data from 2016 to 2018 is stored in database\n",
      "2399's data from 2016 to 2018 is stored in database\n",
      "2401's data from 2016 to 2018 is stored in database\n",
      "2402's data from 2016 to 2018 is stored in database\n",
      "2404's data from 2016 to 2018 is stored in database\n",
      "2405's data from 2016 to 2018 is stored in database\n",
      "2406's data from 2016 to 2018 is stored in database\n",
      "2408's data from 2016 to 2018 is stored in database\n",
      "2409's data from 2016 to 2018 is stored in database\n",
      "2412's data from 2016 to 2018 is stored in database\n",
      "2413's data from 2016 to 2018 is stored in database\n",
      "2414's data from 2016 to 2018 is stored in database\n",
      "2415's data from 2016 to 2018 is stored in database\n",
      "2417's data from 2016 to 2018 is stored in database\n",
      "2419's data from 2016 to 2018 is stored in database\n",
      "2420's data from 2016 to 2018 is stored in database\n",
      "2421's data from 2016 to 2018 is stored in database\n",
      "2423's data from 2016 to 2018 is stored in database\n",
      "2424's data from 2016 to 2018 is stored in database\n",
      "2425's data from 2016 to 2018 is stored in database\n",
      "2426's data from 2016 to 2018 is stored in database\n",
      "2427's data from 2016 to 2018 is stored in database\n",
      "2428's data from 2016 to 2018 is stored in database\n",
      "2429's data from 2016 to 2018 is stored in database\n",
      "2430's data from 2016 to 2018 is stored in database\n",
      "2431's data from 2016 to 2018 is stored in database\n",
      "2433's data from 2016 to 2018 is stored in database\n",
      "2434's data from 2016 to 2018 is stored in database\n",
      "2436's data from 2016 to 2018 is stored in database\n",
      "2437's data from 2016 to 2018 is stored in database\n",
      "2438's data from 2016 to 2018 is stored in database\n",
      "2439's data from 2016 to 2018 is stored in database\n",
      "2440's data from 2016 to 2018 is stored in database\n",
      "2441's data from 2016 to 2018 is stored in database\n",
      "2442's data from 2016 to 2018 is stored in database\n",
      "2443's data from 2016 to 2018 is stored in database\n",
      "2444's data from 2016 to 2018 is stored in database\n",
      "2448's data from 2016 to 2018 is stored in database\n",
      "2449's data from 2016 to 2018 is stored in database\n",
      "2450's data from 2016 to 2018 is stored in database\n",
      "2451's data from 2016 to 2018 is stored in database\n",
      "2453's data from 2016 to 2018 is stored in database\n",
      "2454's data from 2016 to 2018 is stored in database\n",
      "2455's data from 2016 to 2018 is stored in database\n",
      "2456's data from 2016 to 2018 is stored in database\n",
      "2457's data from 2016 to 2018 is stored in database\n",
      "2458's data from 2016 to 2018 is stored in database\n",
      "2459's data from 2016 to 2018 is stored in database\n",
      "2460's data from 2016 to 2018 is stored in database\n",
      "2461's data from 2016 to 2018 is stored in database\n",
      "2462's data from 2016 to 2018 is stored in database\n",
      "2464's data from 2016 to 2018 is stored in database\n",
      "2465's data from 2016 to 2018 is stored in database\n",
      "2466's data from 2016 to 2018 is stored in database\n",
      "2467's data from 2016 to 2018 is stored in database\n",
      "2468's data from 2016 to 2018 is stored in database\n",
      "2471's data from 2016 to 2018 is stored in database\n",
      "2472's data from 2016 to 2018 is stored in database\n",
      "2474's data from 2016 to 2018 is stored in database\n",
      "2475's data from 2016 to 2018 is stored in database\n",
      "2476's data from 2016 to 2018 is stored in database\n",
      "2477's data from 2016 to 2018 is stored in database\n",
      "2478's data from 2016 to 2018 is stored in database\n",
      "2480's data from 2016 to 2018 is stored in database\n",
      "2481's data from 2016 to 2018 is stored in database\n",
      "2482's data from 2016 to 2018 is stored in database\n",
      "2483's data from 2016 to 2018 is stored in database\n",
      "2484's data from 2016 to 2018 is stored in database\n",
      "2485's data from 2016 to 2018 is stored in database\n",
      "2486's data from 2016 to 2018 is stored in database\n",
      "2488's data from 2016 to 2018 is stored in database\n",
      "2489's data from 2016 to 2018 is stored in database\n",
      "2491's data from 2016 to 2018 is stored in database\n",
      "2492's data from 2016 to 2018 is stored in database\n",
      "2493's data from 2016 to 2018 is stored in database\n",
      "2495's data from 2016 to 2018 is stored in database\n",
      "2496's data from 2016 to 2018 is stored in database\n",
      "2497's data from 2016 to 2018 is stored in database\n",
      "2498's data from 2016 to 2018 is stored in database\n",
      "2499's data from 2016 to 2018 is stored in database\n",
      "2501's data from 2016 to 2018 is stored in database\n",
      "2504's data from 2016 to 2018 is stored in database\n",
      "2505's data from 2016 to 2018 is stored in database\n",
      "2506's data from 2016 to 2018 is stored in database\n",
      "2509's data from 2016 to 2018 is stored in database\n",
      "2511's data from 2016 to 2018 is stored in database\n",
      "2514's data from 2016 to 2018 is stored in database\n",
      "2515's data from 2016 to 2018 is stored in database\n",
      "2516's data from 2016 to 2018 is stored in database\n",
      "2520's data from 2016 to 2018 is stored in database\n",
      "2524's data from 2016 to 2018 is stored in database\n",
      "2527's data from 2016 to 2018 is stored in database\n",
      "2528's data from 2016 to 2018 is stored in database\n",
      "2530's data from 2016 to 2018 is stored in database\n",
      "2534's data from 2016 to 2018 is stored in database\n",
      "2535's data from 2016 to 2018 is stored in database\n",
      "2536's data from 2016 to 2018 is stored in database\n",
      "2537's data from 2016 to 2018 is stored in database\n",
      "2538's data from 2016 to 2018 is stored in database\n",
      "2539's data from 2016 to 2018 is stored in database\n",
      "2540's data from 2016 to 2018 is stored in database\n",
      "2542's data from 2016 to 2018 is stored in database\n",
      "2543's data from 2016 to 2018 is stored in database\n",
      "2545's data from 2016 to 2018 is stored in database\n",
      "2546's data from 2016 to 2018 is stored in database\n",
      "2547's data from 2016 to 2018 is stored in database\n",
      "2548's data from 2016 to 2018 is stored in database\n",
      "2597's data from 2016 to 2018 is stored in database\n",
      "2601's data from 2016 to 2018 is stored in database\n",
      "2603's data from 2016 to 2018 is stored in database\n",
      "2605's data from 2016 to 2018 is stored in database\n",
      "2606's data from 2016 to 2018 is stored in database\n",
      "2607's data from 2016 to 2018 is stored in database\n",
      "2608's data from 2016 to 2018 is stored in database\n",
      "2609's data from 2016 to 2018 is stored in database\n",
      "2610's data from 2016 to 2018 is stored in database\n",
      "2611's data from 2016 to 2018 is stored in database\n",
      "2612's data from 2016 to 2018 is stored in database\n",
      "2613's data from 2016 to 2018 is stored in database\n",
      "2614's data from 2016 to 2018 is stored in database\n",
      "2615's data from 2016 to 2018 is stored in database\n",
      "2616's data from 2016 to 2018 is stored in database\n",
      "2617's data from 2016 to 2018 is stored in database\n",
      "2618's data from 2016 to 2018 is stored in database\n",
      "2633's data from 2016 to 2018 is stored in database\n",
      "2634's data from 2016 to 2018 is stored in database\n",
      "2636's data from 2016 to 2018 is stored in database\n",
      "2637's data from 2016 to 2018 is stored in database\n",
      "2642's data from 2016 to 2018 is stored in database\n",
      "2701's data from 2016 to 2018 is stored in database\n",
      "2702's data from 2016 to 2018 is stored in database\n",
      "2704's data from 2016 to 2018 is stored in database\n",
      "2705's data from 2016 to 2018 is stored in database\n",
      "2706's data from 2016 to 2018 is stored in database\n",
      "2707's data from 2016 to 2018 is stored in database\n",
      "2712's data from 2016 to 2018 is stored in database\n",
      "2722's data from 2016 to 2018 is stored in database\n",
      "2723's data from 2016 to 2018 is stored in database\n",
      "2727's data from 2016 to 2018 is stored in database\n",
      "2731's data from 2016 to 2018 is stored in database\n",
      "2739's data from 2016 to 2018 is stored in database\n",
      "2748's data from 2016 to 2018 is stored in database\n",
      "2801's data from 2016 to 2018 is stored in database\n",
      "2809's data from 2016 to 2018 is stored in database\n",
      "2812's data from 2016 to 2018 is stored in database\n",
      "2816's data from 2016 to 2018 is stored in database\n",
      "2820's data from 2016 to 2018 is stored in database\n",
      "2823's data from 2016 to 2018 is stored in database\n",
      "2832's data from 2016 to 2018 is stored in database\n",
      "2834's data from 2016 to 2018 is stored in database\n",
      "2836's data from 2016 to 2018 is stored in database\n",
      "2838's data from 2016 to 2018 is stored in database\n",
      "2841's data from 2016 to 2018 is stored in database\n",
      "2845's data from 2016 to 2018 is stored in database\n",
      "2849's data from 2016 to 2018 is stored in database\n",
      "2850's data from 2016 to 2018 is stored in database\n",
      "2851's data from 2016 to 2018 is stored in database\n",
      "2852's data from 2016 to 2018 is stored in database\n",
      "2855's data from 2016 to 2018 is stored in database\n",
      "2856's data from 2016 to 2018 is stored in database\n",
      "2867's data from 2016 to 2018 is stored in database\n",
      "2880's data from 2016 to 2018 is stored in database\n",
      "2881's data from 2016 to 2018 is stored in database\n",
      "2881A's data from 2016 to 2018 is stored in database\n",
      "2882's data from 2016 to 2018 is stored in database\n",
      "2882A's data from 2016 to 2018 is stored in database\n",
      "2883's data from 2016 to 2018 is stored in database\n",
      "2884's data from 2016 to 2018 is stored in database\n",
      "2885's data from 2016 to 2018 is stored in database\n",
      "2886's data from 2016 to 2018 is stored in database\n",
      "2887's data from 2016 to 2018 is stored in database\n",
      "2887E's data from 2016 to 2018 is stored in database\n",
      "2888's data from 2016 to 2018 is stored in database\n",
      "2889's data from 2016 to 2018 is stored in database\n",
      "2890's data from 2016 to 2018 is stored in database\n",
      "2891's data from 2016 to 2018 is stored in database\n",
      "2892's data from 2016 to 2018 is stored in database\n",
      "2901's data from 2016 to 2018 is stored in database\n",
      "2903's data from 2016 to 2018 is stored in database\n",
      "2904's data from 2016 to 2018 is stored in database\n",
      "2905's data from 2016 to 2018 is stored in database\n",
      "2906's data from 2016 to 2018 is stored in database\n",
      "2908's data from 2016 to 2018 is stored in database\n",
      "2910's data from 2016 to 2018 is stored in database\n",
      "2911's data from 2016 to 2018 is stored in database\n",
      "2912's data from 2016 to 2018 is stored in database\n",
      "2913's data from 2016 to 2018 is stored in database\n",
      "2915's data from 2016 to 2018 is stored in database\n",
      "2923's data from 2016 to 2018 is stored in database\n",
      "2929's data from 2016 to 2018 is stored in database\n",
      "2936's data from 2016 to 2018 is stored in database\n",
      "3002's data from 2016 to 2018 is stored in database\n",
      "3003's data from 2016 to 2018 is stored in database\n",
      "3004's data from 2016 to 2018 is stored in database\n",
      "3005's data from 2016 to 2018 is stored in database\n",
      "3006's data from 2016 to 2018 is stored in database\n",
      "3008's data from 2016 to 2018 is stored in database\n",
      "3010's data from 2016 to 2018 is stored in database\n",
      "3011's data from 2016 to 2018 is stored in database\n",
      "3013's data from 2016 to 2018 is stored in database\n",
      "3014's data from 2016 to 2018 is stored in database\n",
      "3015's data from 2016 to 2018 is stored in database\n",
      "3016's data from 2016 to 2018 is stored in database\n",
      "3017's data from 2016 to 2018 is stored in database\n",
      "3018's data from 2016 to 2018 is stored in database\n",
      "3019's data from 2016 to 2018 is stored in database\n",
      "3021's data from 2016 to 2018 is stored in database\n",
      "3022's data from 2016 to 2018 is stored in database\n",
      "3023's data from 2016 to 2018 is stored in database\n",
      "3024's data from 2016 to 2018 is stored in database\n",
      "3025's data from 2016 to 2018 is stored in database\n",
      "3026's data from 2016 to 2018 is stored in database\n",
      "3027's data from 2016 to 2018 is stored in database\n",
      "3028's data from 2016 to 2018 is stored in database\n",
      "3029's data from 2016 to 2018 is stored in database\n",
      "3030's data from 2016 to 2018 is stored in database\n",
      "3031's data from 2016 to 2018 is stored in database\n",
      "3032's data from 2016 to 2018 is stored in database\n",
      "3033's data from 2016 to 2018 is stored in database\n",
      "3034's data from 2016 to 2018 is stored in database\n",
      "3035's data from 2016 to 2018 is stored in database\n",
      "3036's data from 2016 to 2018 is stored in database\n",
      "3037's data from 2016 to 2018 is stored in database\n",
      "3038's data from 2016 to 2018 is stored in database\n",
      "3040's data from 2016 to 2018 is stored in database\n",
      "3041's data from 2016 to 2018 is stored in database\n",
      "3042's data from 2016 to 2018 is stored in database\n",
      "3043's data from 2016 to 2018 is stored in database\n",
      "3044's data from 2016 to 2018 is stored in database\n",
      "3045's data from 2016 to 2018 is stored in database\n",
      "3046's data from 2016 to 2018 is stored in database\n",
      "3047's data from 2016 to 2018 is stored in database\n",
      "3048's data from 2016 to 2018 is stored in database\n",
      "3049's data from 2016 to 2018 is stored in database\n",
      "3050's data from 2016 to 2018 is stored in database\n",
      "3051's data from 2016 to 2018 is stored in database\n",
      "3052's data from 2016 to 2018 is stored in database\n",
      "3054's data from 2016 to 2018 is stored in database\n",
      "3055's data from 2016 to 2018 is stored in database\n",
      "3056's data from 2016 to 2018 is stored in database\n",
      "3057's data from 2016 to 2018 is stored in database\n",
      "3058's data from 2016 to 2018 is stored in database\n",
      "3059's data from 2016 to 2018 is stored in database\n",
      "3060's data from 2016 to 2018 is stored in database\n",
      "3062's data from 2016 to 2018 is stored in database\n",
      "3090's data from 2016 to 2018 is stored in database\n",
      "3094's data from 2016 to 2018 is stored in database\n",
      "3130's data from 2016 to 2018 is stored in database\n",
      "3149's data from 2016 to 2018 is stored in database\n",
      "3164's data from 2016 to 2018 is stored in database\n",
      "3167's data from 2016 to 2018 is stored in database\n",
      "3189's data from 2016 to 2018 is stored in database\n",
      "3209's data from 2016 to 2018 is stored in database\n",
      "3229's data from 2016 to 2018 is stored in database\n",
      "3231's data from 2016 to 2018 is stored in database\n",
      "3257's data from 2016 to 2018 is stored in database\n",
      "3266's data from 2016 to 2018 is stored in database\n",
      "3296's data from 2016 to 2018 is stored in database\n"
     ]
    },
    {
     "ename": "KeyboardInterrupt",
     "evalue": "",
     "output_type": "error",
     "traceback": [
      "\u001b[0;31m---------------------------------------------------------------------------\u001b[0m",
      "\u001b[0;31mKeyboardInterrupt\u001b[0m                         Traceback (most recent call last)",
      "\u001b[0;32m<ipython-input-19-581cb1031d30>\u001b[0m in \u001b[0;36m<module>\u001b[0;34m()\u001b[0m\n\u001b[1;32m     14\u001b[0m             \u001b[1;31m#print(theStockData)\u001b[0m\u001b[1;33m\u001b[0m\u001b[1;33m\u001b[0m\u001b[0m\n\u001b[1;32m     15\u001b[0m             \u001b[1;32mfor\u001b[0m \u001b[0mdata\u001b[0m \u001b[1;32min\u001b[0m \u001b[0mnewData\u001b[0m\u001b[1;33m:\u001b[0m\u001b[1;33m\u001b[0m\u001b[0m\n\u001b[0;32m---> 16\u001b[0;31m                 \u001b[1;32mif\u001b[0m \u001b[0mtargetStock\u001b[0m\u001b[1;33m.\u001b[0m\u001b[0mcheckUnique\u001b[0m\u001b[1;33m(\u001b[0m\u001b[0msession\u001b[0m\u001b[1;33m,\u001b[0m \u001b[1;33m[\u001b[0m\u001b[0mdata\u001b[0m\u001b[1;33m[\u001b[0m\u001b[1;36m0\u001b[0m\u001b[1;33m]\u001b[0m\u001b[1;33m,\u001b[0m\u001b[0mdata\u001b[0m\u001b[1;33m[\u001b[0m\u001b[1;36m9\u001b[0m\u001b[1;33m]\u001b[0m\u001b[1;33m]\u001b[0m\u001b[1;33m)\u001b[0m\u001b[1;33m:\u001b[0m\u001b[1;33m\u001b[0m\u001b[0m\n\u001b[0m\u001b[1;32m     17\u001b[0m                     \u001b[0mprint\u001b[0m\u001b[1;33m(\u001b[0m\u001b[1;34m'Data Existed'\u001b[0m\u001b[1;33m)\u001b[0m\u001b[1;33m\u001b[0m\u001b[0m\n\u001b[1;32m     18\u001b[0m                 \u001b[1;32melse\u001b[0m\u001b[1;33m:\u001b[0m\u001b[1;33m\u001b[0m\u001b[0m\n",
      "\u001b[0;32mC:\\Users\\clayliau\\Documents\\Stock_tool\\DB_Setup.py\u001b[0m in \u001b[0;36mcheckUnique\u001b[0;34m(self, session, checkList)\u001b[0m\n\u001b[1;32m     51\u001b[0m \u001b[1;33m\u001b[0m\u001b[0m\n\u001b[1;32m     52\u001b[0m     \u001b[1;32mdef\u001b[0m \u001b[0mcheckUnique\u001b[0m\u001b[1;33m(\u001b[0m\u001b[0mself\u001b[0m\u001b[1;33m,\u001b[0m \u001b[0msession\u001b[0m\u001b[1;33m,\u001b[0m \u001b[0mcheckList\u001b[0m\u001b[1;33m)\u001b[0m\u001b[1;33m:\u001b[0m\u001b[1;33m\u001b[0m\u001b[0m\n\u001b[0;32m---> 53\u001b[0;31m         \u001b[1;32mreturn\u001b[0m \u001b[0msession\u001b[0m\u001b[1;33m.\u001b[0m\u001b[0mquery\u001b[0m\u001b[1;33m(\u001b[0m\u001b[0mSingleStockDaily\u001b[0m\u001b[1;33m)\u001b[0m\u001b[1;33m.\u001b[0m\u001b[0mfilter\u001b[0m\u001b[1;33m(\u001b[0m\u001b[0mSingleStockDaily\u001b[0m\u001b[1;33m.\u001b[0m\u001b[0mtradeDate\u001b[0m\u001b[1;33m==\u001b[0m\u001b[0mcheckList\u001b[0m\u001b[1;33m[\u001b[0m\u001b[1;36m0\u001b[0m\u001b[1;33m]\u001b[0m\u001b[1;33m,\u001b[0m\u001b[0mSingleStockDaily\u001b[0m\u001b[1;33m.\u001b[0m\u001b[0mstockid\u001b[0m\u001b[1;33m==\u001b[0m\u001b[0mcheckList\u001b[0m\u001b[1;33m[\u001b[0m\u001b[1;36m1\u001b[0m\u001b[1;33m]\u001b[0m\u001b[1;33m)\u001b[0m\u001b[1;33m.\u001b[0m\u001b[0mfirst\u001b[0m\u001b[1;33m(\u001b[0m\u001b[1;33m)\u001b[0m\u001b[1;33m\u001b[0m\u001b[0m\n\u001b[0m\u001b[1;32m     54\u001b[0m \u001b[1;33m\u001b[0m\u001b[0m\n\u001b[1;32m     55\u001b[0m \u001b[0mengine\u001b[0m \u001b[1;33m=\u001b[0m \u001b[0mcreate_engine\u001b[0m\u001b[1;33m(\u001b[0m\u001b[1;34m'sqlite:///taiwanstock.db'\u001b[0m\u001b[1;33m)\u001b[0m\u001b[1;33m\u001b[0m\u001b[0m\n",
      "\u001b[0;32mC:\\Users\\clayliau\\Anaconda3\\lib\\site-packages\\sqlalchemy\\orm\\query.py\u001b[0m in \u001b[0;36mfirst\u001b[0;34m(self)\u001b[0m\n\u001b[1;32m   2657\u001b[0m             \u001b[0mret\u001b[0m \u001b[1;33m=\u001b[0m \u001b[0mlist\u001b[0m\u001b[1;33m(\u001b[0m\u001b[0mself\u001b[0m\u001b[1;33m)\u001b[0m\u001b[1;33m[\u001b[0m\u001b[1;36m0\u001b[0m\u001b[1;33m:\u001b[0m\u001b[1;36m1\u001b[0m\u001b[1;33m]\u001b[0m\u001b[1;33m\u001b[0m\u001b[0m\n\u001b[1;32m   2658\u001b[0m         \u001b[1;32melse\u001b[0m\u001b[1;33m:\u001b[0m\u001b[1;33m\u001b[0m\u001b[0m\n\u001b[0;32m-> 2659\u001b[0;31m             \u001b[0mret\u001b[0m \u001b[1;33m=\u001b[0m \u001b[0mlist\u001b[0m\u001b[1;33m(\u001b[0m\u001b[0mself\u001b[0m\u001b[1;33m[\u001b[0m\u001b[1;36m0\u001b[0m\u001b[1;33m:\u001b[0m\u001b[1;36m1\u001b[0m\u001b[1;33m]\u001b[0m\u001b[1;33m)\u001b[0m\u001b[1;33m\u001b[0m\u001b[0m\n\u001b[0m\u001b[1;32m   2660\u001b[0m         \u001b[1;32mif\u001b[0m \u001b[0mlen\u001b[0m\u001b[1;33m(\u001b[0m\u001b[0mret\u001b[0m\u001b[1;33m)\u001b[0m \u001b[1;33m>\u001b[0m \u001b[1;36m0\u001b[0m\u001b[1;33m:\u001b[0m\u001b[1;33m\u001b[0m\u001b[0m\n\u001b[1;32m   2661\u001b[0m             \u001b[1;32mreturn\u001b[0m \u001b[0mret\u001b[0m\u001b[1;33m[\u001b[0m\u001b[1;36m0\u001b[0m\u001b[1;33m]\u001b[0m\u001b[1;33m\u001b[0m\u001b[0m\n",
      "\u001b[0;32mC:\\Users\\clayliau\\Anaconda3\\lib\\site-packages\\sqlalchemy\\orm\\query.py\u001b[0m in \u001b[0;36m__getitem__\u001b[0;34m(self, item)\u001b[0m\n\u001b[1;32m   2455\u001b[0m                 \u001b[1;32mreturn\u001b[0m \u001b[0mlist\u001b[0m\u001b[1;33m(\u001b[0m\u001b[0mres\u001b[0m\u001b[1;33m)\u001b[0m\u001b[1;33m[\u001b[0m\u001b[1;32mNone\u001b[0m\u001b[1;33m:\u001b[0m\u001b[1;32mNone\u001b[0m\u001b[1;33m:\u001b[0m\u001b[0mitem\u001b[0m\u001b[1;33m.\u001b[0m\u001b[0mstep\u001b[0m\u001b[1;33m]\u001b[0m\u001b[1;33m\u001b[0m\u001b[0m\n\u001b[1;32m   2456\u001b[0m             \u001b[1;32melse\u001b[0m\u001b[1;33m:\u001b[0m\u001b[1;33m\u001b[0m\u001b[0m\n\u001b[0;32m-> 2457\u001b[0;31m                 \u001b[1;32mreturn\u001b[0m \u001b[0mlist\u001b[0m\u001b[1;33m(\u001b[0m\u001b[0mres\u001b[0m\u001b[1;33m)\u001b[0m\u001b[1;33m\u001b[0m\u001b[0m\n\u001b[0m\u001b[1;32m   2458\u001b[0m         \u001b[1;32melse\u001b[0m\u001b[1;33m:\u001b[0m\u001b[1;33m\u001b[0m\u001b[0m\n\u001b[1;32m   2459\u001b[0m             \u001b[1;32mif\u001b[0m \u001b[0mitem\u001b[0m \u001b[1;33m==\u001b[0m \u001b[1;33m-\u001b[0m\u001b[1;36m1\u001b[0m\u001b[1;33m:\u001b[0m\u001b[1;33m\u001b[0m\u001b[0m\n",
      "\u001b[0;32mC:\\Users\\clayliau\\Anaconda3\\lib\\site-packages\\sqlalchemy\\orm\\query.py\u001b[0m in \u001b[0;36m__iter__\u001b[0;34m(self)\u001b[0m\n\u001b[1;32m   2759\u001b[0m         \u001b[1;32mif\u001b[0m \u001b[0mself\u001b[0m\u001b[1;33m.\u001b[0m\u001b[0m_autoflush\u001b[0m \u001b[1;32mand\u001b[0m \u001b[1;32mnot\u001b[0m \u001b[0mself\u001b[0m\u001b[1;33m.\u001b[0m\u001b[0m_populate_existing\u001b[0m\u001b[1;33m:\u001b[0m\u001b[1;33m\u001b[0m\u001b[0m\n\u001b[1;32m   2760\u001b[0m             \u001b[0mself\u001b[0m\u001b[1;33m.\u001b[0m\u001b[0msession\u001b[0m\u001b[1;33m.\u001b[0m\u001b[0m_autoflush\u001b[0m\u001b[1;33m(\u001b[0m\u001b[1;33m)\u001b[0m\u001b[1;33m\u001b[0m\u001b[0m\n\u001b[0;32m-> 2761\u001b[0;31m         \u001b[1;32mreturn\u001b[0m \u001b[0mself\u001b[0m\u001b[1;33m.\u001b[0m\u001b[0m_execute_and_instances\u001b[0m\u001b[1;33m(\u001b[0m\u001b[0mcontext\u001b[0m\u001b[1;33m)\u001b[0m\u001b[1;33m\u001b[0m\u001b[0m\n\u001b[0m\u001b[1;32m   2762\u001b[0m \u001b[1;33m\u001b[0m\u001b[0m\n\u001b[1;32m   2763\u001b[0m     \u001b[1;32mdef\u001b[0m \u001b[0m_connection_from_session\u001b[0m\u001b[1;33m(\u001b[0m\u001b[0mself\u001b[0m\u001b[1;33m,\u001b[0m \u001b[1;33m**\u001b[0m\u001b[0mkw\u001b[0m\u001b[1;33m)\u001b[0m\u001b[1;33m:\u001b[0m\u001b[1;33m\u001b[0m\u001b[0m\n",
      "\u001b[0;32mC:\\Users\\clayliau\\Anaconda3\\lib\\site-packages\\sqlalchemy\\orm\\query.py\u001b[0m in \u001b[0;36m_execute_and_instances\u001b[0;34m(self, querycontext)\u001b[0m\n\u001b[1;32m   2774\u001b[0m             close_with_result=True)\n\u001b[1;32m   2775\u001b[0m \u001b[1;33m\u001b[0m\u001b[0m\n\u001b[0;32m-> 2776\u001b[0;31m         \u001b[0mresult\u001b[0m \u001b[1;33m=\u001b[0m \u001b[0mconn\u001b[0m\u001b[1;33m.\u001b[0m\u001b[0mexecute\u001b[0m\u001b[1;33m(\u001b[0m\u001b[0mquerycontext\u001b[0m\u001b[1;33m.\u001b[0m\u001b[0mstatement\u001b[0m\u001b[1;33m,\u001b[0m \u001b[0mself\u001b[0m\u001b[1;33m.\u001b[0m\u001b[0m_params\u001b[0m\u001b[1;33m)\u001b[0m\u001b[1;33m\u001b[0m\u001b[0m\n\u001b[0m\u001b[1;32m   2777\u001b[0m         \u001b[1;32mreturn\u001b[0m \u001b[0mloading\u001b[0m\u001b[1;33m.\u001b[0m\u001b[0minstances\u001b[0m\u001b[1;33m(\u001b[0m\u001b[0mquerycontext\u001b[0m\u001b[1;33m.\u001b[0m\u001b[0mquery\u001b[0m\u001b[1;33m,\u001b[0m \u001b[0mresult\u001b[0m\u001b[1;33m,\u001b[0m \u001b[0mquerycontext\u001b[0m\u001b[1;33m)\u001b[0m\u001b[1;33m\u001b[0m\u001b[0m\n\u001b[1;32m   2778\u001b[0m \u001b[1;33m\u001b[0m\u001b[0m\n",
      "\u001b[0;32mC:\\Users\\clayliau\\Anaconda3\\lib\\site-packages\\sqlalchemy\\engine\\base.py\u001b[0m in \u001b[0;36mexecute\u001b[0;34m(self, object, *multiparams, **params)\u001b[0m\n\u001b[1;32m    912\u001b[0m                 type(object))\n\u001b[1;32m    913\u001b[0m         \u001b[1;32melse\u001b[0m\u001b[1;33m:\u001b[0m\u001b[1;33m\u001b[0m\u001b[0m\n\u001b[0;32m--> 914\u001b[0;31m             \u001b[1;32mreturn\u001b[0m \u001b[0mmeth\u001b[0m\u001b[1;33m(\u001b[0m\u001b[0mself\u001b[0m\u001b[1;33m,\u001b[0m \u001b[0mmultiparams\u001b[0m\u001b[1;33m,\u001b[0m \u001b[0mparams\u001b[0m\u001b[1;33m)\u001b[0m\u001b[1;33m\u001b[0m\u001b[0m\n\u001b[0m\u001b[1;32m    915\u001b[0m \u001b[1;33m\u001b[0m\u001b[0m\n\u001b[1;32m    916\u001b[0m     \u001b[1;32mdef\u001b[0m \u001b[0m_execute_function\u001b[0m\u001b[1;33m(\u001b[0m\u001b[0mself\u001b[0m\u001b[1;33m,\u001b[0m \u001b[0mfunc\u001b[0m\u001b[1;33m,\u001b[0m \u001b[0mmultiparams\u001b[0m\u001b[1;33m,\u001b[0m \u001b[0mparams\u001b[0m\u001b[1;33m)\u001b[0m\u001b[1;33m:\u001b[0m\u001b[1;33m\u001b[0m\u001b[0m\n",
      "\u001b[0;32mC:\\Users\\clayliau\\Anaconda3\\lib\\site-packages\\sqlalchemy\\sql\\elements.py\u001b[0m in \u001b[0;36m_execute_on_connection\u001b[0;34m(self, connection, multiparams, params)\u001b[0m\n\u001b[1;32m    321\u001b[0m \u001b[1;33m\u001b[0m\u001b[0m\n\u001b[1;32m    322\u001b[0m     \u001b[1;32mdef\u001b[0m \u001b[0m_execute_on_connection\u001b[0m\u001b[1;33m(\u001b[0m\u001b[0mself\u001b[0m\u001b[1;33m,\u001b[0m \u001b[0mconnection\u001b[0m\u001b[1;33m,\u001b[0m \u001b[0mmultiparams\u001b[0m\u001b[1;33m,\u001b[0m \u001b[0mparams\u001b[0m\u001b[1;33m)\u001b[0m\u001b[1;33m:\u001b[0m\u001b[1;33m\u001b[0m\u001b[0m\n\u001b[0;32m--> 323\u001b[0;31m         \u001b[1;32mreturn\u001b[0m \u001b[0mconnection\u001b[0m\u001b[1;33m.\u001b[0m\u001b[0m_execute_clauseelement\u001b[0m\u001b[1;33m(\u001b[0m\u001b[0mself\u001b[0m\u001b[1;33m,\u001b[0m \u001b[0mmultiparams\u001b[0m\u001b[1;33m,\u001b[0m \u001b[0mparams\u001b[0m\u001b[1;33m)\u001b[0m\u001b[1;33m\u001b[0m\u001b[0m\n\u001b[0m\u001b[1;32m    324\u001b[0m \u001b[1;33m\u001b[0m\u001b[0m\n\u001b[1;32m    325\u001b[0m     \u001b[1;32mdef\u001b[0m \u001b[0munique_params\u001b[0m\u001b[1;33m(\u001b[0m\u001b[0mself\u001b[0m\u001b[1;33m,\u001b[0m \u001b[1;33m*\u001b[0m\u001b[0moptionaldict\u001b[0m\u001b[1;33m,\u001b[0m \u001b[1;33m**\u001b[0m\u001b[0mkwargs\u001b[0m\u001b[1;33m)\u001b[0m\u001b[1;33m:\u001b[0m\u001b[1;33m\u001b[0m\u001b[0m\n",
      "\u001b[0;32mC:\\Users\\clayliau\\Anaconda3\\lib\\site-packages\\sqlalchemy\\engine\\base.py\u001b[0m in \u001b[0;36m_execute_clauseelement\u001b[0;34m(self, elem, multiparams, params)\u001b[0m\n\u001b[1;32m   1008\u001b[0m             \u001b[0mcompiled_sql\u001b[0m\u001b[1;33m,\u001b[0m\u001b[1;33m\u001b[0m\u001b[0m\n\u001b[1;32m   1009\u001b[0m             \u001b[0mdistilled_params\u001b[0m\u001b[1;33m,\u001b[0m\u001b[1;33m\u001b[0m\u001b[0m\n\u001b[0;32m-> 1010\u001b[0;31m             \u001b[0mcompiled_sql\u001b[0m\u001b[1;33m,\u001b[0m \u001b[0mdistilled_params\u001b[0m\u001b[1;33m\u001b[0m\u001b[0m\n\u001b[0m\u001b[1;32m   1011\u001b[0m         )\n\u001b[1;32m   1012\u001b[0m         \u001b[1;32mif\u001b[0m \u001b[0mself\u001b[0m\u001b[1;33m.\u001b[0m\u001b[0m_has_events\u001b[0m \u001b[1;32mor\u001b[0m \u001b[0mself\u001b[0m\u001b[1;33m.\u001b[0m\u001b[0mengine\u001b[0m\u001b[1;33m.\u001b[0m\u001b[0m_has_events\u001b[0m\u001b[1;33m:\u001b[0m\u001b[1;33m\u001b[0m\u001b[0m\n",
      "\u001b[0;32mC:\\Users\\clayliau\\Anaconda3\\lib\\site-packages\\sqlalchemy\\engine\\base.py\u001b[0m in \u001b[0;36m_execute_context\u001b[0;34m(self, dialect, constructor, statement, parameters, *args)\u001b[0m\n\u001b[1;32m   1137\u001b[0m                         \u001b[0mstatement\u001b[0m\u001b[1;33m,\u001b[0m\u001b[1;33m\u001b[0m\u001b[0m\n\u001b[1;32m   1138\u001b[0m                         \u001b[0mparameters\u001b[0m\u001b[1;33m,\u001b[0m\u001b[1;33m\u001b[0m\u001b[0m\n\u001b[0;32m-> 1139\u001b[0;31m                         context)\n\u001b[0m\u001b[1;32m   1140\u001b[0m         \u001b[1;32mexcept\u001b[0m \u001b[0mException\u001b[0m \u001b[1;32mas\u001b[0m \u001b[0me\u001b[0m\u001b[1;33m:\u001b[0m\u001b[1;33m\u001b[0m\u001b[0m\n\u001b[1;32m   1141\u001b[0m             self._handle_dbapi_exception(\n",
      "\u001b[0;32mC:\\Users\\clayliau\\Anaconda3\\lib\\site-packages\\sqlalchemy\\engine\\default.py\u001b[0m in \u001b[0;36mdo_execute\u001b[0;34m(self, cursor, statement, parameters, context)\u001b[0m\n\u001b[1;32m    448\u001b[0m \u001b[1;33m\u001b[0m\u001b[0m\n\u001b[1;32m    449\u001b[0m     \u001b[1;32mdef\u001b[0m \u001b[0mdo_execute\u001b[0m\u001b[1;33m(\u001b[0m\u001b[0mself\u001b[0m\u001b[1;33m,\u001b[0m \u001b[0mcursor\u001b[0m\u001b[1;33m,\u001b[0m \u001b[0mstatement\u001b[0m\u001b[1;33m,\u001b[0m \u001b[0mparameters\u001b[0m\u001b[1;33m,\u001b[0m \u001b[0mcontext\u001b[0m\u001b[1;33m=\u001b[0m\u001b[1;32mNone\u001b[0m\u001b[1;33m)\u001b[0m\u001b[1;33m:\u001b[0m\u001b[1;33m\u001b[0m\u001b[0m\n\u001b[0;32m--> 450\u001b[0;31m         \u001b[0mcursor\u001b[0m\u001b[1;33m.\u001b[0m\u001b[0mexecute\u001b[0m\u001b[1;33m(\u001b[0m\u001b[0mstatement\u001b[0m\u001b[1;33m,\u001b[0m \u001b[0mparameters\u001b[0m\u001b[1;33m)\u001b[0m\u001b[1;33m\u001b[0m\u001b[0m\n\u001b[0m\u001b[1;32m    451\u001b[0m \u001b[1;33m\u001b[0m\u001b[0m\n\u001b[1;32m    452\u001b[0m     \u001b[1;32mdef\u001b[0m \u001b[0mdo_execute_no_params\u001b[0m\u001b[1;33m(\u001b[0m\u001b[0mself\u001b[0m\u001b[1;33m,\u001b[0m \u001b[0mcursor\u001b[0m\u001b[1;33m,\u001b[0m \u001b[0mstatement\u001b[0m\u001b[1;33m,\u001b[0m \u001b[0mcontext\u001b[0m\u001b[1;33m=\u001b[0m\u001b[1;32mNone\u001b[0m\u001b[1;33m)\u001b[0m\u001b[1;33m:\u001b[0m\u001b[1;33m\u001b[0m\u001b[0m\n",
      "\u001b[0;31mKeyboardInterrupt\u001b[0m: "
     ]
    }
   ],
   "source": [
    "targetStock = SingleStockDaily()\n",
    "stocknamdidTable = session.query(StockNameID)[3296:]\n",
    "startYear = 2016\n",
    "stopYear = 2018\n",
    "for stock in stocknamdidTable:\n",
    "    stockNo = stock.stockid\n",
    "    #yearlySingleStock = list()\n",
    "    for year in range(startYear,stopYear):\n",
    "        for month in range(1,13):\n",
    "            theStock = QueryDataPost(tesDomain, singleStocDaykAPI, singleStockDayParams(year, month, stockNo), headers)\n",
    "            theStockList = theStock.split('\\n')\n",
    "            theStockData = stockDayDataExtract(theStockList)\n",
    "            newData = addStockID(theStockData, stockNo)\n",
    "            #print(theStockData)\n",
    "            for data in newData:\n",
    "                if targetStock.checkUnique(session, [data[0],data[9]]):\n",
    "                    print('Data Existed')\n",
    "                else:\n",
    "                    #print('Create New')\n",
    "                    createSingleStock(data)\n",
    "                \n",
    "    print('%s\\'s data from %d to %d is stored in database' % (stockNo, startYear, stopYear))"
   ]
  },
  {
   "cell_type": "code",
   "execution_count": 15,
   "metadata": {
    "collapsed": false
   },
   "outputs": [],
   "source": [
    "yearlyFullStock = list()\n",
    "for year in range(2015,2018):\n",
    "    for month in range(1,13):\n",
    "        fullMarket = QueryDataPost(tesDomain, fulMarketTradeAPI, fulMarketTradeParams(year, month), headers)\n",
    "        fullMarketList = fullMarket.split('\\n')\n",
    "        fullstock = stockDayDataExtract(fullMarketList)\n",
    "        yearlyFullStock = yearlyFullStock + fullstock"
   ]
  },
  {
   "cell_type": "code",
   "execution_count": 16,
   "metadata": {
    "collapsed": false
   },
   "outputs": [],
   "source": [
    "for data in yearlyFullStock:\n",
    "    createFullMarket(data)"
   ]
  },
  {
   "cell_type": "markdown",
   "metadata": {},
   "source": [
    "# Appendix"
   ]
  },
  {
   "cell_type": "markdown",
   "metadata": {},
   "source": [
    "## Test Code"
   ]
  },
  {
   "cell_type": "code",
   "execution_count": 13,
   "metadata": {
    "collapsed": false
   },
   "outputs": [],
   "source": [
    "#stockData = QueryDataPost(tesDomain, fulMarketTradeAPI, fulMarketTradeParams, headers)\n",
    "#stockDataList = stockData.split('\\n')\n",
    "yearlySingleStock = list()\n",
    "for year in range(2015,2018):\n",
    "    for month in range(1,13):\n",
    "        MediatekStock = QueryDataPost(tesDomain, singleStocDaykAPI, singleStockDayParams(year, month, stockNo), headers)\n",
    "        MediatekStockList = MediatekStock.split('\\n')\n",
    "        fullstock = stockDayDataExtract(MediatekStockList)\n",
    "        newData = addStockID(fullstock, stockNo)\n",
    "        yearlySingleStock = yearlySingleStock + newData\n",
    "    #printList(newData)\n",
    "#printList(yearlySingleStock)\n",
    "\n",
    "    "
   ]
  },
  {
   "cell_type": "code",
   "execution_count": 14,
   "metadata": {
    "collapsed": false,
    "scrolled": true
   },
   "outputs": [],
   "source": [
    "for data in yearlySingleStock:\n",
    "    createSingleStock(data)"
   ]
  },
  {
   "cell_type": "code",
   "execution_count": 47,
   "metadata": {
    "collapsed": false
   },
   "outputs": [
    {
     "name": "stdout",
     "output_type": "stream",
     "text": [
      "106~02 T (A)\n",
      "\"\",\"Ѽ\",\"B\",\"浧\",\"oq[vѻ\",\"^I\"\n",
      "\" 106/02/02\",\"5,119,534,614\",\"147,930,853,630\",\"1,131,546\",\"9,428.97\",\"-18.98\",\n",
      "\" 106/02/03\",\"5,068,371,711\",\"102,335,722,986\",\"1,056,855\",\"9,455.56\",\"26.59\",\n",
      "\" 106/02/06\",\"5,510,906,552\",\"102,352,501,152\",\"1,076,125\",\"9,538.01\",\"82.45\",\n",
      "\" 106/02/07\",\"4,932,873,379\",\"95,709,593,373\",\"988,506\",\"9,554.56\",\"16.55\",\n",
      "\" 106/02/08\",\"5,300,856,389\",\"110,729,308,207\",\"1,082,850\",\"9,543.25\",\"-11.31\",\n",
      "\" 106/02/09\",\"5,264,593,609\",\"106,237,084,984\",\"1,038,404\",\"9,590.18\",\"46.93\",\n",
      "\" 106/02/10\",\"6,240,806,015\",\"136,811,826,048\",\"1,209,286\",\"9,665.59\",\"75.41\",\n",
      "\" 106/02/13\",\"5,255,562,269\",\"101,177,702,355\",\"1,023,598\",\"9,710.32\",\"44.73\",\n",
      "\" 106/02/14\",\"5,531,133,656\",\"113,724,121,218\",\"1,072,534\",\"9,718.78\",\"8.46\",\n",
      "\" 106/02/15\",\"5,748,794,719\",\"117,918,064,389\",\"1,165,369\",\"9,799.76\",\"80.98\",\n",
      "\" 106/02/16\",\"5,167,818,860\",\"108,303,272,962\",\"1,033,581\",\"9,771.25\",\"-28.51\",\n",
      "\" 106/02/17\",\"4,358,105,024\",\"95,178,870,089\",\"916,682\",\"9,759.76\",\"-11.49\",\n",
      "\" 106/02/18\",\"3,411,356,161\",\"61,980,819,056\",\"664,672\",\"9,779.92\",\"20.16\",\n",
      "\" 106/02/20\",\"4,750,607,829\",\"97,817,579,999\",\"996,037\",\"9,753.20\",\"-26.72\",\n",
      "\" 106/02/21\",\"4,604,650,193\",\"90,064,360,265\",\"935,626\",\"9,763.93\",\"10.73\",\n",
      "\" 106/02/22\",\"4,853,832,134\",\"101,274,785,349\",\"975,734\",\"9,778.78\",\"14.85\",\n",
      "\" 106/02/23\",\"4,655,622,523\",\"101,065,671,309\",\"966,823\",\"9,769.31\",\"-9.47\",\n",
      "\" 106/02/24\",\"4,221,089,121\",\"92,653,105,234\",\"887,717\",\"9,750.47\",\"-18.84\",\n",
      "\"G\"\n",
      "\"1. έpTtjLBsѡBLwιdBAtBʡC\n",
      "\"2. ~]tH^ȫYHqU330iHIsOײv[JBC\n",
      "\n"
     ]
    }
   ],
   "source": [
    "url_req = '/ch/trading/exchange/FMTQIK/FMTQIK.php'\n",
    "params = urllib.parse.urlencode({'download':'csv', 'query_year':2017, 'query_month':2})\n",
    "headers = {\"Content-type\": \"application/x-www-form-urlencoded\",\"Accept\": \"text/plain\"}\n",
    "conn = HTTPConnection('www.tse.com.tw')\n",
    "web = conn.request('POST', url_req, params, headers)\n",
    "abc = conn.getresponse()\n",
    "d = abc.read().decode('utf-8', 'ignore')\n",
    "print(d)"
   ]
  },
  {
   "cell_type": "code",
   "execution_count": 3,
   "metadata": {
    "collapsed": true
   },
   "outputs": [],
   "source": [
    "import urllib.request"
   ]
  },
  {
   "cell_type": "code",
   "execution_count": 8,
   "metadata": {
    "collapsed": false
   },
   "outputs": [
    {
     "name": "stdout",
     "output_type": "stream",
     "text": [
      "http://www.tse.com.tw/ch/trading/exchange/FMTQIK/FMTQIK.php?download=csv&query_year=2017&query_month=1\n",
      "http://www.tse.com.tw/ch/trading/exchange/FMTQIK/FMTQIK.php?download=csv&query_year=2017&query_month=2\n"
     ]
    }
   ],
   "source": [
    "fullmarket_api = 'http://www.tse.com.tw/ch/trading/exchange/FMTQIK/FMTQIK.php'\n",
    "for month in range(1,3):\n",
    "    for year in range(2017,2018):\n",
    "        fullmarket_query = 'download=csv&query_year=%d&query_month=%d' % (year, month)\n",
    "        fullmarket_url = fullmarket_api + '?' + fullmarket_query\n",
    "        print(fullmarket_url)\n",
    "        saveFile = str(year) + str(month) + '.csv'\n",
    "        #urllib.request.urlretrieve(fullmarket_url, saveFile)"
   ]
  },
  {
   "cell_type": "code",
   "execution_count": null,
   "metadata": {
    "collapsed": true
   },
   "outputs": [],
   "source": [
    "from http.client import HTTPConnection\n",
    "import urllib.parse"
   ]
  },
  {
   "cell_type": "code",
   "execution_count": 62,
   "metadata": {
    "collapsed": false
   },
   "outputs": [
    {
     "name": "stdout",
     "output_type": "stream",
     "text": [
      "[datetime.date(2016, 1, 4), 3828317506, 77036676791, 823702, 8114.26, -223.8]\n",
      "[datetime.date(2016, 1, 5), 4174711678, 80349248930, 835646, 8075.11, -39.15]\n",
      "[datetime.date(2016, 1, 6), 4862380750, 99143623931, 944604, 7990.39, -84.72]\n",
      "[datetime.date(2016, 1, 7), 5920713736, 117577039714, 1151598, 7852.06, -138.33]\n",
      "[datetime.date(2016, 1, 8), 4534181205, 92853774729, 859799, 7893.97, 41.91]\n",
      "[datetime.date(2016, 1, 11), 4324346686, 85321943005, 864273, 7788.42, -105.55]\n",
      "[datetime.date(2016, 1, 12), 4774778088, 86552474918, 878969, 7768.45, -19.97]\n",
      "[datetime.date(2016, 1, 13), 4191855350, 76588652185, 785161, 7824.61, 56.16]\n",
      "[datetime.date(2016, 1, 14), 4276900082, 81779081768, 843642, 7742.88, -81.73]\n",
      "[datetime.date(2016, 1, 15), 4228452132, 90430983043, 834866, 7762.01, 19.13]\n",
      "[datetime.date(2016, 1, 18), 4556531786, 81693572616, 899532, 7811.18, 49.17]\n",
      "[datetime.date(2016, 1, 19), 4401843015, 74328444326, 777581, 7854.88, 43.7]\n",
      "[datetime.date(2016, 1, 20), 4995793415, 89909264962, 934145, 7699.12, -155.76]\n",
      "[datetime.date(2016, 1, 21), 4228018052, 73757813283, 766878, 7664.01, -35.11]\n",
      "[datetime.date(2016, 1, 22), 3770515717, 69411719214, 735234, 7756.18, 92.17]\n",
      "[datetime.date(2016, 1, 25), 3916387295, 69661237574, 721242, 7894.15, 137.97]\n",
      "[datetime.date(2016, 1, 26), 3725690246, 62349440613, 663929, 7828.67, -65.48]\n",
      "[datetime.date(2016, 1, 27), 3921538073, 70341506723, 704137, 7849.83, 21.16]\n",
      "[datetime.date(2016, 1, 28), 4225736859, 79651114076, 757225, 7905.1, 55.27]\n",
      "[datetime.date(2016, 1, 29), 5887199015, 113463518980, 991000, 8080.6, 175.5]\n",
      "[datetime.date(2016, 1, 30), 4060926553, 62496769696, 667653, 8145.21, 64.61]\n"
     ]
    }
   ],
   "source": [
    "import re\n",
    "dataRe = r'^\"\\s*\\d+/\\d+/\\d+\"'\n",
    "floatRe = r'[+-]*\\d+\\.\\d+'\n",
    "dateRe = r'\\d+/\\d+/\\d+'\n",
    "dataList = list()\n",
    "for item in stockDataList:\n",
    "    if re.match(dataRe,item):\n",
    "        #print(item)\n",
    "        dataList.append(item.split('\",\"'))\n",
    "for i, items in enumerate(dataList):\n",
    "    for j, data in enumerate(items):\n",
    "        data = data.replace('\"','')\n",
    "        data = data.replace(',','')\n",
    "        data = data.replace(' ','')\n",
    "        if data.isdigit():\n",
    "            data = int(data)\n",
    "        elif re.match(floatRe, data):\n",
    "            data = float(data)\n",
    "        elif re.match(dateRe, data):\n",
    "            y = int(data.split('/')[0])+1911\n",
    "            m = int(data.split('/')[1])\n",
    "            d = int(data.split('/')[2])\n",
    "            data = datetime.date(y, m, d)\n",
    "        #print(data)\n",
    "        dataList[i][j] = data\n",
    "for items in dataList:\n",
    "    print(items)"
   ]
  },
  {
   "cell_type": "code",
   "execution_count": 30,
   "metadata": {
    "collapsed": false
   },
   "outputs": [
    {
     "name": "stdout",
     "output_type": "stream",
     "text": [
      "aaaaaaaaa\n"
     ]
    }
   ],
   "source": [
    "b = 'aaaaaaaaa'\n",
    "b.replace('a','b')\n",
    "print(b)"
   ]
  },
  {
   "cell_type": "code",
   "execution_count": 61,
   "metadata": {
    "collapsed": false
   },
   "outputs": [
    {
     "name": "stdout",
     "output_type": "stream",
     "text": [
      "2016-01-04\n"
     ]
    }
   ],
   "source": [
    "import datetime\n",
    "a = '105/01/04'\n",
    "dateRe = r'\\d+/\\d+/\\d+'\n",
    "re.match(dateRe,a)\n",
    "y = int(a.split('/')[0])+1911\n",
    "m = int(a.split('/')[1])\n",
    "d = int(a.split('/')[2])\n",
    "dateformat = datetime.date(y, m, d)\n",
    "\n",
    "print(dateformat)\n"
   ]
  },
  {
   "cell_type": "code",
   "execution_count": 58,
   "metadata": {
    "collapsed": false
   },
   "outputs": [
    {
     "name": "stdout",
     "output_type": "stream",
     "text": [
      "2011-01-20\n"
     ]
    }
   ],
   "source": []
  },
  {
   "cell_type": "code",
   "execution_count": null,
   "metadata": {
    "collapsed": true
   },
   "outputs": [],
   "source": []
  }
 ],
 "metadata": {
  "anaconda-cloud": {},
  "kernelspec": {
   "display_name": "Python [conda root]",
   "language": "python",
   "name": "conda-root-py"
  },
  "language_info": {
   "codemirror_mode": {
    "name": "ipython",
    "version": 3
   },
   "file_extension": ".py",
   "mimetype": "text/x-python",
   "name": "python",
   "nbconvert_exporter": "python",
   "pygments_lexer": "ipython3",
   "version": "3.5.2"
  }
 },
 "nbformat": 4,
 "nbformat_minor": 1
}

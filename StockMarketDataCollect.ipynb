{
 "cells": [
  {
   "cell_type": "markdown",
   "metadata": {},
   "source": [
    "# POST method save file\n",
    "## 1. Import Modules"
   ]
  },
  {
   "cell_type": "code",
   "execution_count": 2,
   "metadata": {
    "collapsed": true
   },
   "outputs": [],
   "source": [
    "from http.client import HTTPConnection, HTTPSConnection\n",
    "import urllib.parse"
   ]
  },
  {
   "cell_type": "markdown",
   "metadata": {},
   "source": [
    "## 2. Functions \n",
    "### a. Internet Data Query\n",
    "* Using HTML POST method"
   ]
  },
  {
   "cell_type": "code",
   "execution_count": 3,
   "metadata": {
    "collapsed": false
   },
   "outputs": [],
   "source": [
    "def QueryDataPost(urlDomain, urlReq, bodyParams, headers={}, httpType='http'):\n",
    "    if httpType is 'http':\n",
    "        conn = HTTPConnection(urlDomain)\n",
    "    elif httpType is 'https':\n",
    "        conn = HTTPSConnection(urlDomain)\n",
    "    #params = urllib.parse.urlencode(bodyParams)\n",
    "    params = bodyParams\n",
    "    conn.request('POST', urlReq, params, headers)\n",
    "    connResp = conn.getresponse()\n",
    "    connReadData = connResp.read().decode('utf-8', 'ignore')\n",
    "    return connReadData"
   ]
  },
  {
   "cell_type": "markdown",
   "metadata": {},
   "source": [
    "### b. Easy List Printer"
   ]
  },
  {
   "cell_type": "code",
   "execution_count": 86,
   "metadata": {
    "collapsed": true
   },
   "outputs": [],
   "source": [
    "def printList(dataList):\n",
    "    for items in dataList:\n",
    "        print(items)"
   ]
  },
  {
   "cell_type": "markdown",
   "metadata": {},
   "source": [
    "### c. Daily Stock Data Extractor"
   ]
  },
  {
   "cell_type": "code",
   "execution_count": 105,
   "metadata": {
    "collapsed": false
   },
   "outputs": [],
   "source": [
    "def stockDayDataExtract(stockDataList):\n",
    "    dataRe = r'^\"\\s*\\d+/*\\d+/*\\d+\"'\n",
    "    floatRe = r'[+-]*\\d+\\.\\d+'\n",
    "    dateRe = r'\\d+/\\d+/\\d+'\n",
    "    dataList = list()\n",
    "    for item in stockDataList:\n",
    "        if re.match(dataRe,item):\n",
    "            dataList.append(item.split('\",\"'))\n",
    "    for i, items in enumerate(dataList):\n",
    "        for j, data in enumerate(items):\n",
    "            data = data.replace('\"','')\n",
    "            data = data.replace(',','')\n",
    "            data = data.replace(' ','')\n",
    "            if data.isdigit():\n",
    "                data = int(data)\n",
    "            elif re.match(floatRe, data):\n",
    "                data = float(data)\n",
    "            elif re.match(dateRe, data):\n",
    "                y = int(data.split('/')[0])+1911\n",
    "                m = int(data.split('/')[1])\n",
    "                d = int(data.split('/')[2])\n",
    "                data = datetime.date(y, m, d)\n",
    "            #print(data)\n",
    "            dataList[i][j] = data\n",
    "    return dataList"
   ]
  },
  {
   "cell_type": "markdown",
   "metadata": {},
   "source": [
    "## 3. Variables"
   ]
  },
  {
   "cell_type": "code",
   "execution_count": 112,
   "metadata": {
    "collapsed": false
   },
   "outputs": [],
   "source": [
    "#####Main Variables#####\n",
    "downloadType = 'csv'\n",
    "tesDomain = 'www.tse.com.tw'\n",
    "headers = {\"Content-type\": \"application/x-www-form-urlencoded\",\"Accept\": \"text/plain\"}\n",
    "fulMarketTradeTitle = [\"Date\",\"Trade Volume\",\"Trade Value\",\"Transaction\",\"TAIEX\",\"Change\"]\n",
    "singleStockDayTitle = [\"Date\",\"Trade Volume\",\"Trade Value\",\"Opening Price\",\"Highest Price\",\\\n",
    "                       \"Lowest Price\",\"Closing Price\",\"Change\",\"Transaction\"]\n",
    "\n",
    "fulMarketTradeAPI = '/en/trading/exchange/FMTQIK/FMTQIK.php'\n",
    "singleStocDaykAPI = '/en/trading/exchange/STOCK_DAY/STOCK_DAYMAIN.php'\n",
    "fulMarketTradeParams = 'download=csv&query_year=%d&query_month=%d' % (year, month)\n",
    "singleStockDayParams = 'download=csv&query_year=%d&query_month=%d&CO_ID=%d' % (year, month, stockNo)\n",
    "\n",
    "\n",
    "#####Changeable Variables#####\n",
    "year = 2016\n",
    "month = 12\n",
    "stockNo = 2454"
   ]
  },
  {
   "cell_type": "markdown",
   "metadata": {},
   "source": [
    "# %%%Code Tester%%%"
   ]
  },
  {
   "cell_type": "code",
   "execution_count": 106,
   "metadata": {
    "collapsed": false
   },
   "outputs": [
    {
     "name": "stdout",
     "output_type": "stream",
     "text": [
      "[datetime.date(2016, 12, 1), 3937128, 878738724, 223.0, 224.5, 221.5, 224.5, 3.0, 2813]\n",
      "[datetime.date(2016, 12, 2), 4814107, 1078670735, 224.0, 226.0, 222.0, 225.0, 0.5, 2843]\n",
      "[datetime.date(2016, 12, 5), 3168375, 711465375, 226.0, 226.0, 223.0, 223.5, -1.5, 2376]\n",
      "[datetime.date(2016, 12, 6), 4684648, 1059886300, 226.0, 228.0, 225.0, 226.0, 2.5, 3213]\n",
      "[datetime.date(2016, 12, 7), 4606364, 1039578264, 228.0, 228.0, 224.0, 225.0, -1.0, 3251]\n",
      "[datetime.date(2016, 12, 8), 7816169, 1786804264, 226.0, 230.0, 225.5, 230.0, 5.0, 4774]\n",
      "[datetime.date(2016, 12, 9), 5128219, 1179261959, 230.0, 231.0, 228.0, 230.5, 0.5, 3069]\n",
      "[datetime.date(2016, 12, 12), 4423938, 1020691261, 232.0, 233.0, 229.0, 229.5, -1.0, 3006]\n",
      "[datetime.date(2016, 12, 13), 4148386, 948192394, 229.0, 229.5, 227.5, 228.5, -1.0, 2852]\n",
      "[datetime.date(2016, 12, 14), 7995707, 1810175082, 229.5, 230.0, 223.5, 225.0, -3.5, 4702]\n",
      "[datetime.date(2016, 12, 15), 4679063, 1057653364, 224.5, 228.5, 223.0, 228.0, 3.0, 3254]\n",
      "[datetime.date(2016, 12, 16), 4250759, 965895905, 227.0, 229.0, 226.0, 226.0, -2.0, 2429]\n",
      "[datetime.date(2016, 12, 19), 3104404, 687054708, 226.0, 226.0, 223.5, 224.0, -2.0, 1855]\n",
      "[datetime.date(2016, 12, 20), 8885481, 1936996801, 222.0, 222.0, 215.0, 219.5, -4.5, 5788]\n",
      "[datetime.date(2016, 12, 21), 4963751, 1083307718, 219.5, 221.0, 216.5, 216.5, -3.0, 3149]\n",
      "[datetime.date(2016, 12, 22), 4238350, 921253108, 216.5, 218.5, 216.0, 217.0, 0.5, 2685]\n",
      "[datetime.date(2016, 12, 23), 4039860, 875311042, 217.0, 218.0, 216.0, 216.5, -0.5, 2708]\n",
      "[datetime.date(2016, 12, 26), 3087344, 664849463, 214.0, 216.5, 214.0, 216.0, -0.5, 2064]\n",
      "[datetime.date(2016, 12, 27), 2066712, 448707066, 216.0, 218.5, 215.5, 218.0, 2.0, 1391]\n",
      "[datetime.date(2016, 12, 28), 2982219, 649830348, 218.0, 219.5, 216.5, 218.5, 0.5, 2040]\n",
      "[datetime.date(2016, 12, 29), 3604394, 781847498, 218.0, 218.5, 216.0, 216.5, -2.0, 2217]\n",
      "[datetime.date(2016, 12, 30), 3800961, 825466509, 218.5, 219.0, 216.5, 216.5, 0.0, 1920]\n"
     ]
    }
   ],
   "source": [
    "stockData = QueryDataPost(tesDomain, fulMarketTradeAPI, fulMarketTradeParams, headers)\n",
    "stockDataList = stockData.split('\\n')\n",
    "MediatekStock = QueryDataPost(tesDomain, singleStocDaykAPI, singleStockParams, headers)\n",
    "MediatekStockList = MediatekStock.split('\\n')\n",
    "printList(MediatekStockList)\n",
    "MTK201612 = stockDataExtract(MediatekStockList)\n",
    "printList(MTK201612)"
   ]
  },
  {
   "cell_type": "markdown",
   "metadata": {},
   "source": [
    "# Appendix"
   ]
  },
  {
   "cell_type": "markdown",
   "metadata": {},
   "source": [
    "## Test Code"
   ]
  },
  {
   "cell_type": "code",
   "execution_count": 24,
   "metadata": {
    "collapsed": false
   },
   "outputs": [
    {
     "name": "stdout",
     "output_type": "stream",
     "text": [
      "106~02 T (A)\n",
      "\"\",\"Ѽ\",\"B\",\"浧\",\"oq[vѻ\",\"^I\"\n",
      "\" 106/02/02\",\"5,119,534,614\",\"147,930,853,630\",\"1,131,546\",\"9,428.97\",\"-18.98\",\n",
      "\" 106/02/03\",\"5,068,371,711\",\"102,335,722,986\",\"1,056,855\",\"9,455.56\",\"26.59\",\n",
      "\" 106/02/06\",\"5,510,906,552\",\"102,352,501,152\",\"1,076,125\",\"9,538.01\",\"82.45\",\n",
      "\" 106/02/07\",\"4,932,873,379\",\"95,709,593,373\",\"988,506\",\"9,554.56\",\"16.55\",\n",
      "\" 106/02/08\",\"5,300,856,389\",\"110,729,308,207\",\"1,082,850\",\"9,543.25\",\"-11.31\",\n",
      "\" 106/02/09\",\"5,264,593,609\",\"106,237,084,984\",\"1,038,404\",\"9,590.18\",\"46.93\",\n",
      "\" 106/02/10\",\"6,240,806,015\",\"136,811,826,048\",\"1,209,286\",\"9,665.59\",\"75.41\",\n",
      "\" 106/02/13\",\"5,255,562,269\",\"101,177,702,355\",\"1,023,598\",\"9,710.32\",\"44.73\",\n",
      "\" 106/02/14\",\"5,531,133,656\",\"113,724,121,218\",\"1,072,534\",\"9,718.78\",\"8.46\",\n",
      "\" 106/02/15\",\"5,748,794,719\",\"117,918,064,389\",\"1,165,369\",\"9,799.76\",\"80.98\",\n",
      "\" 106/02/16\",\"5,167,818,860\",\"108,303,272,962\",\"1,033,581\",\"9,771.25\",\"-28.51\",\n",
      "\" 106/02/17\",\"4,358,105,024\",\"95,178,870,089\",\"916,682\",\"9,759.76\",\"-11.49\",\n",
      "\" 106/02/18\",\"3,411,356,161\",\"61,980,819,056\",\"664,672\",\"9,779.92\",\"20.16\",\n",
      "\" 106/02/20\",\"4,750,607,829\",\"97,817,579,999\",\"996,037\",\"9,753.20\",\"-26.72\",\n",
      "\" 106/02/21\",\"4,604,650,193\",\"90,064,360,265\",\"935,626\",\"9,763.93\",\"10.73\",\n",
      "\" 106/02/22\",\"4,853,832,134\",\"101,274,785,349\",\"975,734\",\"9,778.78\",\"14.85\",\n",
      "\" 106/02/23\",\"4,655,622,523\",\"101,065,671,309\",\"966,823\",\"9,769.31\",\"-9.47\",\n",
      "\" 106/02/24\",\"4,221,089,121\",\"92,653,105,234\",\"887,717\",\"9,750.47\",\"-18.84\",\n",
      "\"G\"\n",
      "\"1. έpTtjLBsѡBLwιdBAtBʡC\n",
      "\"2. ~]tH^ȫYHqU330iHIsOײv[JBC\n",
      "\n"
     ]
    }
   ],
   "source": [
    "url_req = '/ch/trading/exchange/FMTQIK/FMTQIK.php'\n",
    "params = urllib.parse.urlencode({'download':'csv', 'query_year':2017, 'query_month':2})\n",
    "headers = {\"Content-type\": \"application/x-www-form-urlencoded\",\"Accept\": \"text/plain\"}\n",
    "conn = HTTPConnection('www.tse.com.tw')\n",
    "web = conn.request('POST', url_req, params, headers)\n",
    "abc = conn.getresponse()\n",
    "d = abc.read().decode('utf-8', 'ignore')\n",
    "print(d)"
   ]
  },
  {
   "cell_type": "code",
   "execution_count": 3,
   "metadata": {
    "collapsed": true
   },
   "outputs": [],
   "source": [
    "import urllib.request"
   ]
  },
  {
   "cell_type": "code",
   "execution_count": 8,
   "metadata": {
    "collapsed": false
   },
   "outputs": [
    {
     "name": "stdout",
     "output_type": "stream",
     "text": [
      "http://www.tse.com.tw/ch/trading/exchange/FMTQIK/FMTQIK.php?download=csv&query_year=2017&query_month=1\n",
      "http://www.tse.com.tw/ch/trading/exchange/FMTQIK/FMTQIK.php?download=csv&query_year=2017&query_month=2\n"
     ]
    }
   ],
   "source": [
    "fullmarket_api = 'http://www.tse.com.tw/ch/trading/exchange/FMTQIK/FMTQIK.php'\n",
    "for month in range(1,3):\n",
    "    for year in range(2017,2018):\n",
    "        fullmarket_query = 'download=csv&query_year=%d&query_month=%d' % (year, month)\n",
    "        fullmarket_url = fullmarket_api + '?' + fullmarket_query\n",
    "        print(fullmarket_url)\n",
    "        saveFile = str(year) + str(month) + '.csv'\n",
    "        #urllib.request.urlretrieve(fullmarket_url, saveFile)"
   ]
  },
  {
   "cell_type": "code",
   "execution_count": null,
   "metadata": {
    "collapsed": true
   },
   "outputs": [],
   "source": [
    "from http.client import HTTPConnection\n",
    "import urllib.parse"
   ]
  },
  {
   "cell_type": "code",
   "execution_count": 62,
   "metadata": {
    "collapsed": false
   },
   "outputs": [
    {
     "name": "stdout",
     "output_type": "stream",
     "text": [
      "[datetime.date(2016, 1, 4), 3828317506, 77036676791, 823702, 8114.26, -223.8]\n",
      "[datetime.date(2016, 1, 5), 4174711678, 80349248930, 835646, 8075.11, -39.15]\n",
      "[datetime.date(2016, 1, 6), 4862380750, 99143623931, 944604, 7990.39, -84.72]\n",
      "[datetime.date(2016, 1, 7), 5920713736, 117577039714, 1151598, 7852.06, -138.33]\n",
      "[datetime.date(2016, 1, 8), 4534181205, 92853774729, 859799, 7893.97, 41.91]\n",
      "[datetime.date(2016, 1, 11), 4324346686, 85321943005, 864273, 7788.42, -105.55]\n",
      "[datetime.date(2016, 1, 12), 4774778088, 86552474918, 878969, 7768.45, -19.97]\n",
      "[datetime.date(2016, 1, 13), 4191855350, 76588652185, 785161, 7824.61, 56.16]\n",
      "[datetime.date(2016, 1, 14), 4276900082, 81779081768, 843642, 7742.88, -81.73]\n",
      "[datetime.date(2016, 1, 15), 4228452132, 90430983043, 834866, 7762.01, 19.13]\n",
      "[datetime.date(2016, 1, 18), 4556531786, 81693572616, 899532, 7811.18, 49.17]\n",
      "[datetime.date(2016, 1, 19), 4401843015, 74328444326, 777581, 7854.88, 43.7]\n",
      "[datetime.date(2016, 1, 20), 4995793415, 89909264962, 934145, 7699.12, -155.76]\n",
      "[datetime.date(2016, 1, 21), 4228018052, 73757813283, 766878, 7664.01, -35.11]\n",
      "[datetime.date(2016, 1, 22), 3770515717, 69411719214, 735234, 7756.18, 92.17]\n",
      "[datetime.date(2016, 1, 25), 3916387295, 69661237574, 721242, 7894.15, 137.97]\n",
      "[datetime.date(2016, 1, 26), 3725690246, 62349440613, 663929, 7828.67, -65.48]\n",
      "[datetime.date(2016, 1, 27), 3921538073, 70341506723, 704137, 7849.83, 21.16]\n",
      "[datetime.date(2016, 1, 28), 4225736859, 79651114076, 757225, 7905.1, 55.27]\n",
      "[datetime.date(2016, 1, 29), 5887199015, 113463518980, 991000, 8080.6, 175.5]\n",
      "[datetime.date(2016, 1, 30), 4060926553, 62496769696, 667653, 8145.21, 64.61]\n"
     ]
    }
   ],
   "source": [
    "import re\n",
    "dataRe = r'^\"\\s*\\d+/\\d+/\\d+\"'\n",
    "floatRe = r'[+-]*\\d+\\.\\d+'\n",
    "dateRe = r'\\d+/\\d+/\\d+'\n",
    "dataList = list()\n",
    "for item in stockDataList:\n",
    "    if re.match(dataRe,item):\n",
    "        #print(item)\n",
    "        dataList.append(item.split('\",\"'))\n",
    "for i, items in enumerate(dataList):\n",
    "    for j, data in enumerate(items):\n",
    "        data = data.replace('\"','')\n",
    "        data = data.replace(',','')\n",
    "        data = data.replace(' ','')\n",
    "        if data.isdigit():\n",
    "            data = int(data)\n",
    "        elif re.match(floatRe, data):\n",
    "            data = float(data)\n",
    "        elif re.match(dateRe, data):\n",
    "            y = int(data.split('/')[0])+1911\n",
    "            m = int(data.split('/')[1])\n",
    "            d = int(data.split('/')[2])\n",
    "            data = datetime.date(y, m, d)\n",
    "        #print(data)\n",
    "        dataList[i][j] = data\n",
    "for items in dataList:\n",
    "    print(items)"
   ]
  },
  {
   "cell_type": "code",
   "execution_count": 30,
   "metadata": {
    "collapsed": false
   },
   "outputs": [
    {
     "name": "stdout",
     "output_type": "stream",
     "text": [
      "aaaaaaaaa\n"
     ]
    }
   ],
   "source": [
    "b = 'aaaaaaaaa'\n",
    "b.replace('a','b')\n",
    "print(b)"
   ]
  },
  {
   "cell_type": "code",
   "execution_count": 61,
   "metadata": {
    "collapsed": false
   },
   "outputs": [
    {
     "name": "stdout",
     "output_type": "stream",
     "text": [
      "2016-01-04\n"
     ]
    }
   ],
   "source": [
    "import datetime\n",
    "a = '105/01/04'\n",
    "dateRe = r'\\d+/\\d+/\\d+'\n",
    "re.match(dateRe,a)\n",
    "y = int(a.split('/')[0])+1911\n",
    "m = int(a.split('/')[1])\n",
    "d = int(a.split('/')[2])\n",
    "dateformat = datetime.date(y, m, d)\n",
    "\n",
    "print(dateformat)\n"
   ]
  },
  {
   "cell_type": "code",
   "execution_count": 58,
   "metadata": {
    "collapsed": false
   },
   "outputs": [
    {
     "name": "stdout",
     "output_type": "stream",
     "text": [
      "2011-01-20\n"
     ]
    }
   ],
   "source": []
  },
  {
   "cell_type": "code",
   "execution_count": null,
   "metadata": {
    "collapsed": true
   },
   "outputs": [],
   "source": []
  }
 ],
 "metadata": {
  "anaconda-cloud": {},
  "kernelspec": {
   "display_name": "Python [conda root]",
   "language": "python",
   "name": "conda-root-py"
  },
  "language_info": {
   "codemirror_mode": {
    "name": "ipython",
    "version": 3
   },
   "file_extension": ".py",
   "mimetype": "text/x-python",
   "name": "python",
   "nbconvert_exporter": "python",
   "pygments_lexer": "ipython3",
   "version": "3.5.2"
  }
 },
 "nbformat": 4,
 "nbformat_minor": 1
}

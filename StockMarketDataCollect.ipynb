{
 "cells": [
  {
   "cell_type": "markdown",
   "metadata": {},
   "source": [
    "# GET method save file"
   ]
  },
  {
   "cell_type": "code",
   "execution_count": 3,
   "metadata": {
    "collapsed": true
   },
   "outputs": [],
   "source": [
    "import urllib.request"
   ]
  },
  {
   "cell_type": "code",
   "execution_count": 8,
   "metadata": {
    "collapsed": false
   },
   "outputs": [
    {
     "name": "stdout",
     "output_type": "stream",
     "text": [
      "http://www.tse.com.tw/ch/trading/exchange/FMTQIK/FMTQIK.php?download=csv&query_year=2017&query_month=1\n",
      "http://www.tse.com.tw/ch/trading/exchange/FMTQIK/FMTQIK.php?download=csv&query_year=2017&query_month=2\n"
     ]
    }
   ],
   "source": [
    "fullmarket_api = 'http://www.tse.com.tw/ch/trading/exchange/FMTQIK/FMTQIK.php'\n",
    "for month in range(1,3):\n",
    "    for year in range(2017,2018):\n",
    "        fullmarket_query = 'download=csv&query_year=%d&query_month=%d' % (year, month)\n",
    "        fullmarket_url = fullmarket_api + '?' + fullmarket_query\n",
    "        print(fullmarket_url)\n",
    "        saveFile = str(year) + str(month) + '.csv'\n",
    "        #urllib.request.urlretrieve(fullmarket_url, saveFile)"
   ]
  },
  {
   "cell_type": "markdown",
   "metadata": {},
   "source": [
    "# POST method save file"
   ]
  },
  {
   "cell_type": "code",
   "execution_count": 22,
   "metadata": {
    "collapsed": true
   },
   "outputs": [],
   "source": [
    "from http.client import HTTPConnection\n",
    "import urllib.parse"
   ]
  },
  {
   "cell_type": "code",
   "execution_count": 35,
   "metadata": {
    "collapsed": false
   },
   "outputs": [
    {
     "name": "stdout",
     "output_type": "stream",
     "text": [
      "106~02 T (A)\n",
      "\"\",\"Ѽ\",\"B\",\"浧\",\"oq[vѻ\",\"^I\"\n",
      "\" 106/02/02\",\"5,119,534,614\",\"147,930,853,630\",\"1,131,546\",\"9,428.97\",\"-18.98\",\n",
      "\" 106/02/03\",\"5,068,371,711\",\"102,335,722,986\",\"1,056,855\",\"9,455.56\",\"26.59\",\n",
      "\" 106/02/06\",\"5,510,906,552\",\"102,352,501,152\",\"1,076,125\",\"9,538.01\",\"82.45\",\n",
      "\" 106/02/07\",\"4,932,873,379\",\"95,709,593,373\",\"988,506\",\"9,554.56\",\"16.55\",\n",
      "\" 106/02/08\",\"5,300,856,389\",\"110,729,308,207\",\"1,082,850\",\"9,543.25\",\"-11.31\",\n",
      "\" 106/02/09\",\"5,264,593,609\",\"106,237,084,984\",\"1,038,404\",\"9,590.18\",\"46.93\",\n",
      "\" 106/02/10\",\"6,240,806,015\",\"136,811,826,048\",\"1,209,286\",\"9,665.59\",\"75.41\",\n",
      "\" 106/02/13\",\"5,255,562,269\",\"101,177,702,355\",\"1,023,598\",\"9,710.32\",\"44.73\",\n",
      "\" 106/02/14\",\"5,531,133,656\",\"113,724,121,218\",\"1,072,534\",\"9,718.78\",\"8.46\",\n",
      "\" 106/02/15\",\"5,748,794,719\",\"117,918,064,389\",\"1,165,369\",\"9,799.76\",\"80.98\",\n",
      "\" 106/02/16\",\"5,167,818,860\",\"108,303,272,962\",\"1,033,581\",\"9,771.25\",\"-28.51\",\n",
      "\" 106/02/17\",\"4,358,105,024\",\"95,178,870,089\",\"916,682\",\"9,759.76\",\"-11.49\",\n",
      "\" 106/02/18\",\"3,411,356,161\",\"61,980,819,056\",\"664,672\",\"9,779.92\",\"20.16\",\n",
      "\" 106/02/20\",\"4,750,607,829\",\"97,817,579,999\",\"996,037\",\"9,753.20\",\"-26.72\",\n",
      "\" 106/02/21\",\"4,604,650,193\",\"90,064,360,265\",\"935,626\",\"9,763.93\",\"10.73\",\n",
      "\" 106/02/22\",\"4,853,832,134\",\"101,274,785,349\",\"975,734\",\"9,778.78\",\"14.85\",\n",
      "\" 106/02/23\",\"4,655,622,523\",\"101,065,671,309\",\"966,823\",\"9,769.31\",\"-9.47\",\n",
      "\" 106/02/24\",\"4,221,089,121\",\"92,653,105,234\",\"887,717\",\"9,750.47\",\"-18.84\",\n",
      "\"G\"\n",
      "\"1. έpTtjLBsѡBLwιdBAtBʡC\n",
      "\"2. ~]tH^ȫYHqU330iHIsOײv[JBC\n",
      "\n"
     ]
    }
   ],
   "source": [
    "url_req = '/ch/trading/exchange/FMTQIK/FMTQIK.php'\n",
    "params = urllib.parse.urlencode({'download':'csv', 'query_year':2017, 'query_month':2})\n",
    "headers = {\"Content-type\": \"application/x-www-form-urlencoded\",\"Accept\": \"text/plain\"}\n",
    "conn = HTTPConnection('www.tse.com.tw')\n",
    "web = conn.request('POST', url_req, params, headers)\n",
    "abc = conn.getresponse()\n",
    "d = abc.read().decode('utf-8', 'ignore')\n",
    "print(d)"
   ]
  }
 ],
 "metadata": {
  "anaconda-cloud": {},
  "kernelspec": {
   "display_name": "Python [conda root]",
   "language": "python",
   "name": "conda-root-py"
  },
  "language_info": {
   "codemirror_mode": {
    "name": "ipython",
    "version": 3
   },
   "file_extension": ".py",
   "mimetype": "text/x-python",
   "name": "python",
   "nbconvert_exporter": "python",
   "pygments_lexer": "ipython3",
   "version": "3.5.2"
  }
 },
 "nbformat": 4,
 "nbformat_minor": 1
}
